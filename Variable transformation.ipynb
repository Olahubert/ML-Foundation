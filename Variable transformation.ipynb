{
 "cells": [
  {
   "cell_type": "code",
   "execution_count": null,
   "id": "61e1e5fd",
   "metadata": {},
   "outputs": [],
   "source": [
    "#Standardization /Formula: (x - mean(X)) / std(X) "
   ]
  },
  {
   "cell_type": "code",
   "execution_count": 2,
   "id": "824a73b2",
   "metadata": {},
   "outputs": [],
   "source": [
    "import pandas as pd"
   ]
  },
  {
   "cell_type": "code",
   "execution_count": 3,
   "id": "b66940a2",
   "metadata": {},
   "outputs": [],
   "source": [
    "import numpy as np"
   ]
  },
  {
   "cell_type": "code",
   "execution_count": 4,
   "id": "9844cec0",
   "metadata": {},
   "outputs": [],
   "source": [
    "TIP=pd.read_csv('tip.csv')"
   ]
  },
  {
   "cell_type": "code",
   "execution_count": 5,
   "id": "e9f1aac1",
   "metadata": {},
   "outputs": [
    {
     "data": {
      "text/html": [
       "<div>\n",
       "<style scoped>\n",
       "    .dataframe tbody tr th:only-of-type {\n",
       "        vertical-align: middle;\n",
       "    }\n",
       "\n",
       "    .dataframe tbody tr th {\n",
       "        vertical-align: top;\n",
       "    }\n",
       "\n",
       "    .dataframe thead th {\n",
       "        text-align: right;\n",
       "    }\n",
       "</style>\n",
       "<table border=\"1\" class=\"dataframe\">\n",
       "  <thead>\n",
       "    <tr style=\"text-align: right;\">\n",
       "      <th></th>\n",
       "      <th>total_bill</th>\n",
       "      <th>tip</th>\n",
       "      <th>sex</th>\n",
       "      <th>smoker</th>\n",
       "      <th>day</th>\n",
       "      <th>time</th>\n",
       "      <th>size</th>\n",
       "    </tr>\n",
       "  </thead>\n",
       "  <tbody>\n",
       "    <tr>\n",
       "      <th>0</th>\n",
       "      <td>16.99</td>\n",
       "      <td>1.01</td>\n",
       "      <td>Female</td>\n",
       "      <td>No</td>\n",
       "      <td>Sun</td>\n",
       "      <td>Dinner</td>\n",
       "      <td>2</td>\n",
       "    </tr>\n",
       "    <tr>\n",
       "      <th>1</th>\n",
       "      <td>10.34</td>\n",
       "      <td>1.66</td>\n",
       "      <td>Male</td>\n",
       "      <td>No</td>\n",
       "      <td>Sun</td>\n",
       "      <td>Dinner</td>\n",
       "      <td>3</td>\n",
       "    </tr>\n",
       "    <tr>\n",
       "      <th>2</th>\n",
       "      <td>21.01</td>\n",
       "      <td>3.50</td>\n",
       "      <td>Male</td>\n",
       "      <td>No</td>\n",
       "      <td>Sun</td>\n",
       "      <td>Dinner</td>\n",
       "      <td>3</td>\n",
       "    </tr>\n",
       "    <tr>\n",
       "      <th>3</th>\n",
       "      <td>23.68</td>\n",
       "      <td>3.31</td>\n",
       "      <td>Male</td>\n",
       "      <td>No</td>\n",
       "      <td>Sun</td>\n",
       "      <td>Dinner</td>\n",
       "      <td>2</td>\n",
       "    </tr>\n",
       "    <tr>\n",
       "      <th>4</th>\n",
       "      <td>24.59</td>\n",
       "      <td>3.61</td>\n",
       "      <td>Female</td>\n",
       "      <td>No</td>\n",
       "      <td>Sun</td>\n",
       "      <td>Dinner</td>\n",
       "      <td>4</td>\n",
       "    </tr>\n",
       "    <tr>\n",
       "      <th>...</th>\n",
       "      <td>...</td>\n",
       "      <td>...</td>\n",
       "      <td>...</td>\n",
       "      <td>...</td>\n",
       "      <td>...</td>\n",
       "      <td>...</td>\n",
       "      <td>...</td>\n",
       "    </tr>\n",
       "    <tr>\n",
       "      <th>239</th>\n",
       "      <td>29.03</td>\n",
       "      <td>5.92</td>\n",
       "      <td>Male</td>\n",
       "      <td>No</td>\n",
       "      <td>Sat</td>\n",
       "      <td>Dinner</td>\n",
       "      <td>3</td>\n",
       "    </tr>\n",
       "    <tr>\n",
       "      <th>240</th>\n",
       "      <td>27.18</td>\n",
       "      <td>2.00</td>\n",
       "      <td>Female</td>\n",
       "      <td>Yes</td>\n",
       "      <td>Sat</td>\n",
       "      <td>Dinner</td>\n",
       "      <td>2</td>\n",
       "    </tr>\n",
       "    <tr>\n",
       "      <th>241</th>\n",
       "      <td>22.67</td>\n",
       "      <td>2.00</td>\n",
       "      <td>Male</td>\n",
       "      <td>Yes</td>\n",
       "      <td>Sat</td>\n",
       "      <td>Dinner</td>\n",
       "      <td>2</td>\n",
       "    </tr>\n",
       "    <tr>\n",
       "      <th>242</th>\n",
       "      <td>17.82</td>\n",
       "      <td>1.75</td>\n",
       "      <td>Male</td>\n",
       "      <td>No</td>\n",
       "      <td>Sat</td>\n",
       "      <td>Dinner</td>\n",
       "      <td>2</td>\n",
       "    </tr>\n",
       "    <tr>\n",
       "      <th>243</th>\n",
       "      <td>18.78</td>\n",
       "      <td>3.00</td>\n",
       "      <td>Female</td>\n",
       "      <td>No</td>\n",
       "      <td>Thur</td>\n",
       "      <td>Dinner</td>\n",
       "      <td>2</td>\n",
       "    </tr>\n",
       "  </tbody>\n",
       "</table>\n",
       "<p>244 rows × 7 columns</p>\n",
       "</div>"
      ],
      "text/plain": [
       "     total_bill   tip     sex smoker   day    time  size\n",
       "0         16.99  1.01  Female     No   Sun  Dinner     2\n",
       "1         10.34  1.66    Male     No   Sun  Dinner     3\n",
       "2         21.01  3.50    Male     No   Sun  Dinner     3\n",
       "3         23.68  3.31    Male     No   Sun  Dinner     2\n",
       "4         24.59  3.61  Female     No   Sun  Dinner     4\n",
       "..          ...   ...     ...    ...   ...     ...   ...\n",
       "239       29.03  5.92    Male     No   Sat  Dinner     3\n",
       "240       27.18  2.00  Female    Yes   Sat  Dinner     2\n",
       "241       22.67  2.00    Male    Yes   Sat  Dinner     2\n",
       "242       17.82  1.75    Male     No   Sat  Dinner     2\n",
       "243       18.78  3.00  Female     No  Thur  Dinner     2\n",
       "\n",
       "[244 rows x 7 columns]"
      ]
     },
     "execution_count": 5,
     "metadata": {},
     "output_type": "execute_result"
    }
   ],
   "source": [
    "TIP"
   ]
  },
  {
   "cell_type": "code",
   "execution_count": null,
   "id": "01a692dc",
   "metadata": {},
   "outputs": [],
   "source": [
    "#total_bill"
   ]
  },
  {
   "cell_type": "code",
   "execution_count": 6,
   "id": "b4dfe33b",
   "metadata": {},
   "outputs": [
    {
     "data": {
      "text/plain": [
       "0      16.99\n",
       "1      10.34\n",
       "2      21.01\n",
       "3      23.68\n",
       "4      24.59\n",
       "       ...  \n",
       "239    29.03\n",
       "240    27.18\n",
       "241    22.67\n",
       "242    17.82\n",
       "243    18.78\n",
       "Name: total_bill, Length: 244, dtype: float64"
      ]
     },
     "execution_count": 6,
     "metadata": {},
     "output_type": "execute_result"
    }
   ],
   "source": [
    "TIP['total_bill']"
   ]
  },
  {
   "cell_type": "code",
   "execution_count": 8,
   "id": "509f61fa",
   "metadata": {},
   "outputs": [],
   "source": [
    "T_bill=TIP['total_bill']"
   ]
  },
  {
   "cell_type": "code",
   "execution_count": 9,
   "id": "d776f0ef",
   "metadata": {},
   "outputs": [],
   "source": [
    "mean=T_bill.mean()"
   ]
  },
  {
   "cell_type": "code",
   "execution_count": 10,
   "id": "0078611d",
   "metadata": {},
   "outputs": [
    {
     "data": {
      "text/plain": [
       "19.78594262295082"
      ]
     },
     "execution_count": 10,
     "metadata": {},
     "output_type": "execute_result"
    }
   ],
   "source": [
    "mean"
   ]
  },
  {
   "cell_type": "code",
   "execution_count": 12,
   "id": "af23bdcb",
   "metadata": {},
   "outputs": [
    {
     "data": {
      "text/plain": [
       "8.902411954856856"
      ]
     },
     "execution_count": 12,
     "metadata": {},
     "output_type": "execute_result"
    }
   ],
   "source": [
    "std=T_bill.std()\n",
    "std"
   ]
  },
  {
   "cell_type": "code",
   "execution_count": null,
   "id": "707061b5",
   "metadata": {},
   "outputs": [],
   "source": [
    "#Standardize column  /(x - mean(X)) / std(X) "
   ]
  },
  {
   "cell_type": "code",
   "execution_count": 17,
   "id": "4d2df2fd",
   "metadata": {},
   "outputs": [
    {
     "data": {
      "text/plain": [
       "0      14.766404\n",
       "1       8.116404\n",
       "2      18.786404\n",
       "3      21.456404\n",
       "4      22.366404\n",
       "         ...    \n",
       "239    26.806404\n",
       "240    24.956404\n",
       "241    20.446404\n",
       "242    15.596404\n",
       "243    16.556404\n",
       "Name: total_bill, Length: 244, dtype: float64"
      ]
     },
     "execution_count": 17,
     "metadata": {},
     "output_type": "execute_result"
    }
   ],
   "source": [
    "Standardized_Value= T_bill-19.79 /8.90\n",
    "Standardized_Value"
   ]
  },
  {
   "cell_type": "code",
   "execution_count": 19,
   "id": "97f0c06c",
   "metadata": {},
   "outputs": [],
   "source": [
    "TIP['newColumn']=T_bill"
   ]
  },
  {
   "cell_type": "code",
   "execution_count": null,
   "id": "61ce0acf",
   "metadata": {},
   "outputs": [],
   "source": [
    "#tip"
   ]
  },
  {
   "cell_type": "code",
   "execution_count": 21,
   "id": "d8510c22",
   "metadata": {},
   "outputs": [],
   "source": [
    "Tip_C=TIP['tip']"
   ]
  },
  {
   "cell_type": "code",
   "execution_count": 23,
   "id": "7f390e2d",
   "metadata": {},
   "outputs": [
    {
     "data": {
      "text/plain": [
       "2.99827868852459"
      ]
     },
     "execution_count": 23,
     "metadata": {},
     "output_type": "execute_result"
    }
   ],
   "source": [
    "mean=Tip_C.mean()\n",
    "mean"
   ]
  },
  {
   "cell_type": "code",
   "execution_count": 24,
   "id": "4e1be59d",
   "metadata": {},
   "outputs": [
    {
     "data": {
      "text/plain": [
       "1.3836381890011826"
      ]
     },
     "execution_count": 24,
     "metadata": {},
     "output_type": "execute_result"
    }
   ],
   "source": [
    "std=Tip_C.std()\n",
    "std"
   ]
  },
  {
   "cell_type": "code",
   "execution_count": null,
   "id": "736928e5",
   "metadata": {},
   "outputs": [],
   "source": [
    "#Standardize column  /(x - mean(X)) / std(X) Or abs(x - mean(X)) / std(X))"
   ]
  },
  {
   "cell_type": "code",
   "execution_count": 27,
   "id": "aec65b4a",
   "metadata": {},
   "outputs": [
    {
     "data": {
      "text/plain": [
       "0      0.656667\n",
       "1      0.006667\n",
       "2      1.833333\n",
       "3      1.643333\n",
       "4      1.943333\n",
       "         ...   \n",
       "239    4.253333\n",
       "240    0.333333\n",
       "241    0.333333\n",
       "242    0.083333\n",
       "243    1.333333\n",
       "Name: tip, Length: 244, dtype: float64"
      ]
     },
     "execution_count": 27,
     "metadata": {},
     "output_type": "execute_result"
    }
   ],
   "source": [
    "Standardized_Tip_C= abs(Tip_C-2.30 /1.38)\n",
    "Standardized_Tip_C"
   ]
  },
  {
   "cell_type": "code",
   "execution_count": 28,
   "id": "d692c685",
   "metadata": {},
   "outputs": [],
   "source": [
    "TIP['newColumn']=Tip_C"
   ]
  },
  {
   "cell_type": "code",
   "execution_count": 29,
   "id": "4f964b46",
   "metadata": {},
   "outputs": [],
   "source": [
    "#size\n",
    "Size_C=TIP['size']"
   ]
  },
  {
   "cell_type": "code",
   "execution_count": 30,
   "id": "7dfb3a03",
   "metadata": {},
   "outputs": [
    {
     "data": {
      "text/plain": [
       "2.569672131147541"
      ]
     },
     "execution_count": 30,
     "metadata": {},
     "output_type": "execute_result"
    }
   ],
   "source": [
    "mean=Size_C.mean()\n",
    "mean"
   ]
  },
  {
   "cell_type": "code",
   "execution_count": 31,
   "id": "dfa33f7c",
   "metadata": {},
   "outputs": [
    {
     "data": {
      "text/plain": [
       "0.9510998047322332"
      ]
     },
     "execution_count": 31,
     "metadata": {},
     "output_type": "execute_result"
    }
   ],
   "source": [
    "std=Size_C.std()\n",
    "std"
   ]
  },
  {
   "cell_type": "code",
   "execution_count": null,
   "id": "dc045c96",
   "metadata": {},
   "outputs": [],
   "source": [
    "#Standardize column  /(x - mean(X)) / std(X) Or abs(x - mean(X)) / std(X))"
   ]
  },
  {
   "cell_type": "code",
   "execution_count": 32,
   "id": "1b2d0803",
   "metadata": {},
   "outputs": [
    {
     "data": {
      "text/plain": [
       "0      0.705263\n",
       "1      0.294737\n",
       "2      0.294737\n",
       "3      0.705263\n",
       "4      1.294737\n",
       "         ...   \n",
       "239    0.294737\n",
       "240    0.705263\n",
       "241    0.705263\n",
       "242    0.705263\n",
       "243    0.705263\n",
       "Name: size, Length: 244, dtype: float64"
      ]
     },
     "execution_count": 32,
     "metadata": {},
     "output_type": "execute_result"
    }
   ],
   "source": [
    "Standardized_Size_C= abs(Size_C-2.57 /0.95)\n",
    "Standardized_Size_C"
   ]
  },
  {
   "cell_type": "code",
   "execution_count": 33,
   "id": "01d3f36a",
   "metadata": {},
   "outputs": [],
   "source": [
    "TIP['newColumn']=Size_C"
   ]
  },
  {
   "cell_type": "code",
   "execution_count": null,
   "id": "62b046fc",
   "metadata": {},
   "outputs": [],
   "source": [
    "#Normalization:Formula: x - min(X) / max(X) - min(X)              /Covid[['Region','Confirmed']].max()"
   ]
  },
  {
   "cell_type": "code",
   "execution_count": null,
   "id": "2b46a0fd",
   "metadata": {},
   "outputs": [],
   "source": [
    "#total_bill"
   ]
  },
  {
   "cell_type": "code",
   "execution_count": 39,
   "id": "34d4aefa",
   "metadata": {},
   "outputs": [
    {
     "data": {
      "text/plain": [
       "50.81"
      ]
     },
     "execution_count": 39,
     "metadata": {},
     "output_type": "execute_result"
    }
   ],
   "source": [
    "Total_Max=TIP['total_bill'].max()\n",
    "Total_Max"
   ]
  },
  {
   "cell_type": "code",
   "execution_count": 40,
   "id": "6a459b61",
   "metadata": {},
   "outputs": [
    {
     "data": {
      "text/plain": [
       "3.07"
      ]
     },
     "execution_count": 40,
     "metadata": {},
     "output_type": "execute_result"
    }
   ],
   "source": [
    "Total_min=TIP['total_bill'].min()\n",
    "Total_min"
   ]
  },
  {
   "cell_type": "code",
   "execution_count": 44,
   "id": "c5d9a1af",
   "metadata": {},
   "outputs": [
    {
     "data": {
      "text/plain": [
       "0      13.839579\n",
       "1       7.189579\n",
       "2      17.859579\n",
       "3      20.529579\n",
       "4      21.439579\n",
       "         ...    \n",
       "239    25.879579\n",
       "240    24.029579\n",
       "241    19.519579\n",
       "242    14.669579\n",
       "243    15.629579\n",
       "Name: total_bill, Length: 244, dtype: float64"
      ]
     },
     "execution_count": 44,
     "metadata": {},
     "output_type": "execute_result"
    }
   ],
   "source": [
    "Normalization_total_b= TIP['total_bill'] - 3.07 / 50.81 - 3.09\n",
    "Normalization_total_b"
   ]
  },
  {
   "cell_type": "code",
   "execution_count": null,
   "id": "a41c42e7",
   "metadata": {},
   "outputs": [],
   "source": [
    "#tip"
   ]
  },
  {
   "cell_type": "code",
   "execution_count": 45,
   "id": "004aea97",
   "metadata": {},
   "outputs": [
    {
     "data": {
      "text/plain": [
       "10.0"
      ]
     },
     "execution_count": 45,
     "metadata": {},
     "output_type": "execute_result"
    }
   ],
   "source": [
    "Tip_Max=TIP['tip'].max()\n",
    "Tip_Max"
   ]
  },
  {
   "cell_type": "code",
   "execution_count": 46,
   "id": "7a3b5082",
   "metadata": {},
   "outputs": [
    {
     "data": {
      "text/plain": [
       "1.0"
      ]
     },
     "execution_count": 46,
     "metadata": {},
     "output_type": "execute_result"
    }
   ],
   "source": [
    "Tip_min=TIP['tip'].min()\n",
    "Tip_min"
   ]
  },
  {
   "cell_type": "code",
   "execution_count": 52,
   "id": "a6260f9f",
   "metadata": {},
   "outputs": [
    {
     "data": {
      "text/plain": [
       "0      0.09\n",
       "1      0.56\n",
       "2      2.40\n",
       "3      2.21\n",
       "4      2.51\n",
       "       ... \n",
       "239    4.82\n",
       "240    0.90\n",
       "241    0.90\n",
       "242    0.65\n",
       "243    1.90\n",
       "Name: tip, Length: 244, dtype: float64"
      ]
     },
     "execution_count": 52,
     "metadata": {},
     "output_type": "execute_result"
    }
   ],
   "source": [
    "Normalization_tip_b=abs (TIP['tip'] - 1.0 / 10.0 - 1.0)\n",
    "Normalization_tip_b"
   ]
  },
  {
   "cell_type": "code",
   "execution_count": null,
   "id": "314722e7",
   "metadata": {},
   "outputs": [],
   "source": [
    "#size"
   ]
  },
  {
   "cell_type": "code",
   "execution_count": 48,
   "id": "d5a2b351",
   "metadata": {},
   "outputs": [
    {
     "data": {
      "text/plain": [
       "6"
      ]
     },
     "execution_count": 48,
     "metadata": {},
     "output_type": "execute_result"
    }
   ],
   "source": [
    "Size_Max=TIP['size'].max()\n",
    "Size_Max"
   ]
  },
  {
   "cell_type": "code",
   "execution_count": 49,
   "id": "de72a528",
   "metadata": {},
   "outputs": [
    {
     "data": {
      "text/plain": [
       "1"
      ]
     },
     "execution_count": 49,
     "metadata": {},
     "output_type": "execute_result"
    }
   ],
   "source": [
    "Size_Min=TIP['size'].min()\n",
    "Size_Min"
   ]
  },
  {
   "cell_type": "code",
   "execution_count": 51,
   "id": "2ffeca18",
   "metadata": {},
   "outputs": [
    {
     "data": {
      "text/plain": [
       "0      0.156667\n",
       "1      0.493333\n",
       "2      2.333333\n",
       "3      2.143333\n",
       "4      2.443333\n",
       "         ...   \n",
       "239    4.753333\n",
       "240    0.833333\n",
       "241    0.833333\n",
       "242    0.583333\n",
       "243    1.833333\n",
       "Name: tip, Length: 244, dtype: float64"
      ]
     },
     "execution_count": 51,
     "metadata": {},
     "output_type": "execute_result"
    }
   ],
   "source": [
    "Normalization_size_b= abs(TIP['tip'] - 1 / 6 - 1)\n",
    "Normalization_size_b"
   ]
  },
  {
   "cell_type": "code",
   "execution_count": null,
   "id": "9fa1ef91",
   "metadata": {},
   "outputs": [],
   "source": []
  }
 ],
 "metadata": {
  "kernelspec": {
   "display_name": "Python 3 (ipykernel)",
   "language": "python",
   "name": "python3"
  },
  "language_info": {
   "codemirror_mode": {
    "name": "ipython",
    "version": 3
   },
   "file_extension": ".py",
   "mimetype": "text/x-python",
   "name": "python",
   "nbconvert_exporter": "python",
   "pygments_lexer": "ipython3",
   "version": "3.11.5"
  }
 },
 "nbformat": 4,
 "nbformat_minor": 5
}
