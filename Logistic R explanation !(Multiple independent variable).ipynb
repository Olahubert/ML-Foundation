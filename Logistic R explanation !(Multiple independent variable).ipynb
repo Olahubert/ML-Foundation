{
 "cells": [
  {
   "cell_type": "code",
   "execution_count": 1,
   "id": "699f94f1",
   "metadata": {},
   "outputs": [],
   "source": [
    "# !(Multiple independent variable)\n",
    "import pandas as pd"
   ]
  },
  {
   "cell_type": "code",
   "execution_count": 2,
   "id": "5b1ef2cc",
   "metadata": {},
   "outputs": [],
   "source": [
    "import matplotlib.pyplot as plt"
   ]
  },
  {
   "cell_type": "code",
   "execution_count": 3,
   "id": "339f249c",
   "metadata": {},
   "outputs": [],
   "source": [
    "import seaborn as sns"
   ]
  },
  {
   "cell_type": "code",
   "execution_count": 4,
   "id": "381a4fd5",
   "metadata": {},
   "outputs": [],
   "source": [
    "import numpy as np"
   ]
  },
  {
   "cell_type": "code",
   "execution_count": 5,
   "id": "0de76648",
   "metadata": {},
   "outputs": [],
   "source": [
    "from sklearn.model_selection import train_test_split\n",
    "from sklearn.linear_model import LinearRegression"
   ]
  },
  {
   "cell_type": "code",
   "execution_count": 6,
   "id": "a316f88f",
   "metadata": {},
   "outputs": [
    {
     "data": {
      "text/html": [
       "<div>\n",
       "<style scoped>\n",
       "    .dataframe tbody tr th:only-of-type {\n",
       "        vertical-align: middle;\n",
       "    }\n",
       "\n",
       "    .dataframe tbody tr th {\n",
       "        vertical-align: top;\n",
       "    }\n",
       "\n",
       "    .dataframe thead th {\n",
       "        text-align: right;\n",
       "    }\n",
       "</style>\n",
       "<table border=\"1\" class=\"dataframe\">\n",
       "  <thead>\n",
       "    <tr style=\"text-align: right;\">\n",
       "      <th></th>\n",
       "      <th>User ID</th>\n",
       "      <th>Gender</th>\n",
       "      <th>Age</th>\n",
       "      <th>EstimatedSalary</th>\n",
       "      <th>Purchased</th>\n",
       "    </tr>\n",
       "  </thead>\n",
       "  <tbody>\n",
       "    <tr>\n",
       "      <th>0</th>\n",
       "      <td>15624510</td>\n",
       "      <td>Male</td>\n",
       "      <td>19</td>\n",
       "      <td>19000</td>\n",
       "      <td>0</td>\n",
       "    </tr>\n",
       "    <tr>\n",
       "      <th>1</th>\n",
       "      <td>15810944</td>\n",
       "      <td>Male</td>\n",
       "      <td>35</td>\n",
       "      <td>20000</td>\n",
       "      <td>0</td>\n",
       "    </tr>\n",
       "    <tr>\n",
       "      <th>2</th>\n",
       "      <td>15668575</td>\n",
       "      <td>Female</td>\n",
       "      <td>26</td>\n",
       "      <td>43000</td>\n",
       "      <td>0</td>\n",
       "    </tr>\n",
       "    <tr>\n",
       "      <th>3</th>\n",
       "      <td>15603246</td>\n",
       "      <td>Female</td>\n",
       "      <td>27</td>\n",
       "      <td>57000</td>\n",
       "      <td>0</td>\n",
       "    </tr>\n",
       "    <tr>\n",
       "      <th>4</th>\n",
       "      <td>15804002</td>\n",
       "      <td>Male</td>\n",
       "      <td>19</td>\n",
       "      <td>76000</td>\n",
       "      <td>0</td>\n",
       "    </tr>\n",
       "    <tr>\n",
       "      <th>...</th>\n",
       "      <td>...</td>\n",
       "      <td>...</td>\n",
       "      <td>...</td>\n",
       "      <td>...</td>\n",
       "      <td>...</td>\n",
       "    </tr>\n",
       "    <tr>\n",
       "      <th>395</th>\n",
       "      <td>15691863</td>\n",
       "      <td>Female</td>\n",
       "      <td>46</td>\n",
       "      <td>41000</td>\n",
       "      <td>1</td>\n",
       "    </tr>\n",
       "    <tr>\n",
       "      <th>396</th>\n",
       "      <td>15706071</td>\n",
       "      <td>Male</td>\n",
       "      <td>51</td>\n",
       "      <td>23000</td>\n",
       "      <td>1</td>\n",
       "    </tr>\n",
       "    <tr>\n",
       "      <th>397</th>\n",
       "      <td>15654296</td>\n",
       "      <td>Female</td>\n",
       "      <td>50</td>\n",
       "      <td>20000</td>\n",
       "      <td>1</td>\n",
       "    </tr>\n",
       "    <tr>\n",
       "      <th>398</th>\n",
       "      <td>15755018</td>\n",
       "      <td>Male</td>\n",
       "      <td>36</td>\n",
       "      <td>33000</td>\n",
       "      <td>0</td>\n",
       "    </tr>\n",
       "    <tr>\n",
       "      <th>399</th>\n",
       "      <td>15594041</td>\n",
       "      <td>Female</td>\n",
       "      <td>49</td>\n",
       "      <td>36000</td>\n",
       "      <td>1</td>\n",
       "    </tr>\n",
       "  </tbody>\n",
       "</table>\n",
       "<p>400 rows × 5 columns</p>\n",
       "</div>"
      ],
      "text/plain": [
       "      User ID  Gender  Age  EstimatedSalary  Purchased\n",
       "0    15624510    Male   19            19000          0\n",
       "1    15810944    Male   35            20000          0\n",
       "2    15668575  Female   26            43000          0\n",
       "3    15603246  Female   27            57000          0\n",
       "4    15804002    Male   19            76000          0\n",
       "..        ...     ...  ...              ...        ...\n",
       "395  15691863  Female   46            41000          1\n",
       "396  15706071    Male   51            23000          1\n",
       "397  15654296  Female   50            20000          1\n",
       "398  15755018    Male   36            33000          0\n",
       "399  15594041  Female   49            36000          1\n",
       "\n",
       "[400 rows x 5 columns]"
      ]
     },
     "execution_count": 6,
     "metadata": {},
     "output_type": "execute_result"
    }
   ],
   "source": [
    "pd.read_csv(\"User_Data(1).csv\")"
   ]
  },
  {
   "cell_type": "code",
   "execution_count": 7,
   "id": "b7daf42e",
   "metadata": {},
   "outputs": [],
   "source": [
    "User=pd.read_csv(\"User_Data(1).csv\")"
   ]
  },
  {
   "cell_type": "code",
   "execution_count": 8,
   "id": "c86fe3b6",
   "metadata": {},
   "outputs": [
    {
     "data": {
      "text/plain": [
       "18"
      ]
     },
     "execution_count": 8,
     "metadata": {},
     "output_type": "execute_result"
    }
   ],
   "source": [
    "User.Age.min()"
   ]
  },
  {
   "cell_type": "code",
   "execution_count": 9,
   "id": "f38b3a23",
   "metadata": {},
   "outputs": [],
   "source": [
    "X = User[[\"Age\", \"EstimatedSalary\"]].values"
   ]
  },
  {
   "cell_type": "code",
   "execution_count": 10,
   "id": "4c9bbcd7",
   "metadata": {},
   "outputs": [],
   "source": [
    "Y = User[\"Purchased\"].values"
   ]
  },
  {
   "cell_type": "code",
   "execution_count": 11,
   "id": "905b99f8",
   "metadata": {},
   "outputs": [],
   "source": [
    "#Standardise\n",
    "from sklearn.preprocessing import StandardScaler\n",
    "stx = StandardScaler()\n",
    "X = stx.fit_transform(X)"
   ]
  },
  {
   "cell_type": "code",
   "execution_count": 12,
   "id": "51d265ae",
   "metadata": {},
   "outputs": [
    {
     "data": {
      "text/plain": [
       "array([[-1.78179743, -1.49004624],\n",
       "       [-0.25358736, -1.46068138],\n",
       "       [-1.11320552, -0.78528968],\n",
       "       [-1.01769239, -0.37418169],\n",
       "       [-1.78179743,  0.18375059],\n",
       "       [-1.01769239, -0.34481683],\n",
       "       [-1.01769239,  0.41866944],\n",
       "       [-0.54012675,  2.35674998],\n",
       "       [-1.20871865, -1.07893824],\n",
       "       [-0.25358736, -0.13926283],\n",
       "       [-1.11320552,  0.30121002],\n",
       "       [-1.11320552, -0.52100597],\n",
       "       [-1.6862843 ,  0.47739916],\n",
       "       [-0.54012675, -1.51941109],\n",
       "       [-1.87731056,  0.35993973],\n",
       "       [-0.82666613,  0.30121002],\n",
       "       [ 0.89257019, -1.3138571 ],\n",
       "       [ 0.70154394, -1.28449224],\n",
       "       [ 0.79705706, -1.22576253],\n",
       "       [ 0.98808332, -1.19639767],\n",
       "       [ 0.70154394, -1.40195167],\n",
       "       [ 0.89257019, -0.60910054],\n",
       "       [ 0.98808332, -0.84401939],\n",
       "       [ 0.70154394, -1.40195167],\n",
       "       [ 0.79705706, -1.37258681],\n",
       "       [ 0.89257019, -1.46068138],\n",
       "       [ 1.08359645, -1.22576253],\n",
       "       [ 0.89257019, -1.16703281],\n",
       "       [-0.82666613, -0.78528968],\n",
       "       [-0.63563988, -1.51941109],\n",
       "       [-0.63563988,  0.12502088],\n",
       "       [-1.01769239,  1.97500684],\n",
       "       [-1.59077117, -1.5781408 ],\n",
       "       [-0.92217926, -0.75592482],\n",
       "       [-1.01769239,  0.59485858],\n",
       "       [-0.25358736, -1.25512738],\n",
       "       [-0.44461362, -1.22576253],\n",
       "       [-0.73115301, -0.60910054],\n",
       "       [-1.11320552,  0.06629116],\n",
       "       [-1.01769239, -1.13766796],\n",
       "       [-1.01769239, -1.54877595],\n",
       "       [-0.44461362, -0.55037082],\n",
       "       [-0.25358736,  1.123426  ],\n",
       "       [-0.73115301, -1.60750566],\n",
       "       [-0.92217926,  0.41866944],\n",
       "       [-1.39974491, -1.46068138],\n",
       "       [-1.20871865,  0.27184516],\n",
       "       [-1.01769239, -0.46227625],\n",
       "       [-0.73115301,  1.91627713],\n",
       "       [-0.63563988,  0.56549373],\n",
       "       [-1.30423178, -1.1083031 ],\n",
       "       [-1.87731056, -0.75592482],\n",
       "       [-0.82666613,  0.38930459],\n",
       "       [-0.25358736, -1.37258681],\n",
       "       [-1.01769239, -0.34481683],\n",
       "       [-1.30423178, -0.4329114 ],\n",
       "       [-1.39974491, -0.63846539],\n",
       "       [-0.92217926,  0.27184516],\n",
       "       [-1.49525804, -1.51941109],\n",
       "       [-0.54012675,  1.38770971],\n",
       "       [-1.01769239, -1.46068138],\n",
       "       [-1.20871865,  0.50676401],\n",
       "       [-1.39974491, -0.10989798],\n",
       "       [-0.54012675,  1.47580428],\n",
       "       [ 2.03872775,  0.38930459],\n",
       "       [-1.30423178, -0.34481683],\n",
       "       [-1.30423178, -1.49004624],\n",
       "       [-1.39974491,  0.35993973],\n",
       "       [-1.49525804, -0.19799255],\n",
       "       [-0.63563988, -0.05116826],\n",
       "       [-1.20871865,  0.30121002],\n",
       "       [-1.30423178, -1.25512738],\n",
       "       [-1.6862843 , -1.37258681],\n",
       "       [-0.44461362,  1.27025028],\n",
       "       [-0.54012675, -1.51941109],\n",
       "       [-0.34910049,  1.24088543],\n",
       "       [-1.87731056, -0.52100597],\n",
       "       [-1.49525804, -1.25512738],\n",
       "       [-0.92217926,  0.50676401],\n",
       "       [-1.11320552, -1.54877595],\n",
       "       [-0.73115301,  0.30121002],\n",
       "       [ 0.12846516, -0.81465453],\n",
       "       [-1.6862843 , -0.60910054],\n",
       "       [-0.25358736,  0.53612887],\n",
       "       [-0.73115301, -0.2273574 ],\n",
       "       [-0.63563988,  1.41707457],\n",
       "       [-1.30423178, -0.4329114 ],\n",
       "       [-0.92217926,  0.4480343 ],\n",
       "       [-1.11320552,  0.33057487],\n",
       "       [-0.25358736, -0.57973568],\n",
       "       [-1.49525804,  0.33057487],\n",
       "       [-0.73115301,  1.35834485],\n",
       "       [-1.11320552, -1.60750566],\n",
       "       [-0.82666613, -1.22576253],\n",
       "       [-0.82666613,  0.38930459],\n",
       "       [-0.25358736, -0.75592482],\n",
       "       [-0.25358736, -1.3138571 ],\n",
       "       [-0.92217926,  1.56389885],\n",
       "       [-0.25358736,  0.09565602],\n",
       "       [-0.92217926, -0.96147882],\n",
       "       [-1.01769239,  0.53612887],\n",
       "       [-0.92217926, -0.31545197],\n",
       "       [-0.54012675,  0.47739916],\n",
       "       [-0.44461362,  2.32738512],\n",
       "       [-1.78179743, -1.43131652],\n",
       "       [-1.59077117,  0.06629116],\n",
       "       [-1.11320552, -1.02020853],\n",
       "       [-1.01769239,  0.56549373],\n",
       "       [-1.11320552,  0.47739916],\n",
       "       [ 0.03295203,  0.30121002],\n",
       "       [ 0.12846516,  0.03692631],\n",
       "       [-0.0625611 ,  0.03692631],\n",
       "       [ 0.03295203, -0.25672226],\n",
       "       [-0.0625611 , -0.4329114 ],\n",
       "       [ 0.41500455,  0.30121002],\n",
       "       [ 0.22397829, -0.37418169],\n",
       "       [-0.25358736,  0.15438573],\n",
       "       [-0.15807423, -0.52100597],\n",
       "       [ 0.22397829, -0.31545197],\n",
       "       [ 0.31949142, -0.31545197],\n",
       "       [-0.15807423,  0.15438573],\n",
       "       [-0.0625611 ,  0.06629116],\n",
       "       [ 0.22397829,  0.15438573],\n",
       "       [-0.25358736, -0.49164111],\n",
       "       [ 0.31949142, -0.55037082],\n",
       "       [ 0.12846516, -0.25672226],\n",
       "       [ 0.41500455, -0.13926283],\n",
       "       [-1.11320552, -1.1083031 ],\n",
       "       [-0.73115301, -1.54877595],\n",
       "       [-1.11320552,  0.41866944],\n",
       "       [-0.63563988, -0.34481683],\n",
       "       [-0.44461362, -1.13766796],\n",
       "       [-0.73115301,  0.50676401],\n",
       "       [-1.59077117, -0.05116826],\n",
       "       [-0.92217926, -0.4329114 ],\n",
       "       [-1.39974491, -0.19799255],\n",
       "       [-1.6862843 ,  0.35993973],\n",
       "       [-0.73115301,  1.09406114],\n",
       "       [-0.92217926, -0.31545197],\n",
       "       [-1.78179743, -1.3138571 ],\n",
       "       [-1.78179743,  0.4480343 ],\n",
       "       [-1.87731056, -0.05116826],\n",
       "       [-0.25358736, -0.31545197],\n",
       "       [-0.73115301,  0.56549373],\n",
       "       [-0.34910049, -1.3138571 ],\n",
       "       [-1.30423178,  0.56549373],\n",
       "       [-1.01769239,  0.77104772],\n",
       "       [ 0.31949142, -1.16703281],\n",
       "       [-0.82666613, -0.25672226],\n",
       "       [-1.6862843 ,  0.12502088],\n",
       "       [-1.11320552, -1.60750566],\n",
       "       [ 0.31949142, -0.72655996],\n",
       "       [-0.63563988,  0.18375059],\n",
       "       [-0.15807423, -0.57973568],\n",
       "       [ 0.22397829, -0.66783025],\n",
       "       [-0.63563988, -1.60750566],\n",
       "       [ 0.79705706, -0.31545197],\n",
       "       [-0.82666613,  0.15438573],\n",
       "       [-1.11320552, -1.16703281],\n",
       "       [-0.54012675,  1.91627713],\n",
       "       [-0.54012675,  0.88850715],\n",
       "       [-1.20871865,  0.59485858],\n",
       "       [-0.0625611 , -1.07893824],\n",
       "       [-0.25358736, -0.93211396],\n",
       "       [-0.44461362, -0.02180341],\n",
       "       [-1.87731056,  0.47739916],\n",
       "       [-1.49525804, -0.4329114 ],\n",
       "       [-0.25358736,  0.03692631],\n",
       "       [-0.82666613,  2.29802026],\n",
       "       [-0.82666613, -0.66783025],\n",
       "       [-1.59077117,  0.53612887],\n",
       "       [-0.34910049,  1.32898   ],\n",
       "       [-1.11320552,  1.41707457],\n",
       "       [-0.34910049, -0.78528968],\n",
       "       [-0.34910049,  0.06629116],\n",
       "       [-1.39974491, -1.22576253],\n",
       "       [-0.25358736, -0.66783025],\n",
       "       [-1.20871865, -1.40195167],\n",
       "       [-1.30423178, -1.37258681],\n",
       "       [-0.63563988, -1.04957339],\n",
       "       [-1.11320552, -1.5781408 ],\n",
       "       [-0.63563988,  0.03692631],\n",
       "       [-0.54012675,  1.38770971],\n",
       "       [-0.44461362, -0.78528968],\n",
       "       [-0.44461362, -0.28608712],\n",
       "       [-0.63563988, -0.10989798],\n",
       "       [-1.6862843 ,  0.35993973],\n",
       "       [-0.44461362, -0.84401939],\n",
       "       [-0.25358736,  0.06629116],\n",
       "       [-0.92217926, -1.1083031 ],\n",
       "       [-1.30423178,  0.41866944],\n",
       "       [-1.78179743, -1.28449224],\n",
       "       [-0.82666613, -0.78528968],\n",
       "       [-1.78179743,  0.00756145],\n",
       "       [-0.92217926,  0.56549373],\n",
       "       [-0.34910049, -0.78528968],\n",
       "       [-0.73115301,  0.27184516],\n",
       "       [-1.6862843 , -0.99084367],\n",
       "       [-1.11320552,  0.30121002],\n",
       "       [-0.25358736, -1.40195167],\n",
       "       [-0.25358736, -0.9027491 ],\n",
       "       [ 1.08359645,  0.12502088],\n",
       "       [ 0.12846516,  1.88691227],\n",
       "       [ 0.31949142,  0.03692631],\n",
       "       [ 1.94321462,  0.917872  ],\n",
       "       [ 0.89257019, -0.66783025],\n",
       "       [ 1.65667523,  1.76945285],\n",
       "       [ 1.37013584,  1.29961514],\n",
       "       [ 0.22397829,  2.12183112],\n",
       "       [ 0.79705706, -1.40195167],\n",
       "       [ 0.98808332,  0.77104772],\n",
       "       [ 1.37013584,  2.35674998],\n",
       "       [ 2.03872775, -0.81465453],\n",
       "       [-0.25358736, -0.34481683],\n",
       "       [ 0.89257019, -0.78528968],\n",
       "       [ 2.13424088,  1.123426  ],\n",
       "       [ 1.08359645, -0.13926283],\n",
       "       [ 0.22397829,  0.2424803 ],\n",
       "       [ 0.79705706,  0.77104772],\n",
       "       [ 2.03872775,  2.15119598],\n",
       "       [ 0.31949142,  0.30121002],\n",
       "       [-0.25358736,  0.62422344],\n",
       "       [-0.0625611 ,  2.18056084],\n",
       "       [ 2.13424088,  0.94723686],\n",
       "       [-0.25358736, -0.28608712],\n",
       "       [-0.0625611 , -0.49164111],\n",
       "       [-0.15807423,  1.65199342],\n",
       "       [ 1.75218836,  1.85754742],\n",
       "       [ 0.22397829,  0.06629116],\n",
       "       [ 0.41500455,  0.30121002],\n",
       "       [-0.25358736,  2.26865541],\n",
       "       [ 0.12846516, -0.81465453],\n",
       "       [ 0.22397829,  1.09406114],\n",
       "       [ 1.08359645,  0.47739916],\n",
       "       [ 0.03295203,  1.24088543],\n",
       "       [ 0.79705706,  0.27184516],\n",
       "       [ 0.22397829, -0.37418169],\n",
       "       [-0.0625611 ,  0.30121002],\n",
       "       [ 0.79705706,  0.35993973],\n",
       "       [ 1.46564897,  2.15119598],\n",
       "       [ 0.41500455,  2.32738512],\n",
       "       [ 0.03295203, -0.31545197],\n",
       "       [ 1.17910958,  0.53612887],\n",
       "       [ 1.75218836,  1.00596657],\n",
       "       [ 0.31949142,  0.06629116],\n",
       "       [ 1.27462271,  2.23929055],\n",
       "       [-0.25358736, -0.57973568],\n",
       "       [ 1.84770149,  1.53453399],\n",
       "       [ 0.31949142, -0.52100597],\n",
       "       [-0.25358736,  0.80041258],\n",
       "       [ 0.60603081, -0.9027491 ],\n",
       "       [-0.0625611 , -0.52100597],\n",
       "       [ 0.98808332,  1.88691227],\n",
       "       [-0.0625611 ,  2.23929055],\n",
       "       [ 1.17910958, -0.75592482],\n",
       "       [ 1.37013584,  0.59485858],\n",
       "       [ 0.31949142,  0.06629116],\n",
       "       [ 0.22397829, -0.37418169],\n",
       "       [ 1.94321462,  0.74168287],\n",
       "       [ 0.70154394,  1.7988177 ],\n",
       "       [-0.25358736,  0.21311545],\n",
       "       [-0.15807423,  2.18056084],\n",
       "       [ 1.65667523,  1.62262856],\n",
       "       [-0.25358736,  0.06629116],\n",
       "       [ 0.98808332,  0.59485858],\n",
       "       [ 0.41500455,  1.123426  ],\n",
       "       [ 0.22397829,  0.15438573],\n",
       "       [-0.0625611 ,  0.12502088],\n",
       "       [ 0.89257019,  2.18056084],\n",
       "       [ 0.22397829, -0.25672226],\n",
       "       [ 0.51051768,  1.85754742],\n",
       "       [ 2.03872775,  0.18375059],\n",
       "       [ 2.13424088, -0.81465453],\n",
       "       [ 0.12846516,  1.06469629],\n",
       "       [ 1.84770149, -1.28449224],\n",
       "       [ 1.84770149,  0.12502088],\n",
       "       [ 0.03295203,  0.03692631],\n",
       "       [ 1.08359645,  0.53612887],\n",
       "       [ 1.37013584, -0.93211396],\n",
       "       [ 1.17910958, -0.99084367],\n",
       "       [ 2.03872775,  0.53612887],\n",
       "       [-0.25358736, -0.25672226],\n",
       "       [-0.0625611 ,  0.00756145],\n",
       "       [ 1.37013584, -1.43131652],\n",
       "       [ 0.98808332,  2.09246627],\n",
       "       [-0.0625611 ,  0.68295315],\n",
       "       [-0.0625611 , -0.2273574 ],\n",
       "       [ 0.98808332,  2.0043717 ],\n",
       "       [ 0.31949142,  0.27184516],\n",
       "       [-0.0625611 ,  0.2424803 ],\n",
       "       [ 0.12846516,  1.88691227],\n",
       "       [ 1.08359645,  0.56549373],\n",
       "       [ 1.65667523, -0.9027491 ],\n",
       "       [-0.0625611 ,  0.21311545],\n",
       "       [-0.25358736, -0.37418169],\n",
       "       [-0.15807423, -0.19799255],\n",
       "       [ 0.41500455,  0.09565602],\n",
       "       [ 0.51051768,  1.24088543],\n",
       "       [ 0.70154394,  0.27184516],\n",
       "       [ 0.79705706,  1.38770971],\n",
       "       [ 1.94321462, -0.93211396],\n",
       "       [ 0.98808332,  0.12502088],\n",
       "       [-0.0625611 ,  1.97500684],\n",
       "       [-0.0625611 ,  0.27184516],\n",
       "       [ 0.22397829, -0.28608712],\n",
       "       [ 0.41500455, -0.46227625],\n",
       "       [ 1.27462271,  1.88691227],\n",
       "       [ 0.89257019,  1.27025028],\n",
       "       [-0.15807423,  1.62262856],\n",
       "       [ 0.03295203, -0.57973568],\n",
       "       [ 0.41500455,  0.00756145],\n",
       "       [ 0.12846516,  0.77104772],\n",
       "       [ 0.03295203, -0.57973568],\n",
       "       [ 1.08359645,  2.09246627],\n",
       "       [ 0.12846516,  0.27184516],\n",
       "       [ 0.12846516,  0.15438573],\n",
       "       [ 1.5611621 ,  1.00596657],\n",
       "       [-0.25358736, -0.4329114 ],\n",
       "       [ 0.70154394, -1.1083031 ],\n",
       "       [-0.15807423, -0.28608712],\n",
       "       [ 1.37013584,  2.0043717 ],\n",
       "       [ 1.46564897,  0.35993973],\n",
       "       [ 0.31949142, -0.52100597],\n",
       "       [ 0.98808332, -1.16703281],\n",
       "       [ 0.98808332,  1.7988177 ],\n",
       "       [ 0.31949142, -0.28608712],\n",
       "       [ 0.31949142,  0.06629116],\n",
       "       [ 0.41500455,  0.15438573],\n",
       "       [-0.15807423,  1.41707457],\n",
       "       [ 0.89257019,  1.09406114],\n",
       "       [ 0.03295203, -0.55037082],\n",
       "       [ 0.98808332,  1.44643942],\n",
       "       [ 0.41500455, -0.13926283],\n",
       "       [ 0.22397829, -0.13926283],\n",
       "       [ 1.84770149, -0.28608712],\n",
       "       [-0.15807423, -0.46227625],\n",
       "       [ 1.94321462,  2.18056084],\n",
       "       [-0.25358736,  0.27184516],\n",
       "       [ 0.03295203, -0.4329114 ],\n",
       "       [ 0.12846516,  1.53453399],\n",
       "       [ 1.46564897,  1.00596657],\n",
       "       [-0.25358736,  0.15438573],\n",
       "       [ 0.03295203, -0.13926283],\n",
       "       [ 0.89257019, -0.55037082],\n",
       "       [ 0.89257019,  1.03533143],\n",
       "       [ 0.31949142, -0.19799255],\n",
       "       [ 1.46564897,  0.06629116],\n",
       "       [ 1.5611621 ,  1.123426  ],\n",
       "       [ 0.12846516,  0.21311545],\n",
       "       [ 0.03295203, -0.25672226],\n",
       "       [ 0.03295203,  1.27025028],\n",
       "       [-0.0625611 ,  0.15438573],\n",
       "       [ 0.41500455,  0.59485858],\n",
       "       [-0.0625611 , -0.37418169],\n",
       "       [-0.15807423,  0.85914229],\n",
       "       [ 2.13424088, -1.04957339],\n",
       "       [ 1.5611621 ,  0.00756145],\n",
       "       [ 0.31949142,  0.06629116],\n",
       "       [ 0.22397829,  0.03692631],\n",
       "       [ 0.41500455, -0.46227625],\n",
       "       [ 0.51051768,  1.74008799],\n",
       "       [ 1.46564897, -1.04957339],\n",
       "       [ 0.89257019, -0.57973568],\n",
       "       [ 0.41500455,  0.27184516],\n",
       "       [ 0.41500455,  1.00596657],\n",
       "       [ 2.03872775, -1.19639767],\n",
       "       [ 1.94321462, -0.66783025],\n",
       "       [ 0.79705706,  0.53612887],\n",
       "       [ 0.03295203,  0.03692631],\n",
       "       [ 1.5611621 , -1.28449224],\n",
       "       [ 2.13424088, -0.69719511],\n",
       "       [ 2.13424088,  0.38930459],\n",
       "       [ 0.12846516,  0.09565602],\n",
       "       [ 2.03872775,  1.76945285],\n",
       "       [-0.0625611 ,  0.30121002],\n",
       "       [ 0.79705706, -1.1083031 ],\n",
       "       [ 0.79705706,  0.12502088],\n",
       "       [ 0.41500455, -0.49164111],\n",
       "       [ 0.31949142,  0.50676401],\n",
       "       [ 1.94321462, -1.37258681],\n",
       "       [ 0.41500455, -0.16862769],\n",
       "       [ 0.98808332, -1.07893824],\n",
       "       [ 0.60603081,  2.03373655],\n",
       "       [ 1.08359645, -1.22576253],\n",
       "       [ 1.84770149, -1.07893824],\n",
       "       [ 1.75218836, -0.28608712],\n",
       "       [ 1.08359645, -0.9027491 ],\n",
       "       [ 0.12846516,  0.03692631],\n",
       "       [ 0.89257019, -1.04957339],\n",
       "       [ 0.98808332, -1.02020853],\n",
       "       [ 0.98808332, -1.07893824],\n",
       "       [ 0.89257019, -1.37258681],\n",
       "       [ 0.70154394, -0.72655996],\n",
       "       [ 2.13424088, -0.81465453],\n",
       "       [ 0.12846516, -0.31545197],\n",
       "       [ 0.79705706, -0.84401939],\n",
       "       [ 1.27462271, -1.37258681],\n",
       "       [ 1.17910958, -1.46068138],\n",
       "       [-0.15807423, -1.07893824],\n",
       "       [ 1.08359645, -0.99084367]])"
      ]
     },
     "execution_count": 12,
     "metadata": {},
     "output_type": "execute_result"
    }
   ],
   "source": [
    "X"
   ]
  },
  {
   "cell_type": "code",
   "execution_count": 13,
   "id": "5e53bd7e",
   "metadata": {},
   "outputs": [],
   "source": [
    "from sklearn.model_selection import train_test_split \n",
    "X_train, X_test, Y_train, Y_test = train_test_split(X,Y, test_size= 0.3) "
   ]
  },
  {
   "cell_type": "code",
   "execution_count": 14,
   "id": "ab31e924",
   "metadata": {},
   "outputs": [],
   "source": [
    "from sklearn.linear_model import LogisticRegression\n",
    "df = LogisticRegression()\n"
   ]
  },
  {
   "cell_type": "code",
   "execution_count": 15,
   "id": "a6aabd2d",
   "metadata": {},
   "outputs": [
    {
     "data": {
      "text/html": [
       "<style>#sk-container-id-1 {color: black;}#sk-container-id-1 pre{padding: 0;}#sk-container-id-1 div.sk-toggleable {background-color: white;}#sk-container-id-1 label.sk-toggleable__label {cursor: pointer;display: block;width: 100%;margin-bottom: 0;padding: 0.3em;box-sizing: border-box;text-align: center;}#sk-container-id-1 label.sk-toggleable__label-arrow:before {content: \"▸\";float: left;margin-right: 0.25em;color: #696969;}#sk-container-id-1 label.sk-toggleable__label-arrow:hover:before {color: black;}#sk-container-id-1 div.sk-estimator:hover label.sk-toggleable__label-arrow:before {color: black;}#sk-container-id-1 div.sk-toggleable__content {max-height: 0;max-width: 0;overflow: hidden;text-align: left;background-color: #f0f8ff;}#sk-container-id-1 div.sk-toggleable__content pre {margin: 0.2em;color: black;border-radius: 0.25em;background-color: #f0f8ff;}#sk-container-id-1 input.sk-toggleable__control:checked~div.sk-toggleable__content {max-height: 200px;max-width: 100%;overflow: auto;}#sk-container-id-1 input.sk-toggleable__control:checked~label.sk-toggleable__label-arrow:before {content: \"▾\";}#sk-container-id-1 div.sk-estimator input.sk-toggleable__control:checked~label.sk-toggleable__label {background-color: #d4ebff;}#sk-container-id-1 div.sk-label input.sk-toggleable__control:checked~label.sk-toggleable__label {background-color: #d4ebff;}#sk-container-id-1 input.sk-hidden--visually {border: 0;clip: rect(1px 1px 1px 1px);clip: rect(1px, 1px, 1px, 1px);height: 1px;margin: -1px;overflow: hidden;padding: 0;position: absolute;width: 1px;}#sk-container-id-1 div.sk-estimator {font-family: monospace;background-color: #f0f8ff;border: 1px dotted black;border-radius: 0.25em;box-sizing: border-box;margin-bottom: 0.5em;}#sk-container-id-1 div.sk-estimator:hover {background-color: #d4ebff;}#sk-container-id-1 div.sk-parallel-item::after {content: \"\";width: 100%;border-bottom: 1px solid gray;flex-grow: 1;}#sk-container-id-1 div.sk-label:hover label.sk-toggleable__label {background-color: #d4ebff;}#sk-container-id-1 div.sk-serial::before {content: \"\";position: absolute;border-left: 1px solid gray;box-sizing: border-box;top: 0;bottom: 0;left: 50%;z-index: 0;}#sk-container-id-1 div.sk-serial {display: flex;flex-direction: column;align-items: center;background-color: white;padding-right: 0.2em;padding-left: 0.2em;position: relative;}#sk-container-id-1 div.sk-item {position: relative;z-index: 1;}#sk-container-id-1 div.sk-parallel {display: flex;align-items: stretch;justify-content: center;background-color: white;position: relative;}#sk-container-id-1 div.sk-item::before, #sk-container-id-1 div.sk-parallel-item::before {content: \"\";position: absolute;border-left: 1px solid gray;box-sizing: border-box;top: 0;bottom: 0;left: 50%;z-index: -1;}#sk-container-id-1 div.sk-parallel-item {display: flex;flex-direction: column;z-index: 1;position: relative;background-color: white;}#sk-container-id-1 div.sk-parallel-item:first-child::after {align-self: flex-end;width: 50%;}#sk-container-id-1 div.sk-parallel-item:last-child::after {align-self: flex-start;width: 50%;}#sk-container-id-1 div.sk-parallel-item:only-child::after {width: 0;}#sk-container-id-1 div.sk-dashed-wrapped {border: 1px dashed gray;margin: 0 0.4em 0.5em 0.4em;box-sizing: border-box;padding-bottom: 0.4em;background-color: white;}#sk-container-id-1 div.sk-label label {font-family: monospace;font-weight: bold;display: inline-block;line-height: 1.2em;}#sk-container-id-1 div.sk-label-container {text-align: center;}#sk-container-id-1 div.sk-container {/* jupyter's `normalize.less` sets `[hidden] { display: none; }` but bootstrap.min.css set `[hidden] { display: none !important; }` so we also need the `!important` here to be able to override the default hidden behavior on the sphinx rendered scikit-learn.org. See: https://github.com/scikit-learn/scikit-learn/issues/21755 */display: inline-block !important;position: relative;}#sk-container-id-1 div.sk-text-repr-fallback {display: none;}</style><div id=\"sk-container-id-1\" class=\"sk-top-container\"><div class=\"sk-text-repr-fallback\"><pre>LogisticRegression()</pre><b>In a Jupyter environment, please rerun this cell to show the HTML representation or trust the notebook. <br />On GitHub, the HTML representation is unable to render, please try loading this page with nbviewer.org.</b></div><div class=\"sk-container\" hidden><div class=\"sk-item\"><div class=\"sk-estimator sk-toggleable\"><input class=\"sk-toggleable__control sk-hidden--visually\" id=\"sk-estimator-id-1\" type=\"checkbox\" checked><label for=\"sk-estimator-id-1\" class=\"sk-toggleable__label sk-toggleable__label-arrow\">LogisticRegression</label><div class=\"sk-toggleable__content\"><pre>LogisticRegression()</pre></div></div></div></div></div>"
      ],
      "text/plain": [
       "LogisticRegression()"
      ]
     },
     "execution_count": 15,
     "metadata": {},
     "output_type": "execute_result"
    }
   ],
   "source": [
    "#So after creating the model, we now have to train the model with our dataset\n",
    "df.fit(X_train, Y_train)\n"
   ]
  },
  {
   "cell_type": "code",
   "execution_count": 22,
   "id": "9fc5f3cc",
   "metadata": {},
   "outputs": [],
   "source": [
    "#Then after the model has been trained, we can now use it to predict values\n",
    "\n",
    "Y_pred = df.predict(X_test)\n"
   ]
  },
  {
   "cell_type": "code",
   "execution_count": 23,
   "id": "52437553",
   "metadata": {},
   "outputs": [
    {
     "data": {
      "text/plain": [
       "(120,)"
      ]
     },
     "execution_count": 23,
     "metadata": {},
     "output_type": "execute_result"
    }
   ],
   "source": [
    "Y_test.shape"
   ]
  },
  {
   "cell_type": "code",
   "execution_count": 24,
   "id": "1e80c795",
   "metadata": {},
   "outputs": [
    {
     "data": {
      "text/plain": [
       "array([0, 1, 0, 0, 0, 0, 1, 0, 1, 0, 1, 0, 1, 1, 1, 1, 0, 0, 0, 0, 1, 1,\n",
       "       0, 0, 1, 0, 1, 1, 1, 0, 0, 0, 0, 1, 0, 0, 0, 0, 0, 0, 0, 0, 1, 0,\n",
       "       0, 1, 0, 0, 0, 1, 0, 0, 1, 0, 1, 0, 1, 0, 1, 0, 1, 0, 0, 1, 0, 0,\n",
       "       0, 1, 0, 0, 0, 0, 1, 0, 1, 1, 0, 0, 0, 1, 1, 1, 0, 1, 0, 0, 0, 0,\n",
       "       1, 0, 0, 0, 0, 1, 0, 1, 0, 1, 0, 0, 0, 0, 0, 0, 1, 1, 0, 0, 0, 0,\n",
       "       0, 0, 0, 0, 1, 0, 0, 0, 1, 1], dtype=int64)"
      ]
     },
     "execution_count": 24,
     "metadata": {},
     "output_type": "execute_result"
    }
   ],
   "source": [
    "#MODEL OUTPUT\n",
    "Y_pred"
   ]
  },
  {
   "cell_type": "code",
   "execution_count": 25,
   "id": "93afb236",
   "metadata": {},
   "outputs": [
    {
     "data": {
      "text/plain": [
       "(120,)"
      ]
     },
     "execution_count": 25,
     "metadata": {},
     "output_type": "execute_result"
    }
   ],
   "source": [
    "Y_pred.shape"
   ]
  },
  {
   "cell_type": "code",
   "execution_count": 26,
   "id": "4d1b38bd",
   "metadata": {},
   "outputs": [
    {
     "data": {
      "text/plain": [
       "array([[67,  5],\n",
       "       [12, 36]], dtype=int64)"
      ]
     },
     "execution_count": 26,
     "metadata": {},
     "output_type": "execute_result"
    }
   ],
   "source": [
    "from sklearn.metrics import confusion_matrix\n",
    "cm = confusion_matrix( Y_test, Y_pred,)\n",
    "cm"
   ]
  },
  {
   "cell_type": "code",
   "execution_count": 31,
   "id": "95403f15",
   "metadata": {},
   "outputs": [],
   "source": [
    "from sklearn.metrics import classification_report, confusion_matrix, accuracy_score"
   ]
  },
  {
   "cell_type": "code",
   "execution_count": 30,
   "id": "514d70ff",
   "metadata": {},
   "outputs": [
    {
     "name": "stdout",
     "output_type": "stream",
     "text": [
      "Accuracy: 0.8583333333333333\n",
      "Confusion Matrix:\n",
      " [[67  5]\n",
      " [12 36]]\n",
      "Classification Report:\n",
      "               precision    recall  f1-score   support\n",
      "\n",
      "           0       0.85      0.93      0.89        72\n",
      "           1       0.88      0.75      0.81        48\n",
      "\n",
      "    accuracy                           0.86       120\n",
      "   macro avg       0.86      0.84      0.85       120\n",
      "weighted avg       0.86      0.86      0.86       120\n",
      "\n"
     ]
    }
   ],
   "source": [
    "# Evaluate the model\n",
    "print(\"Accuracy:\", accuracy_score(Y_test, Y_pred))\n",
    "print(\"Confusion Matrix:\\n\", confusion_matrix(Y_test, Y_pred))\n",
    "print(\"Classification Report:\\n\", classification_report(Y_test, Y_pred))"
   ]
  },
  {
   "cell_type": "code",
   "execution_count": null,
   "id": "0432b480",
   "metadata": {},
   "outputs": [],
   "source": [
    "#The confusion matrix is visualized using a heatmap."
   ]
  },
  {
   "cell_type": "code",
   "execution_count": 27,
   "id": "8834ad32",
   "metadata": {},
   "outputs": [
    {
     "data": {
      "image/png": "[encoded data removed]",
      "text/plain": [
       "<Figure size 640x480 with 2 Axes>"
      ]
     },
     "metadata": {},
     "output_type": "display_data"
    }
   ],
   "source": [
    "sns.heatmap(cm, annot=True, fmt='d', cmap='Blues')\n",
    "plt.title('Confusion Matrix')\n",
    "plt.xlabel('Predicted')\n",
    "plt.ylabel('Actual')\n",
    "plt.show()"
   ]
  },
  {
   "cell_type": "code",
   "execution_count": 28,
   "id": "b565f4fc",
   "metadata": {},
   "outputs": [],
   "source": []
  },
  {
   "cell_type": "code",
   "execution_count": null,
   "id": "1cf4e154",
   "metadata": {},
   "outputs": [],
   "source": []
  }
 ],
 "metadata": {
  "kernelspec": {
   "display_name": "Python 3 (ipykernel)",
   "language": "python",
   "name": "python3"
  },
  "language_info": {
   "codemirror_mode": {
    "name": "ipython",
    "version": 3
   },
   "file_extension": ".py",
   "mimetype": "text/x-python",
   "name": "python",
   "nbconvert_exporter": "python",
   "pygments_lexer": "ipython3",
   "version": "3.11.5"
  }
 },
 "nbformat": 4,
 "nbformat_minor": 5
}
