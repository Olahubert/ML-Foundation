{
 "cells": [
  {
   "cell_type": "code",
   "execution_count": 1,
   "id": "c1d6124b",
   "metadata": {},
   "outputs": [],
   "source": [
    "#Outliers or anomalies are observations that do not fit into standard data pattern They cause the patterns in the dataset to digress.\n",
    "\n",
    "#The first step to spot an outlier. So we have different methods to spot an outlier\n",
    "\n",
    "\n",
    "#Z_score based anomaly detection\n",
    "#Median based anomaly detection\n"
   ]
  },
  {
   "cell_type": "code",
   "execution_count": 2,
   "id": "7bce85df",
   "metadata": {},
   "outputs": [],
   "source": [
    "import pandas as pd"
   ]
  },
  {
   "cell_type": "code",
   "execution_count": 3,
   "id": "36b0a85b",
   "metadata": {},
   "outputs": [],
   "source": [
    "x=pd.Series([2,3,3,4,6,7,8,9,11,14,16,23,25, 47, 63])\n"
   ]
  },
  {
   "cell_type": "code",
   "execution_count": 4,
   "id": "e5118db9",
   "metadata": {},
   "outputs": [
    {
     "data": {
      "text/plain": [
       "0     0.802553\n",
       "1     0.745500\n",
       "2     0.745500\n",
       "3     0.688446\n",
       "4     0.574339\n",
       "5     0.517286\n",
       "6     0.460232\n",
       "7     0.403178\n",
       "8     0.289071\n",
       "9     0.117911\n",
       "10    0.003804\n",
       "11    0.395571\n",
       "12    0.509678\n",
       "13    1.764856\n",
       "14    2.677713\n",
       "dtype: float64"
      ]
     },
     "execution_count": 4,
     "metadata": {},
     "output_type": "execute_result"
    }
   ],
   "source": [
    "Mean = x.mean()\n",
    "Std = x.std()\n",
    "Z_score = abs((x-Mean)/Std)\n",
    "Z_score"
   ]
  },
  {
   "cell_type": "code",
   "execution_count": 5,
   "id": "b6743092",
   "metadata": {},
   "outputs": [],
   "source": [
    "#0R"
   ]
  },
  {
   "cell_type": "code",
   "execution_count": 6,
   "id": "64201e17",
   "metadata": {},
   "outputs": [
    {
     "data": {
      "text/plain": [
       "16.066666666666666"
      ]
     },
     "execution_count": 6,
     "metadata": {},
     "output_type": "execute_result"
    }
   ],
   "source": [
    "Mean"
   ]
  },
  {
   "cell_type": "code",
   "execution_count": 7,
   "id": "c68de67b",
   "metadata": {},
   "outputs": [],
   "source": [
    "Std = x.std()"
   ]
  },
  {
   "cell_type": "code",
   "execution_count": 8,
   "id": "e929d699",
   "metadata": {},
   "outputs": [
    {
     "data": {
      "text/plain": [
       "17.527393525836175"
      ]
     },
     "execution_count": 8,
     "metadata": {},
     "output_type": "execute_result"
    }
   ],
   "source": [
    "Std"
   ]
  },
  {
   "cell_type": "code",
   "execution_count": 9,
   "id": "a48918b6",
   "metadata": {},
   "outputs": [],
   "source": [
    "Z_score = abs((x-Mean)/Std)"
   ]
  },
  {
   "cell_type": "code",
   "execution_count": 10,
   "id": "9c2d33c1",
   "metadata": {},
   "outputs": [
    {
     "data": {
      "text/plain": [
       "0     0.802553\n",
       "1     0.745500\n",
       "2     0.745500\n",
       "3     0.688446\n",
       "4     0.574339\n",
       "5     0.517286\n",
       "6     0.460232\n",
       "7     0.403178\n",
       "8     0.289071\n",
       "9     0.117911\n",
       "10    0.003804\n",
       "11    0.395571\n",
       "12    0.509678\n",
       "13    1.764856\n",
       "14    2.677713\n",
       "dtype: float64"
      ]
     },
     "execution_count": 10,
     "metadata": {},
     "output_type": "execute_result"
    }
   ],
   "source": [
    "Z_score"
   ]
  },
  {
   "cell_type": "code",
   "execution_count": 11,
   "id": "6b2460f3",
   "metadata": {},
   "outputs": [],
   "source": [
    "#To remove the already detected outliers in the dataset"
   ]
  },
  {
   "cell_type": "code",
   "execution_count": 12,
   "id": "ec99aa95",
   "metadata": {},
   "outputs": [],
   "source": [
    "X_without_outliers = x[Z_score <= 1.5]"
   ]
  },
  {
   "cell_type": "code",
   "execution_count": 13,
   "id": "44a30fe4",
   "metadata": {},
   "outputs": [
    {
     "data": {
      "text/plain": [
       "0      2\n",
       "1      3\n",
       "2      3\n",
       "3      4\n",
       "4      6\n",
       "5      7\n",
       "6      8\n",
       "7      9\n",
       "8     11\n",
       "9     14\n",
       "10    16\n",
       "11    23\n",
       "12    25\n",
       "dtype: int64"
      ]
     },
     "execution_count": 13,
     "metadata": {},
     "output_type": "execute_result"
    }
   ],
   "source": [
    "X_without_outliers"
   ]
  },
  {
   "cell_type": "code",
   "execution_count": 14,
   "id": "c1295880",
   "metadata": {},
   "outputs": [],
   "source": [
    "#Median based abnomaly detection\n"
   ]
  },
  {
   "cell_type": "code",
   "execution_count": 15,
   "id": "fe35743f",
   "metadata": {},
   "outputs": [],
   "source": [
    "Median = x.median()"
   ]
  },
  {
   "cell_type": "code",
   "execution_count": 16,
   "id": "7b85d1ab",
   "metadata": {},
   "outputs": [
    {
     "data": {
      "text/plain": [
       "9.0"
      ]
     },
     "execution_count": 16,
     "metadata": {},
     "output_type": "execute_result"
    }
   ],
   "source": [
    "Median"
   ]
  },
  {
   "cell_type": "code",
   "execution_count": 17,
   "id": "e55e6822",
   "metadata": {},
   "outputs": [
    {
     "data": {
      "text/plain": [
       "0     0.802553\n",
       "1     0.745500\n",
       "2     0.745500\n",
       "3     0.688446\n",
       "4     0.574339\n",
       "5     0.517286\n",
       "6     0.460232\n",
       "7     0.403178\n",
       "8     0.289071\n",
       "9     0.117911\n",
       "10    0.003804\n",
       "11    0.395571\n",
       "12    0.509678\n",
       "13    1.764856\n",
       "14    2.677713\n",
       "dtype: float64"
      ]
     },
     "execution_count": 17,
     "metadata": {},
     "output_type": "execute_result"
    }
   ],
   "source": [
    "Z_score"
   ]
  },
  {
   "cell_type": "code",
   "execution_count": 18,
   "id": "0e38cdc1",
   "metadata": {},
   "outputs": [],
   "source": [
    "x[Z_score > 1.5 ] = Median\n"
   ]
  },
  {
   "cell_type": "code",
   "execution_count": 19,
   "id": "7b82841c",
   "metadata": {},
   "outputs": [
    {
     "data": {
      "text/plain": [
       "0      2\n",
       "1      3\n",
       "2      3\n",
       "3      4\n",
       "4      6\n",
       "5      7\n",
       "6      8\n",
       "7      9\n",
       "8     11\n",
       "9     14\n",
       "10    16\n",
       "11    23\n",
       "12    25\n",
       "13     9\n",
       "14     9\n",
       "dtype: int64"
      ]
     },
     "execution_count": 19,
     "metadata": {},
     "output_type": "execute_result"
    }
   ],
   "source": [
    "x"
   ]
  },
  {
   "cell_type": "code",
   "execution_count": null,
   "id": "7962ae60",
   "metadata": {},
   "outputs": [],
   "source": []
  },
  {
   "cell_type": "code",
   "execution_count": null,
   "id": "252d2048",
   "metadata": {},
   "outputs": [],
   "source": []
  },
  {
   "cell_type": "code",
   "execution_count": null,
   "id": "daf2d4de",
   "metadata": {},
   "outputs": [],
   "source": []
  },
  {
   "cell_type": "code",
   "execution_count": null,
   "id": "45ead904",
   "metadata": {},
   "outputs": [],
   "source": []
  },
  {
   "cell_type": "code",
   "execution_count": null,
   "id": "363613c7",
   "metadata": {},
   "outputs": [],
   "source": []
  }
 ],
 "metadata": {
  "kernelspec": {
   "display_name": "Python 3 (ipykernel)",
   "language": "python",
   "name": "python3"
  },
  "language_info": {
   "codemirror_mode": {
    "name": "ipython",
    "version": 3
   },
   "file_extension": ".py",
   "mimetype": "text/x-python",
   "name": "python",
   "nbconvert_exporter": "python",
   "pygments_lexer": "ipython3",
   "version": "3.11.5"
  }
 },
 "nbformat": 4,
 "nbformat_minor": 5
}
