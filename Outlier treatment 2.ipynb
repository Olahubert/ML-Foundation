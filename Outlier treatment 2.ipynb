{
 "cells": [
  {
   "cell_type": "code",
   "execution_count": 1,
   "id": "561d1be4",
   "metadata": {},
   "outputs": [],
   "source": [
    "import seaborn as sns\n",
    "import pandas as pd\n",
    "from scipy import stats\n",
    "import numpy as np\n",
    "import matplotlib.pyplot as plt"
   ]
  },
  {
   "cell_type": "code",
   "execution_count": 2,
   "id": "c9e6cdd9",
   "metadata": {},
   "outputs": [
    {
     "data": {
      "text/plain": [
       "['anagrams',\n",
       " 'anscombe',\n",
       " 'attention',\n",
       " 'brain_networks',\n",
       " 'car_crashes',\n",
       " 'diamonds',\n",
       " 'dots',\n",
       " 'dowjones',\n",
       " 'exercise',\n",
       " 'flights',\n",
       " 'fmri',\n",
       " 'geyser',\n",
       " 'glue',\n",
       " 'healthexp',\n",
       " 'iris',\n",
       " 'mpg',\n",
       " 'penguins',\n",
       " 'planets',\n",
       " 'seaice',\n",
       " 'taxis',\n",
       " 'tips',\n",
       " 'titanic',\n",
       " 'anagrams',\n",
       " 'anagrams',\n",
       " 'anscombe',\n",
       " 'anscombe',\n",
       " 'attention',\n",
       " 'attention',\n",
       " 'brain_networks',\n",
       " 'brain_networks',\n",
       " 'car_crashes',\n",
       " 'car_crashes',\n",
       " 'diamonds',\n",
       " 'diamonds',\n",
       " 'dots',\n",
       " 'dots',\n",
       " 'dowjones',\n",
       " 'dowjones',\n",
       " 'exercise',\n",
       " 'exercise',\n",
       " 'flights',\n",
       " 'flights',\n",
       " 'fmri',\n",
       " 'fmri',\n",
       " 'geyser',\n",
       " 'geyser',\n",
       " 'glue',\n",
       " 'glue',\n",
       " 'healthexp',\n",
       " 'healthexp',\n",
       " 'iris',\n",
       " 'iris',\n",
       " 'mpg',\n",
       " 'mpg',\n",
       " 'penguins',\n",
       " 'penguins',\n",
       " 'planets',\n",
       " 'planets',\n",
       " 'seaice',\n",
       " 'seaice',\n",
       " 'taxis',\n",
       " 'taxis',\n",
       " 'tips',\n",
       " 'tips',\n",
       " 'titanic',\n",
       " 'titanic',\n",
       " 'anagrams',\n",
       " 'anscombe',\n",
       " 'attention',\n",
       " 'brain_networks',\n",
       " 'car_crashes',\n",
       " 'diamonds',\n",
       " 'dots',\n",
       " 'dowjones',\n",
       " 'exercise',\n",
       " 'flights',\n",
       " 'fmri',\n",
       " 'geyser',\n",
       " 'glue',\n",
       " 'healthexp',\n",
       " 'iris',\n",
       " 'mpg',\n",
       " 'penguins',\n",
       " 'planets',\n",
       " 'seaice',\n",
       " 'taxis',\n",
       " 'tips',\n",
       " 'titanic']"
      ]
     },
     "execution_count": 2,
     "metadata": {},
     "output_type": "execute_result"
    }
   ],
   "source": [
    "#To see all the dataset available in seaborn\n",
    "sns.get_dataset_names()\n",
    "#To extract the data we use  = smp.load_dataset(\""
   ]
  },
  {
   "cell_type": "code",
   "execution_count": 3,
   "id": "58dde633",
   "metadata": {},
   "outputs": [],
   "source": [
    "Tip=sns.load_dataset(\"tips\")"
   ]
  },
  {
   "cell_type": "code",
   "execution_count": 4,
   "id": "3fd8d753",
   "metadata": {},
   "outputs": [
    {
     "data": {
      "text/html": [
       "<div>\n",
       "<style scoped>\n",
       "    .dataframe tbody tr th:only-of-type {\n",
       "        vertical-align: middle;\n",
       "    }\n",
       "\n",
       "    .dataframe tbody tr th {\n",
       "        vertical-align: top;\n",
       "    }\n",
       "\n",
       "    .dataframe thead th {\n",
       "        text-align: right;\n",
       "    }\n",
       "</style>\n",
       "<table border=\"1\" class=\"dataframe\">\n",
       "  <thead>\n",
       "    <tr style=\"text-align: right;\">\n",
       "      <th></th>\n",
       "      <th>total_bill</th>\n",
       "      <th>tip</th>\n",
       "      <th>sex</th>\n",
       "      <th>smoker</th>\n",
       "      <th>day</th>\n",
       "      <th>time</th>\n",
       "      <th>size</th>\n",
       "    </tr>\n",
       "  </thead>\n",
       "  <tbody>\n",
       "    <tr>\n",
       "      <th>0</th>\n",
       "      <td>16.99</td>\n",
       "      <td>1.01</td>\n",
       "      <td>Female</td>\n",
       "      <td>No</td>\n",
       "      <td>Sun</td>\n",
       "      <td>Dinner</td>\n",
       "      <td>2</td>\n",
       "    </tr>\n",
       "    <tr>\n",
       "      <th>1</th>\n",
       "      <td>10.34</td>\n",
       "      <td>1.66</td>\n",
       "      <td>Male</td>\n",
       "      <td>No</td>\n",
       "      <td>Sun</td>\n",
       "      <td>Dinner</td>\n",
       "      <td>3</td>\n",
       "    </tr>\n",
       "    <tr>\n",
       "      <th>2</th>\n",
       "      <td>21.01</td>\n",
       "      <td>3.50</td>\n",
       "      <td>Male</td>\n",
       "      <td>No</td>\n",
       "      <td>Sun</td>\n",
       "      <td>Dinner</td>\n",
       "      <td>3</td>\n",
       "    </tr>\n",
       "    <tr>\n",
       "      <th>3</th>\n",
       "      <td>23.68</td>\n",
       "      <td>3.31</td>\n",
       "      <td>Male</td>\n",
       "      <td>No</td>\n",
       "      <td>Sun</td>\n",
       "      <td>Dinner</td>\n",
       "      <td>2</td>\n",
       "    </tr>\n",
       "    <tr>\n",
       "      <th>4</th>\n",
       "      <td>24.59</td>\n",
       "      <td>3.61</td>\n",
       "      <td>Female</td>\n",
       "      <td>No</td>\n",
       "      <td>Sun</td>\n",
       "      <td>Dinner</td>\n",
       "      <td>4</td>\n",
       "    </tr>\n",
       "    <tr>\n",
       "      <th>...</th>\n",
       "      <td>...</td>\n",
       "      <td>...</td>\n",
       "      <td>...</td>\n",
       "      <td>...</td>\n",
       "      <td>...</td>\n",
       "      <td>...</td>\n",
       "      <td>...</td>\n",
       "    </tr>\n",
       "    <tr>\n",
       "      <th>239</th>\n",
       "      <td>29.03</td>\n",
       "      <td>5.92</td>\n",
       "      <td>Male</td>\n",
       "      <td>No</td>\n",
       "      <td>Sat</td>\n",
       "      <td>Dinner</td>\n",
       "      <td>3</td>\n",
       "    </tr>\n",
       "    <tr>\n",
       "      <th>240</th>\n",
       "      <td>27.18</td>\n",
       "      <td>2.00</td>\n",
       "      <td>Female</td>\n",
       "      <td>Yes</td>\n",
       "      <td>Sat</td>\n",
       "      <td>Dinner</td>\n",
       "      <td>2</td>\n",
       "    </tr>\n",
       "    <tr>\n",
       "      <th>241</th>\n",
       "      <td>22.67</td>\n",
       "      <td>2.00</td>\n",
       "      <td>Male</td>\n",
       "      <td>Yes</td>\n",
       "      <td>Sat</td>\n",
       "      <td>Dinner</td>\n",
       "      <td>2</td>\n",
       "    </tr>\n",
       "    <tr>\n",
       "      <th>242</th>\n",
       "      <td>17.82</td>\n",
       "      <td>1.75</td>\n",
       "      <td>Male</td>\n",
       "      <td>No</td>\n",
       "      <td>Sat</td>\n",
       "      <td>Dinner</td>\n",
       "      <td>2</td>\n",
       "    </tr>\n",
       "    <tr>\n",
       "      <th>243</th>\n",
       "      <td>18.78</td>\n",
       "      <td>3.00</td>\n",
       "      <td>Female</td>\n",
       "      <td>No</td>\n",
       "      <td>Thur</td>\n",
       "      <td>Dinner</td>\n",
       "      <td>2</td>\n",
       "    </tr>\n",
       "  </tbody>\n",
       "</table>\n",
       "<p>244 rows × 7 columns</p>\n",
       "</div>"
      ],
      "text/plain": [
       "     total_bill   tip     sex smoker   day    time  size\n",
       "0         16.99  1.01  Female     No   Sun  Dinner     2\n",
       "1         10.34  1.66    Male     No   Sun  Dinner     3\n",
       "2         21.01  3.50    Male     No   Sun  Dinner     3\n",
       "3         23.68  3.31    Male     No   Sun  Dinner     2\n",
       "4         24.59  3.61  Female     No   Sun  Dinner     4\n",
       "..          ...   ...     ...    ...   ...     ...   ...\n",
       "239       29.03  5.92    Male     No   Sat  Dinner     3\n",
       "240       27.18  2.00  Female    Yes   Sat  Dinner     2\n",
       "241       22.67  2.00    Male    Yes   Sat  Dinner     2\n",
       "242       17.82  1.75    Male     No   Sat  Dinner     2\n",
       "243       18.78  3.00  Female     No  Thur  Dinner     2\n",
       "\n",
       "[244 rows x 7 columns]"
      ]
     },
     "execution_count": 4,
     "metadata": {},
     "output_type": "execute_result"
    }
   ],
   "source": [
    "Tip"
   ]
  },
  {
   "cell_type": "code",
   "execution_count": 5,
   "id": "cfbfbc04",
   "metadata": {},
   "outputs": [
    {
     "data": {
      "text/plain": [
       "<Axes: ylabel='total_bill'>"
      ]
     },
     "execution_count": 5,
     "metadata": {},
     "output_type": "execute_result"
    },
    {
     "data": {
      "image/png": "[encoded data removed]",
      "text/plain": [
       "<Figure size 640x480 with 1 Axes>"
      ]
     },
     "metadata": {},
     "output_type": "display_data"
    }
   ],
   "source": [
    "sns.boxplot(y='total_bill', data=Tip)"
   ]
  },
  {
   "cell_type": "code",
   "execution_count": 6,
   "id": "fb0cea78",
   "metadata": {},
   "outputs": [],
   "source": [
    "#Check for null values\n",
    "null_values = Tip.isnull().sum()"
   ]
  },
  {
   "cell_type": "code",
   "execution_count": 7,
   "id": "3d16e026",
   "metadata": {},
   "outputs": [
    {
     "data": {
      "text/plain": [
       "total_bill    0\n",
       "tip           0\n",
       "sex           0\n",
       "smoker        0\n",
       "day           0\n",
       "time          0\n",
       "size          0\n",
       "dtype: int64"
      ]
     },
     "execution_count": 7,
     "metadata": {},
     "output_type": "execute_result"
    }
   ],
   "source": [
    "null_values"
   ]
  },
  {
   "cell_type": "code",
   "execution_count": 8,
   "id": "3baa0381",
   "metadata": {},
   "outputs": [
    {
     "data": {
      "text/plain": [
       "array([-3.14711305e-01, -1.06323531e+00,  1.37779900e-01,  4.38315103e-01,\n",
       "        5.40744704e-01,  6.19536705e-01, -1.23995452e+00,  7.98507107e-01,\n",
       "       -5.34203307e-01, -5.63468908e-01, -1.07111451e+00,  1.74175992e+00,\n",
       "       -4.91430507e-01, -1.52624903e-01, -5.57840908e-01,  2.01939101e-01,\n",
       "       -1.06436091e+00, -3.93503306e-01, -3.16962505e-01,  9.72582994e-02,\n",
       "       -2.10030504e-01,  5.67366990e-02, -4.52034507e-01,  2.21000952e+00,\n",
       "        3.83349840e-03, -2.22412104e-01, -7.22178510e-01, -7.98719310e-01,\n",
       "        2.15446301e-01, -1.53017018e-02, -1.15215771e+00, -1.61629703e-01,\n",
       "       -5.31952107e-01,  1.01760699e-01, -2.25788904e-01,  4.81087904e-01,\n",
       "       -3.91252106e-01, -3.21464905e-01, -1.23359303e-01,  1.29264551e+00,\n",
       "       -4.21643306e-01, -2.61808105e-01, -6.58019309e-01, -1.13752491e+00,\n",
       "        1.19471831e+00, -1.68383303e-01,  2.75103101e-01,  1.41983831e+00,\n",
       "        9.86482309e-01, -1.96523304e-01, -8.15603311e-01, -1.06886331e+00,\n",
       "        1.69110792e+00, -1.10825931e+00,  6.49927905e-01, -3.33113020e-02,\n",
       "        2.05129992e+00,  7.45603907e-01, -9.61931312e-01,  3.20616553e+00,\n",
       "        5.67366990e-02, -6.72652109e-01, -9.86694512e-01, -1.68383303e-01,\n",
       "       -2.47175304e-01,  3.30990987e-02, -3.75493706e-01, -1.88154652e+00,\n",
       "        4.99830989e-02, -5.37580108e-01, -8.74134511e-01, -3.05706505e-01,\n",
       "        7.96255907e-01,  6.18411105e-01, -5.69096908e-01, -1.04410011e+00,\n",
       "       -2.10030504e-01,  8.34526308e-01,  3.34759902e-01, -2.80943305e-01,\n",
       "       -3.89393021e-02, -3.51856105e-01, -1.09362651e+00,  1.45135511e+00,\n",
       "       -4.28396906e-01,  1.69335912e+00, -7.60448910e-01, -1.69508903e-01,\n",
       "        5.54251904e-01,  1.54663900e-01,  1.03375751e+00,  3.04368702e-01,\n",
       "       -1.57988572e+00, -3.90126506e-01,  3.33634302e-01,  2.29442952e+00,\n",
       "        8.43531108e-01, -8.73008911e-01,  1.37779900e-01, -8.24608111e-01,\n",
       "       -9.49549712e-01, -4.95932907e-01,  2.75930233e+00,  2.96489502e-01,\n",
       "        1.27649500e-01, -4.98184107e-01,  7.92486992e-02,  6.10531905e-01,\n",
       "       -1.74011304e-01, -6.16372108e-01, -6.51265709e-01, -1.41104572e+00,\n",
       "        2.05805352e+00,  4.68706304e-01,  6.66811906e-01, -2.78692105e-01,\n",
       "        1.14181511e+00, -1.02834171e+00, -8.27984911e-01,  4.83339104e-01,\n",
       "       -9.11279312e-01, -7.16550509e-01, -6.22000108e-01, -4.31773706e-01,\n",
       "       -8.22356911e-01,  1.12718231e+00, -1.26809452e+00, -5.92734508e-01,\n",
       "       -9.46172912e-01,  3.41513502e-01, -7.94609025e-02,  5.44854990e-02,\n",
       "       -9.69810512e-01, -8.47120111e-01, -1.71760104e-01, -1.26922012e+00,\n",
       "       -1.06436091e+00, -6.34381709e-01, -4.26145706e-01, -7.45816110e-01,\n",
       "       -2.60682504e-01,  1.63370232e+00,  2.40924072e+00,  8.17642307e-01,\n",
       "       -3.77744906e-01, -1.28722972e+00, -1.28987303e-01, -8.91018511e-01,\n",
       "       -1.12626891e+00, -1.38178012e+00, -6.43386509e-01, -7.49192910e-01,\n",
       "       -2.84320105e-01,  5.36242304e-01, -1.79450166e-03,  1.13281031e+00,\n",
       "        3.19490953e+00,  5.86894305e-01, -7.19927310e-01, -3.70991306e-01,\n",
       "        1.92934300e-01, -8.02096110e-01, -4.02508106e-01, -6.72652109e-01,\n",
       "       -2.56180104e-01,  5.32865504e-01,  1.09639900e-01,  1.34217191e+00,\n",
       "       -1.03509531e+00, -1.03059291e+00,  3.49206794e+00, -4.47532107e-01,\n",
       "       -1.41104572e+00,  1.35793031e+00, -3.33846505e-01,  1.47611831e+00,\n",
       "       -2.13407304e-01, -5.97236908e-01, -1.14652971e+00,  1.67084712e+00,\n",
       "        1.67309832e+00,  3.98919103e-01,  2.87749033e+00,  3.80909503e-01,\n",
       "        2.33720232e+00,  1.01760699e-01,  1.25398300e-01,  1.20147191e+00,\n",
       "       -1.84141704e-01,  3.73030302e-01, -4.61039307e-01,  2.70789839e-03,\n",
       "        9.74100709e-01, -4.84676907e-01, -3.60860906e-01, -1.37615212e+00,\n",
       "       -1.06323531e+00,  2.62535593e+00, -7.63825710e-01, -7.06420109e-01,\n",
       "       -1.21108103e-01, -7.93091310e-01, -7.63825710e-01, -3.81121706e-01,\n",
       "        8.37510993e-02, -3.73242506e-01,  7.65864707e-01,  2.13234312e+00,\n",
       "        5.04725504e-01, -7.90840110e-01,  1.15644791e+00,  6.87072706e-01,\n",
       "        3.21291913e+00, -7.33434510e-01,  9.43709509e-01, -7.75081710e-01,\n",
       "        9.41458309e-01, -9.22535312e-01, -1.35589132e+00,  1.16545271e+00,\n",
       "       -8.58376111e-01, -7.16550509e-01, -1.26134092e+00, -4.28396906e-01,\n",
       "       -7.16550509e-01, -3.95754506e-01, -1.09137531e+00,  7.47462992e-02,\n",
       "       -7.32308910e-01,  2.62721501e-01,  4.75459904e-01, -4.61039307e-01,\n",
       "       -9.20284112e-01, -1.01483451e+00, -4.79048907e-01, -1.09362651e+00,\n",
       "       -8.08849711e-01,  1.46823911e+00,  1.80591912e+00,  1.04051111e+00,\n",
       "        8.32275107e-01,  3.24629502e-01, -2.21286504e-01, -1.13228903e-01])"
      ]
     },
     "execution_count": 8,
     "metadata": {},
     "output_type": "execute_result"
    }
   ],
   "source": [
    "from scipy.stats import zscore\n",
    "Zscores = zscore(Tip['total_bill'].values)\n",
    "Zscores"
   ]
  },
  {
   "cell_type": "code",
   "execution_count": 9,
   "id": "6bf85ce7",
   "metadata": {},
   "outputs": [],
   "source": [
    "from scipy.stats import zscore\n",
    "Zscores = zscore(Tip['total_bill'].values)\n",
    "outliers = np.abs(Zscores) > 3\n",
    "\n",
    "mean_value = np.mean(Tip['total_bill'][~outliers])\n",
    "\n",
    "Tip.loc[outliers, 'total_bill'] = mean_value"
   ]
  },
  {
   "cell_type": "code",
   "execution_count": 10,
   "id": "ac420d6c",
   "metadata": {},
   "outputs": [
    {
     "data": {
      "text/plain": [
       "<Axes: ylabel='total_bill'>"
      ]
     },
     "execution_count": 10,
     "metadata": {},
     "output_type": "execute_result"
    },
    {
     "data": {
      "image/png": "[encoded data removed]",
      "text/plain": [
       "<Figure size 640x480 with 1 Axes>"
      ]
     },
     "metadata": {},
     "output_type": "display_data"
    }
   ],
   "source": [
    "sns.boxplot(y='total_bill', data=Tip)"
   ]
  },
  {
   "cell_type": "code",
   "execution_count": 11,
   "id": "2ee89a6b",
   "metadata": {},
   "outputs": [],
   "source": [
    "#Trimming and capping\n",
    "\n"
   ]
  },
  {
   "cell_type": "code",
   "execution_count": 12,
   "id": "e7064481",
   "metadata": {},
   "outputs": [],
   "source": [
    "lowerLimit = Tip[\"total_bill\"].quantile(0.05)\n",
    "upperLimit = Tip[\"total_bill\"].quantile(0.95)"
   ]
  },
  {
   "cell_type": "code",
   "execution_count": 13,
   "id": "05bd7c5b",
   "metadata": {},
   "outputs": [
    {
     "data": {
      "text/plain": [
       "34.827"
      ]
     },
     "execution_count": 13,
     "metadata": {},
     "output_type": "execute_result"
    }
   ],
   "source": [
    "upperLimit"
   ]
  },
  {
   "cell_type": "code",
   "execution_count": 14,
   "id": "6963664e",
   "metadata": {},
   "outputs": [],
   "source": [
    "Tip['new_total'] = Tip['total_bill'].clip(lowerLimit, upperLimit)\n"
   ]
  },
  {
   "cell_type": "code",
   "execution_count": 15,
   "id": "1ad5c6a0",
   "metadata": {},
   "outputs": [
    {
     "data": {
      "text/html": [
       "<div>\n",
       "<style scoped>\n",
       "    .dataframe tbody tr th:only-of-type {\n",
       "        vertical-align: middle;\n",
       "    }\n",
       "\n",
       "    .dataframe tbody tr th {\n",
       "        vertical-align: top;\n",
       "    }\n",
       "\n",
       "    .dataframe thead th {\n",
       "        text-align: right;\n",
       "    }\n",
       "</style>\n",
       "<table border=\"1\" class=\"dataframe\">\n",
       "  <thead>\n",
       "    <tr style=\"text-align: right;\">\n",
       "      <th></th>\n",
       "      <th>total_bill</th>\n",
       "      <th>tip</th>\n",
       "      <th>sex</th>\n",
       "      <th>smoker</th>\n",
       "      <th>day</th>\n",
       "      <th>time</th>\n",
       "      <th>size</th>\n",
       "      <th>new_total</th>\n",
       "    </tr>\n",
       "  </thead>\n",
       "  <tbody>\n",
       "    <tr>\n",
       "      <th>0</th>\n",
       "      <td>16.99</td>\n",
       "      <td>1.01</td>\n",
       "      <td>Female</td>\n",
       "      <td>No</td>\n",
       "      <td>Sun</td>\n",
       "      <td>Dinner</td>\n",
       "      <td>2</td>\n",
       "      <td>16.99</td>\n",
       "    </tr>\n",
       "    <tr>\n",
       "      <th>1</th>\n",
       "      <td>10.34</td>\n",
       "      <td>1.66</td>\n",
       "      <td>Male</td>\n",
       "      <td>No</td>\n",
       "      <td>Sun</td>\n",
       "      <td>Dinner</td>\n",
       "      <td>3</td>\n",
       "      <td>10.34</td>\n",
       "    </tr>\n",
       "    <tr>\n",
       "      <th>2</th>\n",
       "      <td>21.01</td>\n",
       "      <td>3.50</td>\n",
       "      <td>Male</td>\n",
       "      <td>No</td>\n",
       "      <td>Sun</td>\n",
       "      <td>Dinner</td>\n",
       "      <td>3</td>\n",
       "      <td>21.01</td>\n",
       "    </tr>\n",
       "    <tr>\n",
       "      <th>3</th>\n",
       "      <td>23.68</td>\n",
       "      <td>3.31</td>\n",
       "      <td>Male</td>\n",
       "      <td>No</td>\n",
       "      <td>Sun</td>\n",
       "      <td>Dinner</td>\n",
       "      <td>2</td>\n",
       "      <td>23.68</td>\n",
       "    </tr>\n",
       "    <tr>\n",
       "      <th>4</th>\n",
       "      <td>24.59</td>\n",
       "      <td>3.61</td>\n",
       "      <td>Female</td>\n",
       "      <td>No</td>\n",
       "      <td>Sun</td>\n",
       "      <td>Dinner</td>\n",
       "      <td>4</td>\n",
       "      <td>24.59</td>\n",
       "    </tr>\n",
       "    <tr>\n",
       "      <th>...</th>\n",
       "      <td>...</td>\n",
       "      <td>...</td>\n",
       "      <td>...</td>\n",
       "      <td>...</td>\n",
       "      <td>...</td>\n",
       "      <td>...</td>\n",
       "      <td>...</td>\n",
       "      <td>...</td>\n",
       "    </tr>\n",
       "    <tr>\n",
       "      <th>239</th>\n",
       "      <td>29.03</td>\n",
       "      <td>5.92</td>\n",
       "      <td>Male</td>\n",
       "      <td>No</td>\n",
       "      <td>Sat</td>\n",
       "      <td>Dinner</td>\n",
       "      <td>3</td>\n",
       "      <td>29.03</td>\n",
       "    </tr>\n",
       "    <tr>\n",
       "      <th>240</th>\n",
       "      <td>27.18</td>\n",
       "      <td>2.00</td>\n",
       "      <td>Female</td>\n",
       "      <td>Yes</td>\n",
       "      <td>Sat</td>\n",
       "      <td>Dinner</td>\n",
       "      <td>2</td>\n",
       "      <td>27.18</td>\n",
       "    </tr>\n",
       "    <tr>\n",
       "      <th>241</th>\n",
       "      <td>22.67</td>\n",
       "      <td>2.00</td>\n",
       "      <td>Male</td>\n",
       "      <td>Yes</td>\n",
       "      <td>Sat</td>\n",
       "      <td>Dinner</td>\n",
       "      <td>2</td>\n",
       "      <td>22.67</td>\n",
       "    </tr>\n",
       "    <tr>\n",
       "      <th>242</th>\n",
       "      <td>17.82</td>\n",
       "      <td>1.75</td>\n",
       "      <td>Male</td>\n",
       "      <td>No</td>\n",
       "      <td>Sat</td>\n",
       "      <td>Dinner</td>\n",
       "      <td>2</td>\n",
       "      <td>17.82</td>\n",
       "    </tr>\n",
       "    <tr>\n",
       "      <th>243</th>\n",
       "      <td>18.78</td>\n",
       "      <td>3.00</td>\n",
       "      <td>Female</td>\n",
       "      <td>No</td>\n",
       "      <td>Thur</td>\n",
       "      <td>Dinner</td>\n",
       "      <td>2</td>\n",
       "      <td>18.78</td>\n",
       "    </tr>\n",
       "  </tbody>\n",
       "</table>\n",
       "<p>244 rows × 8 columns</p>\n",
       "</div>"
      ],
      "text/plain": [
       "     total_bill   tip     sex smoker   day    time  size  new_total\n",
       "0         16.99  1.01  Female     No   Sun  Dinner     2      16.99\n",
       "1         10.34  1.66    Male     No   Sun  Dinner     3      10.34\n",
       "2         21.01  3.50    Male     No   Sun  Dinner     3      21.01\n",
       "3         23.68  3.31    Male     No   Sun  Dinner     2      23.68\n",
       "4         24.59  3.61  Female     No   Sun  Dinner     4      24.59\n",
       "..          ...   ...     ...    ...   ...     ...   ...        ...\n",
       "239       29.03  5.92    Male     No   Sat  Dinner     3      29.03\n",
       "240       27.18  2.00  Female    Yes   Sat  Dinner     2      27.18\n",
       "241       22.67  2.00    Male    Yes   Sat  Dinner     2      22.67\n",
       "242       17.82  1.75    Male     No   Sat  Dinner     2      17.82\n",
       "243       18.78  3.00  Female     No  Thur  Dinner     2      18.78\n",
       "\n",
       "[244 rows x 8 columns]"
      ]
     },
     "execution_count": 15,
     "metadata": {},
     "output_type": "execute_result"
    }
   ],
   "source": [
    "Tip"
   ]
  },
  {
   "cell_type": "code",
   "execution_count": 16,
   "id": "d6734732",
   "metadata": {},
   "outputs": [
    {
     "ename": "ValueError",
     "evalue": "Could not interpret input 'new_column'",
     "output_type": "error",
     "traceback": [
      "\u001b[1;31m---------------------------------------------------------------------------\u001b[0m",
      "\u001b[1;31mValueError\u001b[0m                                Traceback (most recent call last)",
      "Cell \u001b[1;32mIn[16], line 1\u001b[0m\n\u001b[1;32m----> 1\u001b[0m sns\u001b[38;5;241m.\u001b[39mboxplot(y\u001b[38;5;241m=\u001b[39m\u001b[38;5;124m'\u001b[39m\u001b[38;5;124mnew_column\u001b[39m\u001b[38;5;124m'\u001b[39m, data\u001b[38;5;241m=\u001b[39mTip)\n",
      "File \u001b[1;32m~\\anaconda3\\Lib\\site-packages\\seaborn\\categorical.py:2231\u001b[0m, in \u001b[0;36mboxplot\u001b[1;34m(data, x, y, hue, order, hue_order, orient, color, palette, saturation, width, dodge, fliersize, linewidth, whis, ax, **kwargs)\u001b[0m\n\u001b[0;32m   2224\u001b[0m \u001b[38;5;28;01mdef\u001b[39;00m \u001b[38;5;21mboxplot\u001b[39m(\n\u001b[0;32m   2225\u001b[0m     data\u001b[38;5;241m=\u001b[39m\u001b[38;5;28;01mNone\u001b[39;00m, \u001b[38;5;241m*\u001b[39m, x\u001b[38;5;241m=\u001b[39m\u001b[38;5;28;01mNone\u001b[39;00m, y\u001b[38;5;241m=\u001b[39m\u001b[38;5;28;01mNone\u001b[39;00m, hue\u001b[38;5;241m=\u001b[39m\u001b[38;5;28;01mNone\u001b[39;00m, order\u001b[38;5;241m=\u001b[39m\u001b[38;5;28;01mNone\u001b[39;00m, hue_order\u001b[38;5;241m=\u001b[39m\u001b[38;5;28;01mNone\u001b[39;00m,\n\u001b[0;32m   2226\u001b[0m     orient\u001b[38;5;241m=\u001b[39m\u001b[38;5;28;01mNone\u001b[39;00m, color\u001b[38;5;241m=\u001b[39m\u001b[38;5;28;01mNone\u001b[39;00m, palette\u001b[38;5;241m=\u001b[39m\u001b[38;5;28;01mNone\u001b[39;00m, saturation\u001b[38;5;241m=\u001b[39m\u001b[38;5;241m.75\u001b[39m, width\u001b[38;5;241m=\u001b[39m\u001b[38;5;241m.8\u001b[39m,\n\u001b[0;32m   2227\u001b[0m     dodge\u001b[38;5;241m=\u001b[39m\u001b[38;5;28;01mTrue\u001b[39;00m, fliersize\u001b[38;5;241m=\u001b[39m\u001b[38;5;241m5\u001b[39m, linewidth\u001b[38;5;241m=\u001b[39m\u001b[38;5;28;01mNone\u001b[39;00m, whis\u001b[38;5;241m=\u001b[39m\u001b[38;5;241m1.5\u001b[39m, ax\u001b[38;5;241m=\u001b[39m\u001b[38;5;28;01mNone\u001b[39;00m,\n\u001b[0;32m   2228\u001b[0m     \u001b[38;5;241m*\u001b[39m\u001b[38;5;241m*\u001b[39mkwargs\n\u001b[0;32m   2229\u001b[0m ):\n\u001b[1;32m-> 2231\u001b[0m     plotter \u001b[38;5;241m=\u001b[39m _BoxPlotter(x, y, hue, data, order, hue_order,\n\u001b[0;32m   2232\u001b[0m                           orient, color, palette, saturation,\n\u001b[0;32m   2233\u001b[0m                           width, dodge, fliersize, linewidth)\n\u001b[0;32m   2235\u001b[0m     \u001b[38;5;28;01mif\u001b[39;00m ax \u001b[38;5;129;01mis\u001b[39;00m \u001b[38;5;28;01mNone\u001b[39;00m:\n\u001b[0;32m   2236\u001b[0m         ax \u001b[38;5;241m=\u001b[39m plt\u001b[38;5;241m.\u001b[39mgca()\n",
      "File \u001b[1;32m~\\anaconda3\\Lib\\site-packages\\seaborn\\categorical.py:785\u001b[0m, in \u001b[0;36m_BoxPlotter.__init__\u001b[1;34m(self, x, y, hue, data, order, hue_order, orient, color, palette, saturation, width, dodge, fliersize, linewidth)\u001b[0m\n\u001b[0;32m    781\u001b[0m \u001b[38;5;28;01mdef\u001b[39;00m \u001b[38;5;21m__init__\u001b[39m(\u001b[38;5;28mself\u001b[39m, x, y, hue, data, order, hue_order,\n\u001b[0;32m    782\u001b[0m              orient, color, palette, saturation,\n\u001b[0;32m    783\u001b[0m              width, dodge, fliersize, linewidth):\n\u001b[1;32m--> 785\u001b[0m     \u001b[38;5;28mself\u001b[39m\u001b[38;5;241m.\u001b[39mestablish_variables(x, y, hue, data, orient, order, hue_order)\n\u001b[0;32m    786\u001b[0m     \u001b[38;5;28mself\u001b[39m\u001b[38;5;241m.\u001b[39mestablish_colors(color, palette, saturation)\n\u001b[0;32m    788\u001b[0m     \u001b[38;5;28mself\u001b[39m\u001b[38;5;241m.\u001b[39mdodge \u001b[38;5;241m=\u001b[39m dodge\n",
      "File \u001b[1;32m~\\anaconda3\\Lib\\site-packages\\seaborn\\categorical.py:541\u001b[0m, in \u001b[0;36m_CategoricalPlotter.establish_variables\u001b[1;34m(self, x, y, hue, data, orient, order, hue_order, units)\u001b[0m\n\u001b[0;32m    539\u001b[0m     \u001b[38;5;28;01mif\u001b[39;00m \u001b[38;5;28misinstance\u001b[39m(var, \u001b[38;5;28mstr\u001b[39m):\n\u001b[0;32m    540\u001b[0m         err \u001b[38;5;241m=\u001b[39m \u001b[38;5;124mf\u001b[39m\u001b[38;5;124m\"\u001b[39m\u001b[38;5;124mCould not interpret input \u001b[39m\u001b[38;5;124m'\u001b[39m\u001b[38;5;132;01m{\u001b[39;00mvar\u001b[38;5;132;01m}\u001b[39;00m\u001b[38;5;124m'\u001b[39m\u001b[38;5;124m\"\u001b[39m\n\u001b[1;32m--> 541\u001b[0m         \u001b[38;5;28;01mraise\u001b[39;00m \u001b[38;5;167;01mValueError\u001b[39;00m(err)\n\u001b[0;32m    543\u001b[0m \u001b[38;5;66;03m# Figure out the plotting orientation\u001b[39;00m\n\u001b[0;32m    544\u001b[0m orient \u001b[38;5;241m=\u001b[39m infer_orient(\n\u001b[0;32m    545\u001b[0m     x, y, orient, require_numeric\u001b[38;5;241m=\u001b[39m\u001b[38;5;28mself\u001b[39m\u001b[38;5;241m.\u001b[39mrequire_numeric\n\u001b[0;32m    546\u001b[0m )\n",
      "\u001b[1;31mValueError\u001b[0m: Could not interpret input 'new_column'"
     ]
    }
   ],
   "source": [
    "sns.boxplot(y='new_column', data=Tip)"
   ]
  },
  {
   "cell_type": "code",
   "execution_count": null,
   "id": "2cb83bb8",
   "metadata": {},
   "outputs": [],
   "source": []
  },
  {
   "cell_type": "code",
   "execution_count": null,
   "id": "afca741d",
   "metadata": {},
   "outputs": [],
   "source": []
  }
 ],
 "metadata": {
  "kernelspec": {
   "display_name": "Python 3 (ipykernel)",
   "language": "python",
   "name": "python3"
  },
  "language_info": {
   "codemirror_mode": {
    "name": "ipython",
    "version": 3
   },
   "file_extension": ".py",
   "mimetype": "text/x-python",
   "name": "python",
   "nbconvert_exporter": "python",
   "pygments_lexer": "ipython3",
   "version": "3.11.5"
  }
 },
 "nbformat": 4,
 "nbformat_minor": 5
}
