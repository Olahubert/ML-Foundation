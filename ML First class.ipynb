{
 "cells": [
  {
   "cell_type": "code",
   "execution_count": 1,
   "id": "6eb8b290",
   "metadata": {},
   "outputs": [],
   "source": [
    "import numpy as np"
   ]
  },
  {
   "cell_type": "code",
   "execution_count": 2,
   "id": "0d2cfc9b",
   "metadata": {},
   "outputs": [],
   "source": [
    "#Random function for random number"
   ]
  },
  {
   "cell_type": "code",
   "execution_count": 3,
   "id": "e34f8b93",
   "metadata": {},
   "outputs": [
    {
     "name": "stdout",
     "output_type": "stream",
     "text": [
      "[13.63088955 15.96398395 89.57601186  2.62503985 13.34937561 80.24891278\n",
      " 91.35636383 28.92971613 18.48463203 14.87195714 58.81156931 41.25849141\n",
      " 84.78625626 44.66745209 95.46675911 31.32813852 46.32738104 14.31034349\n",
      " 93.93882099 56.5252927  69.06188824  2.2128275  38.62433763 21.7641276\n",
      " 26.65351618 66.97034017 73.57442236 69.56524221 31.33575437 26.58993189\n",
      " 81.62561698 45.23559981 73.59600095 53.23247424 34.90918389 78.0975107\n",
      " 70.37433875 20.80057607  4.99400075 25.70915698 59.55321652 56.64281362\n",
      " 84.87876622  7.40506138 74.71488893 52.43848396 45.71827346 59.43071842\n",
      " 88.10815582 71.8078656 ]\n"
     ]
    }
   ],
   "source": [
    "print(np.random.random(50) * 100)"
   ]
  },
  {
   "cell_type": "code",
   "execution_count": 4,
   "id": "39d23fc1",
   "metadata": {},
   "outputs": [],
   "source": [
    "#list is called array in numpy Array function /it take a list to non array"
   ]
  },
  {
   "cell_type": "code",
   "execution_count": 5,
   "id": "7728d3b8",
   "metadata": {},
   "outputs": [
    {
     "data": {
      "text/plain": [
       "array([1, 2, 3, 4, 5])"
      ]
     },
     "execution_count": 5,
     "metadata": {},
     "output_type": "execute_result"
    }
   ],
   "source": [
    "np.array([1,2,3,4,5])  "
   ]
  },
  {
   "cell_type": "code",
   "execution_count": 6,
   "id": "ed85ce70",
   "metadata": {},
   "outputs": [],
   "source": [
    "#one dimensional array"
   ]
  },
  {
   "cell_type": "code",
   "execution_count": 7,
   "id": "80ef85f3",
   "metadata": {},
   "outputs": [
    {
     "name": "stdout",
     "output_type": "stream",
     "text": [
      "1\n"
     ]
    }
   ],
   "source": [
    "b = np.array([1,2,3,4,5])\n",
    "print(b.ndim)"
   ]
  },
  {
   "cell_type": "code",
   "execution_count": 8,
   "id": "6060eba8",
   "metadata": {},
   "outputs": [
    {
     "data": {
      "text/plain": [
       "4"
      ]
     },
     "execution_count": 8,
     "metadata": {},
     "output_type": "execute_result"
    }
   ],
   "source": [
    "b[3] #  #1 indexing"
   ]
  },
  {
   "cell_type": "code",
   "execution_count": 9,
   "id": "0a5cbad9",
   "metadata": {},
   "outputs": [],
   "source": [
    "#Two dimention"
   ]
  },
  {
   "cell_type": "code",
   "execution_count": 10,
   "id": "f2cc318c",
   "metadata": {},
   "outputs": [],
   "source": [
    "#2list inside a list(two dimention)"
   ]
  },
  {
   "cell_type": "code",
   "execution_count": 11,
   "id": "4a600cb5",
   "metadata": {},
   "outputs": [],
   "source": [
    "twoDim = np.array([[1,2,3],[4,5,6]])"
   ]
  },
  {
   "cell_type": "code",
   "execution_count": 12,
   "id": "81556dd1",
   "metadata": {},
   "outputs": [
    {
     "data": {
      "text/plain": [
       "array([[1, 2, 3],\n",
       "       [4, 5, 6]])"
      ]
     },
     "execution_count": 12,
     "metadata": {},
     "output_type": "execute_result"
    }
   ],
   "source": [
    "twoDim"
   ]
  },
  {
   "cell_type": "code",
   "execution_count": 13,
   "id": "46c445ce",
   "metadata": {},
   "outputs": [
    {
     "data": {
      "text/plain": [
       "2"
      ]
     },
     "execution_count": 13,
     "metadata": {},
     "output_type": "execute_result"
    }
   ],
   "source": [
    "(twoDim.ndim)"
   ]
  },
  {
   "cell_type": "code",
   "execution_count": 14,
   "id": "9ff23c5d",
   "metadata": {},
   "outputs": [
    {
     "data": {
      "text/plain": [
       "array([1, 2, 3])"
      ]
     },
     "execution_count": 14,
     "metadata": {},
     "output_type": "execute_result"
    }
   ],
   "source": [
    "twoDim[0] #2 indexing\n"
   ]
  },
  {
   "cell_type": "code",
   "execution_count": 15,
   "id": "d0a5b1a4",
   "metadata": {},
   "outputs": [],
   "source": [
    "twoDim = np.array([[1,2,3,4,5,12],[6,7,8,9,10,13]])"
   ]
  },
  {
   "cell_type": "code",
   "execution_count": 16,
   "id": "c77c4d95",
   "metadata": {},
   "outputs": [
    {
     "data": {
      "text/plain": [
       "8"
      ]
     },
     "execution_count": 16,
     "metadata": {},
     "output_type": "execute_result"
    }
   ],
   "source": [
    "twoDim[1,2]"
   ]
  },
  {
   "cell_type": "code",
   "execution_count": 17,
   "id": "be4224e8",
   "metadata": {},
   "outputs": [],
   "source": [
    "#3 dimentional is 2 list in side a list.each of the 2 list as 2 list each. "
   ]
  },
  {
   "cell_type": "code",
   "execution_count": null,
   "id": "b7d9f0f6",
   "metadata": {},
   "outputs": [],
   "source": []
  },
  {
   "cell_type": "code",
   "execution_count": 18,
   "id": "5701bf43",
   "metadata": {},
   "outputs": [],
   "source": [
    "threeDim = np.array([[[1,2],[3,4]], [[5,6],[7,8]]])"
   ]
  },
  {
   "cell_type": "code",
   "execution_count": 19,
   "id": "0702016e",
   "metadata": {},
   "outputs": [
    {
     "data": {
      "text/plain": [
       "3"
      ]
     },
     "execution_count": 19,
     "metadata": {},
     "output_type": "execute_result"
    }
   ],
   "source": [
    "(threeDim.ndim)"
   ]
  },
  {
   "cell_type": "code",
   "execution_count": 20,
   "id": "f4b7e9bd",
   "metadata": {},
   "outputs": [
    {
     "data": {
      "text/plain": [
       "3"
      ]
     },
     "execution_count": 20,
     "metadata": {},
     "output_type": "execute_result"
    }
   ],
   "source": [
    "twoDim[0,2] #3 indexing"
   ]
  },
  {
   "cell_type": "code",
   "execution_count": 21,
   "id": "ca6625fd",
   "metadata": {},
   "outputs": [],
   "source": [
    "#checking array"
   ]
  },
  {
   "cell_type": "code",
   "execution_count": 22,
   "id": "7ee55689",
   "metadata": {},
   "outputs": [],
   "source": [
    "threeDim = np.array([[[1,2],[3,4]],[[5,6],[7,8]]])\n",
    "\n",
    "# 1 [A [C & D ] & B [E & F]]"
   ]
  },
  {
   "cell_type": "code",
   "execution_count": 23,
   "id": "4ffb4035",
   "metadata": {},
   "outputs": [
    {
     "data": {
      "text/plain": [
       "array([1, 2])"
      ]
     },
     "execution_count": 23,
     "metadata": {},
     "output_type": "execute_result"
    }
   ],
   "source": [
    "(threeDim[0,0])"
   ]
  },
  {
   "cell_type": "code",
   "execution_count": 24,
   "id": "e37070e9",
   "metadata": {},
   "outputs": [
    {
     "data": {
      "text/plain": [
       "array([3, 4])"
      ]
     },
     "execution_count": 24,
     "metadata": {},
     "output_type": "execute_result"
    }
   ],
   "source": [
    "(threeDim[0,1])"
   ]
  },
  {
   "cell_type": "code",
   "execution_count": 25,
   "id": "27a4a0a1",
   "metadata": {},
   "outputs": [
    {
     "data": {
      "text/plain": [
       "array([7, 8])"
      ]
     },
     "execution_count": 25,
     "metadata": {},
     "output_type": "execute_result"
    }
   ],
   "source": [
    "(threeDim[1,1])"
   ]
  },
  {
   "cell_type": "code",
   "execution_count": 26,
   "id": "2ae905a5",
   "metadata": {},
   "outputs": [
    {
     "data": {
      "text/plain": [
       "array([5, 6])"
      ]
     },
     "execution_count": 26,
     "metadata": {},
     "output_type": "execute_result"
    }
   ],
   "source": [
    "(threeDim[1,0])"
   ]
  },
  {
   "cell_type": "code",
   "execution_count": 27,
   "id": "acf2a66f",
   "metadata": {},
   "outputs": [],
   "source": [
    "#checking element"
   ]
  },
  {
   "cell_type": "code",
   "execution_count": 28,
   "id": "b1f116be",
   "metadata": {},
   "outputs": [
    {
     "data": {
      "text/plain": [
       "3"
      ]
     },
     "execution_count": 28,
     "metadata": {},
     "output_type": "execute_result"
    }
   ],
   "source": [
    "(threeDim[0,1,0])"
   ]
  },
  {
   "cell_type": "code",
   "execution_count": 29,
   "id": "89b0e5e1",
   "metadata": {},
   "outputs": [
    {
     "data": {
      "text/plain": [
       "5"
      ]
     },
     "execution_count": 29,
     "metadata": {},
     "output_type": "execute_result"
    }
   ],
   "source": [
    "(threeDim[1,0,0])"
   ]
  },
  {
   "cell_type": "code",
   "execution_count": 30,
   "id": "e6468924",
   "metadata": {},
   "outputs": [
    {
     "data": {
      "text/plain": [
       "8"
      ]
     },
     "execution_count": 30,
     "metadata": {},
     "output_type": "execute_result"
    }
   ],
   "source": [
    "(threeDim[1,1,1])"
   ]
  },
  {
   "cell_type": "code",
   "execution_count": 31,
   "id": "a53319b3",
   "metadata": {},
   "outputs": [],
   "source": [
    "#FOR LOOP"
   ]
  },
  {
   "cell_type": "code",
   "execution_count": 32,
   "id": "495f81c7",
   "metadata": {},
   "outputs": [
    {
     "name": "stdout",
     "output_type": "stream",
     "text": [
      "1\n",
      "2\n",
      "3\n",
      "4\n",
      "5\n"
     ]
    }
   ],
   "source": [
    "for x in b:\n",
    "   \n",
    "    print(x)"
   ]
  },
  {
   "cell_type": "code",
   "execution_count": 33,
   "id": "ea4d53e8",
   "metadata": {},
   "outputs": [
    {
     "name": "stdout",
     "output_type": "stream",
     "text": [
      "1\n",
      "2\n",
      "3\n",
      "4\n",
      "5\n",
      "12\n",
      "6\n",
      "7\n",
      "8\n",
      "9\n",
      "10\n",
      "13\n"
     ]
    }
   ],
   "source": [
    "\n",
    "\n",
    "for x in twoDim:\n",
    "   for i in x: \n",
    "    print(i)"
   ]
  },
  {
   "cell_type": "code",
   "execution_count": 34,
   "id": "3317fe72",
   "metadata": {},
   "outputs": [
    {
     "name": "stdout",
     "output_type": "stream",
     "text": [
      "[[1 2]\n",
      " [3 4]]\n",
      "[[5 6]\n",
      " [7 8]]\n"
     ]
    }
   ],
   "source": [
    "\n",
    "\n",
    "for x in threeDim:\n",
    "    print(x)\n"
   ]
  },
  {
   "cell_type": "code",
   "execution_count": 35,
   "id": "45a057a1",
   "metadata": {},
   "outputs": [
    {
     "name": "stdout",
     "output_type": "stream",
     "text": [
      "[1 2]\n",
      "[3 4]\n",
      "[5 6]\n",
      "[7 8]\n"
     ]
    }
   ],
   "source": [
    "\n",
    "for x in threeDim:\n",
    "  for i in x:\n",
    "    print(i)\n"
   ]
  },
  {
   "cell_type": "code",
   "execution_count": 36,
   "id": "57bc40ee",
   "metadata": {},
   "outputs": [
    {
     "name": "stdout",
     "output_type": "stream",
     "text": [
      "1\n",
      "2\n",
      "3\n",
      "4\n",
      "5\n",
      "6\n",
      "7\n",
      "8\n"
     ]
    }
   ],
   "source": [
    "for x in threeDim:\n",
    "  for i in x:\n",
    "    for y in i:\n",
    "      print(y)"
   ]
  },
  {
   "cell_type": "code",
   "execution_count": 37,
   "id": "f73227ad",
   "metadata": {},
   "outputs": [],
   "source": [
    "#Assignment 1.Create 30 random numbers with the numpy library\n",
    "#2.Create a two dimensional array with the numpy array"
   ]
  },
  {
   "cell_type": "code",
   "execution_count": 38,
   "id": "e5ea0f64",
   "metadata": {},
   "outputs": [],
   "source": [
    "#1.Create 30 random numbers with the numpy library"
   ]
  },
  {
   "cell_type": "code",
   "execution_count": 39,
   "id": "5c3ac396",
   "metadata": {},
   "outputs": [
    {
     "name": "stdout",
     "output_type": "stream",
     "text": [
      "[0.38852063 0.5437264  0.92676502 0.67827639 0.73598268 0.51364211\n",
      " 0.86501246 0.24058338 0.48497243 0.28624156 0.71487461 0.4036563\n",
      " 0.7442746  0.49597223 0.39459002 0.76713151 0.14719238 0.29696175\n",
      " 0.04542246 0.01309663 0.00349969 0.83668582 0.83855045 0.06511195\n",
      " 0.46790622 0.08884595 0.7443923  0.42521533 0.06927552 0.05294127]\n"
     ]
    }
   ],
   "source": [
    "print(np.random.random(30))"
   ]
  },
  {
   "cell_type": "code",
   "execution_count": 40,
   "id": "711890ee",
   "metadata": {},
   "outputs": [],
   "source": [
    "TwoDim = np.array([[82,84,62],[42,55,67]])"
   ]
  },
  {
   "cell_type": "code",
   "execution_count": 41,
   "id": "1cd01f24",
   "metadata": {},
   "outputs": [
    {
     "data": {
      "text/plain": [
       "array([[82, 84, 62],\n",
       "       [42, 55, 67]])"
      ]
     },
     "execution_count": 41,
     "metadata": {},
     "output_type": "execute_result"
    }
   ],
   "source": [
    "TwoDim "
   ]
  },
  {
   "cell_type": "code",
   "execution_count": 42,
   "id": "56aff9b1",
   "metadata": {},
   "outputs": [
    {
     "data": {
      "text/plain": [
       "2"
      ]
     },
     "execution_count": 42,
     "metadata": {},
     "output_type": "execute_result"
    }
   ],
   "source": [
    "(TwoDim.ndim)"
   ]
  },
  {
   "cell_type": "code",
   "execution_count": 43,
   "id": "f2025bfa",
   "metadata": {},
   "outputs": [],
   "source": [
    "#Generate random number using Standard number distribution"
   ]
  },
  {
   "cell_type": "code",
   "execution_count": 44,
   "id": "b1366973",
   "metadata": {},
   "outputs": [
    {
     "name": "stdout",
     "output_type": "stream",
     "text": [
      "[ 1.72693456 -0.0418712  -0.01999596  0.93435214  0.96871887  0.09455448]\n"
     ]
    }
   ],
   "source": [
    "normal_numbers = np.random.normal(0, 1, 6)  # The first number is the mean 2 number is standard deviation 3rd number is the range of number that you want. 5 random numbers from a standard normal distribution\n",
    "print(normal_numbers)"
   ]
  },
  {
   "cell_type": "code",
   "execution_count": 45,
   "id": "695288fa",
   "metadata": {},
   "outputs": [],
   "source": [
    "#Using the Zeros function in numpy to generate only zeros\n"
   ]
  },
  {
   "cell_type": "code",
   "execution_count": 46,
   "id": "1d086641",
   "metadata": {},
   "outputs": [
    {
     "name": "stdout",
     "output_type": "stream",
     "text": [
      "[0. 0. 0. 0. 0. 0.]\n"
     ]
    }
   ],
   "source": [
    "one_d_array = np.zeros(6)\n",
    "print(one_d_array) # one dimensional array generated using the zeros function"
   ]
  },
  {
   "cell_type": "code",
   "execution_count": 47,
   "id": "7245afa3",
   "metadata": {},
   "outputs": [
    {
     "name": "stdout",
     "output_type": "stream",
     "text": [
      "[[0. 0. 0. 0. 0. 0.]\n",
      " [0. 0. 0. 0. 0. 0.]\n",
      " [0. 0. 0. 0. 0. 0.]\n",
      " [0. 0. 0. 0. 0. 0.]\n",
      " [0. 0. 0. 0. 0. 0.]\n",
      " [0. 0. 0. 0. 0. 0.]\n",
      " [0. 0. 0. 0. 0. 0.]]\n"
     ]
    }
   ],
   "source": [
    "two_d_array = np.zeros((7, 6))\n",
    "print(two_d_array) # two dimensional array generated using the zeros function"
   ]
  },
  {
   "cell_type": "code",
   "execution_count": 48,
   "id": "3bf38ad0",
   "metadata": {},
   "outputs": [
    {
     "name": "stdout",
     "output_type": "stream",
     "text": [
      "[[[0. 0. 0. 0. 0.]\n",
      "  [0. 0. 0. 0. 0.]\n",
      "  [0. 0. 0. 0. 0.]\n",
      "  [0. 0. 0. 0. 0.]\n",
      "  [0. 0. 0. 0. 0.]\n",
      "  [0. 0. 0. 0. 0.]]\n",
      "\n",
      " [[0. 0. 0. 0. 0.]\n",
      "  [0. 0. 0. 0. 0.]\n",
      "  [0. 0. 0. 0. 0.]\n",
      "  [0. 0. 0. 0. 0.]\n",
      "  [0. 0. 0. 0. 0.]\n",
      "  [0. 0. 0. 0. 0.]]\n",
      "\n",
      " [[0. 0. 0. 0. 0.]\n",
      "  [0. 0. 0. 0. 0.]\n",
      "  [0. 0. 0. 0. 0.]\n",
      "  [0. 0. 0. 0. 0.]\n",
      "  [0. 0. 0. 0. 0.]\n",
      "  [0. 0. 0. 0. 0.]]\n",
      "\n",
      " [[0. 0. 0. 0. 0.]\n",
      "  [0. 0. 0. 0. 0.]\n",
      "  [0. 0. 0. 0. 0.]\n",
      "  [0. 0. 0. 0. 0.]\n",
      "  [0. 0. 0. 0. 0.]\n",
      "  [0. 0. 0. 0. 0.]]\n",
      "\n",
      " [[0. 0. 0. 0. 0.]\n",
      "  [0. 0. 0. 0. 0.]\n",
      "  [0. 0. 0. 0. 0.]\n",
      "  [0. 0. 0. 0. 0.]\n",
      "  [0. 0. 0. 0. 0.]\n",
      "  [0. 0. 0. 0. 0.]]\n",
      "\n",
      " [[0. 0. 0. 0. 0.]\n",
      "  [0. 0. 0. 0. 0.]\n",
      "  [0. 0. 0. 0. 0.]\n",
      "  [0. 0. 0. 0. 0.]\n",
      "  [0. 0. 0. 0. 0.]\n",
      "  [0. 0. 0. 0. 0.]]\n",
      "\n",
      " [[0. 0. 0. 0. 0.]\n",
      "  [0. 0. 0. 0. 0.]\n",
      "  [0. 0. 0. 0. 0.]\n",
      "  [0. 0. 0. 0. 0.]\n",
      "  [0. 0. 0. 0. 0.]\n",
      "  [0. 0. 0. 0. 0.]]]\n"
     ]
    }
   ],
   "source": [
    "three_d_array = np.zeros((7, 6, 5))\n",
    "print(three_d_array) # three dimensional array generated using the zeros function"
   ]
  },
  {
   "cell_type": "code",
   "execution_count": 49,
   "id": "0b828fbd",
   "metadata": {},
   "outputs": [],
   "source": [
    "#Using the ones function in numpy to generate only zeros"
   ]
  },
  {
   "cell_type": "code",
   "execution_count": 50,
   "id": "282a5ebe",
   "metadata": {},
   "outputs": [
    {
     "name": "stdout",
     "output_type": "stream",
     "text": [
      "[1. 1. 1. 1. 1. 1.]\n"
     ]
    }
   ],
   "source": [
    "one_d_array = np.ones(6)\n",
    "print(one_d_array) # one dimensional array generated using the ones function"
   ]
  },
  {
   "cell_type": "code",
   "execution_count": 51,
   "id": "96f88fb2",
   "metadata": {},
   "outputs": [
    {
     "name": "stdout",
     "output_type": "stream",
     "text": [
      "[[1. 1. 1. 1. 1. 1.]\n",
      " [1. 1. 1. 1. 1. 1.]\n",
      " [1. 1. 1. 1. 1. 1.]\n",
      " [1. 1. 1. 1. 1. 1.]\n",
      " [1. 1. 1. 1. 1. 1.]\n",
      " [1. 1. 1. 1. 1. 1.]\n",
      " [1. 1. 1. 1. 1. 1.]]\n"
     ]
    }
   ],
   "source": [
    "two_d_array = np.ones((7, 6))\n",
    "print(two_d_array) # two dimensional array generated using the ones function"
   ]
  },
  {
   "cell_type": "code",
   "execution_count": 52,
   "id": "96b0d18d",
   "metadata": {},
   "outputs": [
    {
     "name": "stdout",
     "output_type": "stream",
     "text": [
      "[[[1. 1. 1. 1. 1.]\n",
      "  [1. 1. 1. 1. 1.]\n",
      "  [1. 1. 1. 1. 1.]\n",
      "  [1. 1. 1. 1. 1.]\n",
      "  [1. 1. 1. 1. 1.]\n",
      "  [1. 1. 1. 1. 1.]]\n",
      "\n",
      " [[1. 1. 1. 1. 1.]\n",
      "  [1. 1. 1. 1. 1.]\n",
      "  [1. 1. 1. 1. 1.]\n",
      "  [1. 1. 1. 1. 1.]\n",
      "  [1. 1. 1. 1. 1.]\n",
      "  [1. 1. 1. 1. 1.]]\n",
      "\n",
      " [[1. 1. 1. 1. 1.]\n",
      "  [1. 1. 1. 1. 1.]\n",
      "  [1. 1. 1. 1. 1.]\n",
      "  [1. 1. 1. 1. 1.]\n",
      "  [1. 1. 1. 1. 1.]\n",
      "  [1. 1. 1. 1. 1.]]\n",
      "\n",
      " [[1. 1. 1. 1. 1.]\n",
      "  [1. 1. 1. 1. 1.]\n",
      "  [1. 1. 1. 1. 1.]\n",
      "  [1. 1. 1. 1. 1.]\n",
      "  [1. 1. 1. 1. 1.]\n",
      "  [1. 1. 1. 1. 1.]]\n",
      "\n",
      " [[1. 1. 1. 1. 1.]\n",
      "  [1. 1. 1. 1. 1.]\n",
      "  [1. 1. 1. 1. 1.]\n",
      "  [1. 1. 1. 1. 1.]\n",
      "  [1. 1. 1. 1. 1.]\n",
      "  [1. 1. 1. 1. 1.]]\n",
      "\n",
      " [[1. 1. 1. 1. 1.]\n",
      "  [1. 1. 1. 1. 1.]\n",
      "  [1. 1. 1. 1. 1.]\n",
      "  [1. 1. 1. 1. 1.]\n",
      "  [1. 1. 1. 1. 1.]\n",
      "  [1. 1. 1. 1. 1.]]\n",
      "\n",
      " [[1. 1. 1. 1. 1.]\n",
      "  [1. 1. 1. 1. 1.]\n",
      "  [1. 1. 1. 1. 1.]\n",
      "  [1. 1. 1. 1. 1.]\n",
      "  [1. 1. 1. 1. 1.]\n",
      "  [1. 1. 1. 1. 1.]]]\n"
     ]
    }
   ],
   "source": [
    "three_d_array = np.ones((7, 6, 5))\n",
    "print(three_d_array) # three dimensional array generated using the ones function"
   ]
  },
  {
   "cell_type": "code",
   "execution_count": 53,
   "id": "18826f07",
   "metadata": {},
   "outputs": [],
   "source": [
    "from scipy import stats\n",
    "dataset = [2,3,3,4,6,7,8,9,11,14,16,23,25,65,102]"
   ]
  },
  {
   "cell_type": "code",
   "execution_count": 54,
   "id": "cb3b1835",
   "metadata": {},
   "outputs": [],
   "source": [
    "mean = np.mean(dataset)"
   ]
  },
  {
   "cell_type": "code",
   "execution_count": 55,
   "id": "8bee9a24",
   "metadata": {},
   "outputs": [
    {
     "data": {
      "text/plain": [
       "19.866666666666667"
      ]
     },
     "execution_count": 55,
     "metadata": {},
     "output_type": "execute_result"
    }
   ],
   "source": [
    "mean"
   ]
  },
  {
   "cell_type": "code",
   "execution_count": 56,
   "id": "043daa86",
   "metadata": {},
   "outputs": [],
   "source": [
    "median = np.median(dataset)"
   ]
  },
  {
   "cell_type": "code",
   "execution_count": 57,
   "id": "673876e3",
   "metadata": {},
   "outputs": [
    {
     "data": {
      "text/plain": [
       "9.0"
      ]
     },
     "execution_count": 57,
     "metadata": {},
     "output_type": "execute_result"
    }
   ],
   "source": [
    "median"
   ]
  },
  {
   "cell_type": "code",
   "execution_count": 58,
   "id": "1843460d",
   "metadata": {},
   "outputs": [],
   "source": [
    "mode = stats.mode(dataset)"
   ]
  },
  {
   "cell_type": "code",
   "execution_count": 59,
   "id": "5aff59b1",
   "metadata": {},
   "outputs": [
    {
     "data": {
      "text/plain": [
       "ModeResult(mode=3, count=2)"
      ]
     },
     "execution_count": 59,
     "metadata": {},
     "output_type": "execute_result"
    }
   ],
   "source": [
    "mode"
   ]
  },
  {
   "cell_type": "code",
   "execution_count": 60,
   "id": "795565ae",
   "metadata": {},
   "outputs": [],
   "source": [
    "std = np.std(dataset)"
   ]
  },
  {
   "cell_type": "code",
   "execution_count": 61,
   "id": "a80696c3",
   "metadata": {},
   "outputs": [
    {
     "data": {
      "text/plain": [
       "26.71295981770313"
      ]
     },
     "execution_count": 61,
     "metadata": {},
     "output_type": "execute_result"
    }
   ],
   "source": [
    "std"
   ]
  },
  {
   "cell_type": "code",
   "execution_count": 62,
   "id": "74398342",
   "metadata": {},
   "outputs": [],
   "source": [
    "percent = np.percentile(dataset,25)"
   ]
  },
  {
   "cell_type": "code",
   "execution_count": 63,
   "id": "810d221c",
   "metadata": {},
   "outputs": [
    {
     "data": {
      "text/plain": [
       "5.0"
      ]
     },
     "execution_count": 63,
     "metadata": {},
     "output_type": "execute_result"
    }
   ],
   "source": [
    "percent"
   ]
  },
  {
   "cell_type": "code",
   "execution_count": 64,
   "id": "d07f35ba",
   "metadata": {},
   "outputs": [],
   "source": [
    "import pandas as pd"
   ]
  },
  {
   "cell_type": "code",
   "execution_count": 65,
   "id": "87b026bc",
   "metadata": {},
   "outputs": [],
   "source": [
    "tip=pd.read_csv('tip.csv')"
   ]
  },
  {
   "cell_type": "code",
   "execution_count": 66,
   "id": "5dff8207",
   "metadata": {},
   "outputs": [
    {
     "data": {
      "text/html": [
       "<div>\n",
       "<style scoped>\n",
       "    .dataframe tbody tr th:only-of-type {\n",
       "        vertical-align: middle;\n",
       "    }\n",
       "\n",
       "    .dataframe tbody tr th {\n",
       "        vertical-align: top;\n",
       "    }\n",
       "\n",
       "    .dataframe thead th {\n",
       "        text-align: right;\n",
       "    }\n",
       "</style>\n",
       "<table border=\"1\" class=\"dataframe\">\n",
       "  <thead>\n",
       "    <tr style=\"text-align: right;\">\n",
       "      <th></th>\n",
       "      <th>total_bill</th>\n",
       "      <th>tip</th>\n",
       "      <th>sex</th>\n",
       "      <th>smoker</th>\n",
       "      <th>day</th>\n",
       "      <th>time</th>\n",
       "      <th>size</th>\n",
       "    </tr>\n",
       "  </thead>\n",
       "  <tbody>\n",
       "    <tr>\n",
       "      <th>0</th>\n",
       "      <td>16.99</td>\n",
       "      <td>1.01</td>\n",
       "      <td>Female</td>\n",
       "      <td>No</td>\n",
       "      <td>Sun</td>\n",
       "      <td>Dinner</td>\n",
       "      <td>2</td>\n",
       "    </tr>\n",
       "    <tr>\n",
       "      <th>1</th>\n",
       "      <td>10.34</td>\n",
       "      <td>1.66</td>\n",
       "      <td>Male</td>\n",
       "      <td>No</td>\n",
       "      <td>Sun</td>\n",
       "      <td>Dinner</td>\n",
       "      <td>3</td>\n",
       "    </tr>\n",
       "    <tr>\n",
       "      <th>2</th>\n",
       "      <td>21.01</td>\n",
       "      <td>3.50</td>\n",
       "      <td>Male</td>\n",
       "      <td>No</td>\n",
       "      <td>Sun</td>\n",
       "      <td>Dinner</td>\n",
       "      <td>3</td>\n",
       "    </tr>\n",
       "    <tr>\n",
       "      <th>3</th>\n",
       "      <td>23.68</td>\n",
       "      <td>3.31</td>\n",
       "      <td>Male</td>\n",
       "      <td>No</td>\n",
       "      <td>Sun</td>\n",
       "      <td>Dinner</td>\n",
       "      <td>2</td>\n",
       "    </tr>\n",
       "    <tr>\n",
       "      <th>4</th>\n",
       "      <td>24.59</td>\n",
       "      <td>3.61</td>\n",
       "      <td>Female</td>\n",
       "      <td>No</td>\n",
       "      <td>Sun</td>\n",
       "      <td>Dinner</td>\n",
       "      <td>4</td>\n",
       "    </tr>\n",
       "    <tr>\n",
       "      <th>...</th>\n",
       "      <td>...</td>\n",
       "      <td>...</td>\n",
       "      <td>...</td>\n",
       "      <td>...</td>\n",
       "      <td>...</td>\n",
       "      <td>...</td>\n",
       "      <td>...</td>\n",
       "    </tr>\n",
       "    <tr>\n",
       "      <th>239</th>\n",
       "      <td>29.03</td>\n",
       "      <td>5.92</td>\n",
       "      <td>Male</td>\n",
       "      <td>No</td>\n",
       "      <td>Sat</td>\n",
       "      <td>Dinner</td>\n",
       "      <td>3</td>\n",
       "    </tr>\n",
       "    <tr>\n",
       "      <th>240</th>\n",
       "      <td>27.18</td>\n",
       "      <td>2.00</td>\n",
       "      <td>Female</td>\n",
       "      <td>Yes</td>\n",
       "      <td>Sat</td>\n",
       "      <td>Dinner</td>\n",
       "      <td>2</td>\n",
       "    </tr>\n",
       "    <tr>\n",
       "      <th>241</th>\n",
       "      <td>22.67</td>\n",
       "      <td>2.00</td>\n",
       "      <td>Male</td>\n",
       "      <td>Yes</td>\n",
       "      <td>Sat</td>\n",
       "      <td>Dinner</td>\n",
       "      <td>2</td>\n",
       "    </tr>\n",
       "    <tr>\n",
       "      <th>242</th>\n",
       "      <td>17.82</td>\n",
       "      <td>1.75</td>\n",
       "      <td>Male</td>\n",
       "      <td>No</td>\n",
       "      <td>Sat</td>\n",
       "      <td>Dinner</td>\n",
       "      <td>2</td>\n",
       "    </tr>\n",
       "    <tr>\n",
       "      <th>243</th>\n",
       "      <td>18.78</td>\n",
       "      <td>3.00</td>\n",
       "      <td>Female</td>\n",
       "      <td>No</td>\n",
       "      <td>Thur</td>\n",
       "      <td>Dinner</td>\n",
       "      <td>2</td>\n",
       "    </tr>\n",
       "  </tbody>\n",
       "</table>\n",
       "<p>244 rows × 7 columns</p>\n",
       "</div>"
      ],
      "text/plain": [
       "     total_bill   tip     sex smoker   day    time  size\n",
       "0         16.99  1.01  Female     No   Sun  Dinner     2\n",
       "1         10.34  1.66    Male     No   Sun  Dinner     3\n",
       "2         21.01  3.50    Male     No   Sun  Dinner     3\n",
       "3         23.68  3.31    Male     No   Sun  Dinner     2\n",
       "4         24.59  3.61  Female     No   Sun  Dinner     4\n",
       "..          ...   ...     ...    ...   ...     ...   ...\n",
       "239       29.03  5.92    Male     No   Sat  Dinner     3\n",
       "240       27.18  2.00  Female    Yes   Sat  Dinner     2\n",
       "241       22.67  2.00    Male    Yes   Sat  Dinner     2\n",
       "242       17.82  1.75    Male     No   Sat  Dinner     2\n",
       "243       18.78  3.00  Female     No  Thur  Dinner     2\n",
       "\n",
       "[244 rows x 7 columns]"
      ]
     },
     "execution_count": 66,
     "metadata": {},
     "output_type": "execute_result"
    }
   ],
   "source": [
    "tip"
   ]
  },
  {
   "cell_type": "code",
   "execution_count": 67,
   "id": "4ff80cfd",
   "metadata": {},
   "outputs": [],
   "source": [
    "#Continous dataset are dataset that are only numerical, they contain only numbers either float or integers"
   ]
  },
  {
   "cell_type": "code",
   "execution_count": 68,
   "id": "5c940e83",
   "metadata": {},
   "outputs": [],
   "source": [
    "#Categorical dataset is a dataset that is not numerical dataset, it cane be either a text or a datatime or boolean datasets\n"
   ]
  },
  {
   "cell_type": "code",
   "execution_count": 69,
   "id": "7474c9b7",
   "metadata": {},
   "outputs": [],
   "source": [
    "#Univarriate "
   ]
  },
  {
   "cell_type": "code",
   "execution_count": 70,
   "id": "28a3922f",
   "metadata": {},
   "outputs": [],
   "source": [
    "#total_bill"
   ]
  },
  {
   "cell_type": "code",
   "execution_count": 71,
   "id": "6450f63e",
   "metadata": {},
   "outputs": [
    {
     "data": {
      "text/plain": [
       "0      16.99\n",
       "1      10.34\n",
       "2      21.01\n",
       "3      23.68\n",
       "4      24.59\n",
       "       ...  \n",
       "239    29.03\n",
       "240    27.18\n",
       "241    22.67\n",
       "242    17.82\n",
       "243    18.78\n",
       "Name: total_bill, Length: 244, dtype: float64"
      ]
     },
     "execution_count": 71,
     "metadata": {},
     "output_type": "execute_result"
    }
   ],
   "source": [
    "tip['total_bill']"
   ]
  },
  {
   "cell_type": "code",
   "execution_count": 72,
   "id": "eff20306",
   "metadata": {},
   "outputs": [],
   "source": [
    "T_bill=tip['total_bill']"
   ]
  },
  {
   "cell_type": "code",
   "execution_count": 73,
   "id": "daf8cc12",
   "metadata": {},
   "outputs": [],
   "source": [
    "null_count=T_bill.isnull().sum()"
   ]
  },
  {
   "cell_type": "code",
   "execution_count": 74,
   "id": "da67e3e2",
   "metadata": {},
   "outputs": [
    {
     "data": {
      "text/plain": [
       "0"
      ]
     },
     "execution_count": 74,
     "metadata": {},
     "output_type": "execute_result"
    }
   ],
   "source": [
    "null_count"
   ]
  },
  {
   "cell_type": "code",
   "execution_count": 75,
   "id": "882f1723",
   "metadata": {},
   "outputs": [
    {
     "data": {
      "text/plain": [
       "19.78594262295082"
      ]
     },
     "execution_count": 75,
     "metadata": {},
     "output_type": "execute_result"
    }
   ],
   "source": [
    "mean = np.mean(T_bill)\n",
    "mean"
   ]
  },
  {
   "cell_type": "code",
   "execution_count": 76,
   "id": "38ce0fa8",
   "metadata": {},
   "outputs": [
    {
     "data": {
      "text/plain": [
       "17.795"
      ]
     },
     "execution_count": 76,
     "metadata": {},
     "output_type": "execute_result"
    }
   ],
   "source": [
    "median = np.median(T_bill)\n",
    "median"
   ]
  },
  {
   "cell_type": "code",
   "execution_count": 77,
   "id": "668b3a6e",
   "metadata": {},
   "outputs": [
    {
     "data": {
      "text/plain": [
       "ModeResult(mode=13.42, count=3)"
      ]
     },
     "execution_count": 77,
     "metadata": {},
     "output_type": "execute_result"
    }
   ],
   "source": [
    "mode = stats.mode(T_bill)\n",
    "mode"
   ]
  },
  {
   "cell_type": "code",
   "execution_count": 78,
   "id": "cef39fc0",
   "metadata": {},
   "outputs": [
    {
     "data": {
      "text/plain": [
       "8.88415057777113"
      ]
     },
     "execution_count": 78,
     "metadata": {},
     "output_type": "execute_result"
    }
   ],
   "source": [
    "std = np.std(T_bill)\n",
    "std"
   ]
  },
  {
   "cell_type": "code",
   "execution_count": 79,
   "id": "602e904a",
   "metadata": {},
   "outputs": [
    {
     "data": {
      "text/plain": [
       "13.3475"
      ]
     },
     "execution_count": 79,
     "metadata": {},
     "output_type": "execute_result"
    }
   ],
   "source": [
    "percent = np.percentile(T_bill,25)\n",
    "percent"
   ]
  },
  {
   "cell_type": "code",
   "execution_count": 80,
   "id": "f9cd37bf",
   "metadata": {},
   "outputs": [
    {
     "data": {
      "text/html": [
       "<div>\n",
       "<style scoped>\n",
       "    .dataframe tbody tr th:only-of-type {\n",
       "        vertical-align: middle;\n",
       "    }\n",
       "\n",
       "    .dataframe tbody tr th {\n",
       "        vertical-align: top;\n",
       "    }\n",
       "\n",
       "    .dataframe thead th {\n",
       "        text-align: right;\n",
       "    }\n",
       "</style>\n",
       "<table border=\"1\" class=\"dataframe\">\n",
       "  <thead>\n",
       "    <tr style=\"text-align: right;\">\n",
       "      <th></th>\n",
       "      <th>total_bill</th>\n",
       "      <th>tip</th>\n",
       "      <th>size</th>\n",
       "    </tr>\n",
       "  </thead>\n",
       "  <tbody>\n",
       "    <tr>\n",
       "      <th>0</th>\n",
       "      <td>16.99</td>\n",
       "      <td>1.01</td>\n",
       "      <td>2</td>\n",
       "    </tr>\n",
       "    <tr>\n",
       "      <th>1</th>\n",
       "      <td>10.34</td>\n",
       "      <td>1.66</td>\n",
       "      <td>3</td>\n",
       "    </tr>\n",
       "    <tr>\n",
       "      <th>2</th>\n",
       "      <td>21.01</td>\n",
       "      <td>3.50</td>\n",
       "      <td>3</td>\n",
       "    </tr>\n",
       "    <tr>\n",
       "      <th>3</th>\n",
       "      <td>23.68</td>\n",
       "      <td>3.31</td>\n",
       "      <td>2</td>\n",
       "    </tr>\n",
       "    <tr>\n",
       "      <th>4</th>\n",
       "      <td>24.59</td>\n",
       "      <td>3.61</td>\n",
       "      <td>4</td>\n",
       "    </tr>\n",
       "    <tr>\n",
       "      <th>...</th>\n",
       "      <td>...</td>\n",
       "      <td>...</td>\n",
       "      <td>...</td>\n",
       "    </tr>\n",
       "    <tr>\n",
       "      <th>239</th>\n",
       "      <td>29.03</td>\n",
       "      <td>5.92</td>\n",
       "      <td>3</td>\n",
       "    </tr>\n",
       "    <tr>\n",
       "      <th>240</th>\n",
       "      <td>27.18</td>\n",
       "      <td>2.00</td>\n",
       "      <td>2</td>\n",
       "    </tr>\n",
       "    <tr>\n",
       "      <th>241</th>\n",
       "      <td>22.67</td>\n",
       "      <td>2.00</td>\n",
       "      <td>2</td>\n",
       "    </tr>\n",
       "    <tr>\n",
       "      <th>242</th>\n",
       "      <td>17.82</td>\n",
       "      <td>1.75</td>\n",
       "      <td>2</td>\n",
       "    </tr>\n",
       "    <tr>\n",
       "      <th>243</th>\n",
       "      <td>18.78</td>\n",
       "      <td>3.00</td>\n",
       "      <td>2</td>\n",
       "    </tr>\n",
       "  </tbody>\n",
       "</table>\n",
       "<p>244 rows × 3 columns</p>\n",
       "</div>"
      ],
      "text/plain": [
       "     total_bill   tip  size\n",
       "0         16.99  1.01     2\n",
       "1         10.34  1.66     3\n",
       "2         21.01  3.50     3\n",
       "3         23.68  3.31     2\n",
       "4         24.59  3.61     4\n",
       "..          ...   ...   ...\n",
       "239       29.03  5.92     3\n",
       "240       27.18  2.00     2\n",
       "241       22.67  2.00     2\n",
       "242       17.82  1.75     2\n",
       "243       18.78  3.00     2\n",
       "\n",
       "[244 rows x 3 columns]"
      ]
     },
     "execution_count": 80,
     "metadata": {},
     "output_type": "execute_result"
    }
   ],
   "source": [
    "tip[['total_bill','tip','size']]"
   ]
  },
  {
   "cell_type": "code",
   "execution_count": 81,
   "id": "2f0882ae",
   "metadata": {},
   "outputs": [],
   "source": [
    "Three_cmn =tip[['total_bill','tip','size']]"
   ]
  },
  {
   "cell_type": "code",
   "execution_count": 82,
   "id": "0ca711f5",
   "metadata": {},
   "outputs": [
    {
     "data": {
      "text/plain": [
       "total_bill    19.785943\n",
       "tip            2.998279\n",
       "size           2.569672\n",
       "dtype: float64"
      ]
     },
     "execution_count": 82,
     "metadata": {},
     "output_type": "execute_result"
    }
   ],
   "source": [
    "Three_cmn.mean()"
   ]
  },
  {
   "cell_type": "code",
   "execution_count": 83,
   "id": "6d2469c3",
   "metadata": {},
   "outputs": [
    {
     "data": {
      "text/plain": [
       "total_bill    17.795\n",
       "tip            2.900\n",
       "size           2.000\n",
       "dtype: float64"
      ]
     },
     "execution_count": 83,
     "metadata": {},
     "output_type": "execute_result"
    }
   ],
   "source": [
    "Three_cmn.median()"
   ]
  },
  {
   "cell_type": "code",
   "execution_count": 84,
   "id": "a2bb38e8",
   "metadata": {},
   "outputs": [],
   "source": [
    "#Vitualization"
   ]
  },
  {
   "cell_type": "code",
   "execution_count": 85,
   "id": "39e1a6e8",
   "metadata": {},
   "outputs": [],
   "source": [
    "#Histogram"
   ]
  },
  {
   "cell_type": "code",
   "execution_count": 86,
   "id": "8167d2da",
   "metadata": {},
   "outputs": [
    {
     "data": {
      "text/plain": [
       "array([[<Axes: title={'center': 'total_bill'}>]], dtype=object)"
      ]
     },
     "execution_count": 86,
     "metadata": {},
     "output_type": "execute_result"
    },
    {
     "data": {
      "image/png": "[encoded data removed]",
      "text/plain": [
       "<Figure size 640x480 with 1 Axes>"
      ]
     },
     "metadata": {},
     "output_type": "display_data"
    }
   ],
   "source": [
    "tip.hist(column= ['total_bill'])"
   ]
  },
  {
   "cell_type": "code",
   "execution_count": 87,
   "id": "091e2a18",
   "metadata": {},
   "outputs": [],
   "source": [
    "#Scatter plot\n",
    "\n",
    "#Age = [ x for x in range(3, 23)]\n",
    "#weight= [x for x in range(30,90,3)]\n",
    "#plt.scatter(age, weight,c = \"#FF5678\",linestyle=\"--\",lw=10)\n",
    "# plt.scatter(age,weight)\n",
    "#plt.xlabel(\"age-axis\" )\n",
    "#plt.ylabel(\"weight-axis\")\n",
    "#plt.show()"
   ]
  },
  {
   "cell_type": "code",
   "execution_count": 88,
   "id": "e63ade0e",
   "metadata": {},
   "outputs": [],
   "source": [
    "import matplotlib.pyplot as plt"
   ]
  },
  {
   "cell_type": "code",
   "execution_count": 89,
   "id": "6bc85c8e",
   "metadata": {},
   "outputs": [
    {
     "data": {
      "image/png": "[encoded data removed]",
      "text/plain": [
       "<Figure size 640x480 with 1 Axes>"
      ]
     },
     "metadata": {},
     "output_type": "display_data"
    }
   ],
   "source": [
    "plt.scatter(tip['total_bill'],tip['tip'],c = \"#FF5678\",linestyle=\"--\",lw=10)\n",
    "plt.xlabel(\"total_bill-axis\" )\n",
    "plt.ylabel(\"tip-axis\")\n",
    "plt.title('Linear Relationship between total_bill and tip')\n",
    "plt.show()"
   ]
  },
  {
   "cell_type": "code",
   "execution_count": 90,
   "id": "1ea31040",
   "metadata": {},
   "outputs": [
    {
     "data": {
      "image/png": "[encoded data removed]",
      "text/plain": [
       "<Figure size 640x480 with 1 Axes>"
      ]
     },
     "metadata": {},
     "output_type": "display_data"
    }
   ],
   "source": [
    "plt.scatter(tip['total_bill'],tip['size'],c = \"#FF5678\",linestyle=\"--\",lw=10)\n",
    "plt.xlabel(\"total_bill-axis\" )\n",
    "plt.ylabel(\"size-axis\")\n",
    "plt.title('No Relationship between total_bill and size')\n",
    "plt.show()"
   ]
  },
  {
   "cell_type": "code",
   "execution_count": 91,
   "id": "1a094291",
   "metadata": {},
   "outputs": [
    {
     "data": {
      "text/plain": [
       "sex\n",
       "Male      157\n",
       "Female     87\n",
       "Name: count, dtype: int64"
      ]
     },
     "execution_count": 91,
     "metadata": {},
     "output_type": "execute_result"
    }
   ],
   "source": [
    "#Categorical /Checking the values\n",
    "tip.sex.value_counts()"
   ]
  },
  {
   "cell_type": "code",
   "execution_count": 92,
   "id": "9429ca65",
   "metadata": {},
   "outputs": [],
   "source": [
    "#Change a row in a column\n",
    "tip.at[50, 'total_bill'] = '  '"
   ]
  },
  {
   "cell_type": "code",
   "execution_count": 93,
   "id": "2e14b503",
   "metadata": {},
   "outputs": [
    {
     "data": {
      "text/plain": [
       "total_bill          \n",
       "tip              2.5\n",
       "sex             Male\n",
       "smoker            No\n",
       "day              Sun\n",
       "time          Dinner\n",
       "size               2\n",
       "Name: 50, dtype: object"
      ]
     },
     "execution_count": 93,
     "metadata": {},
     "output_type": "execute_result"
    }
   ],
   "source": [
    "tip.iloc[50]"
   ]
  },
  {
   "cell_type": "code",
   "execution_count": 94,
   "id": "f84fb75a",
   "metadata": {},
   "outputs": [],
   "source": [
    "#To replace the missing row(variable confirmation)"
   ]
  },
  {
   "cell_type": "code",
   "execution_count": 95,
   "id": "f343e3ee",
   "metadata": {},
   "outputs": [],
   "source": [
    "New_bill=tip['total_bill']"
   ]
  },
  {
   "cell_type": "code",
   "execution_count": 96,
   "id": "1934ce1b",
   "metadata": {},
   "outputs": [
    {
     "data": {
      "text/plain": [
       "0      16.99\n",
       "1      10.34\n",
       "2      21.01\n",
       "3      23.68\n",
       "4      24.59\n",
       "       ...  \n",
       "239    29.03\n",
       "240    27.18\n",
       "241    22.67\n",
       "242    17.82\n",
       "243    18.78\n",
       "Name: total_bill, Length: 244, dtype: object"
      ]
     },
     "execution_count": 96,
     "metadata": {},
     "output_type": "execute_result"
    }
   ],
   "source": [
    "New_bill"
   ]
  },
  {
   "cell_type": "code",
   "execution_count": 97,
   "id": "ec39aeb9",
   "metadata": {},
   "outputs": [],
   "source": [
    "tip.at[50, 'total_bill'] = np.nan"
   ]
  },
  {
   "cell_type": "code",
   "execution_count": 98,
   "id": "654fc717",
   "metadata": {},
   "outputs": [
    {
     "data": {
      "text/plain": [
       "19.815761316872432"
      ]
     },
     "execution_count": 98,
     "metadata": {},
     "output_type": "execute_result"
    }
   ],
   "source": [
    "mean = np.mean(New_bill)\n",
    "mean"
   ]
  },
  {
   "cell_type": "code",
   "execution_count": 99,
   "id": "34734745",
   "metadata": {},
   "outputs": [
    {
     "data": {
      "text/plain": [
       "0     16.99\n",
       "1     10.34\n",
       "2     21.01\n",
       "3     23.68\n",
       "4     24.59\n",
       "5     25.29\n",
       "6      8.77\n",
       "7     26.88\n",
       "8     15.04\n",
       "9     14.78\n",
       "10    10.27\n",
       "11    35.26\n",
       "12    15.42\n",
       "13    18.43\n",
       "14    14.83\n",
       "15    21.58\n",
       "16    10.33\n",
       "17    16.29\n",
       "18    16.97\n",
       "19    20.65\n",
       "20    17.92\n",
       "21    20.29\n",
       "22    15.77\n",
       "23    39.42\n",
       "24    19.82\n",
       "25    17.81\n",
       "26    13.37\n",
       "27    12.69\n",
       "28     21.7\n",
       "29    19.65\n",
       "30     9.55\n",
       "31    18.35\n",
       "32    15.06\n",
       "33    20.69\n",
       "34    17.78\n",
       "35    24.06\n",
       "36    16.31\n",
       "37    16.93\n",
       "38    18.69\n",
       "39    31.27\n",
       "40    16.04\n",
       "41    17.46\n",
       "42    13.94\n",
       "43     9.68\n",
       "44     30.4\n",
       "45    18.29\n",
       "46    22.23\n",
       "47     32.4\n",
       "48    28.55\n",
       "49    18.04\n",
       "50      NaN\n",
       "Name: total_bill, dtype: object"
      ]
     },
     "execution_count": 99,
     "metadata": {},
     "output_type": "execute_result"
    }
   ],
   "source": [
    "New_bill.head(51)"
   ]
  },
  {
   "cell_type": "code",
   "execution_count": 100,
   "id": "f93931be",
   "metadata": {},
   "outputs": [],
   "source": [
    "tip.at[50,'total_bill'] =19.8 "
   ]
  },
  {
   "cell_type": "code",
   "execution_count": 101,
   "id": "373afe5e",
   "metadata": {},
   "outputs": [
    {
     "data": {
      "text/plain": [
       "0     16.99\n",
       "1     10.34\n",
       "2     21.01\n",
       "3     23.68\n",
       "4     24.59\n",
       "5     25.29\n",
       "6      8.77\n",
       "7     26.88\n",
       "8     15.04\n",
       "9     14.78\n",
       "10    10.27\n",
       "11    35.26\n",
       "12    15.42\n",
       "13    18.43\n",
       "14    14.83\n",
       "15    21.58\n",
       "16    10.33\n",
       "17    16.29\n",
       "18    16.97\n",
       "19    20.65\n",
       "20    17.92\n",
       "21    20.29\n",
       "22    15.77\n",
       "23    39.42\n",
       "24    19.82\n",
       "25    17.81\n",
       "26    13.37\n",
       "27    12.69\n",
       "28     21.7\n",
       "29    19.65\n",
       "30     9.55\n",
       "31    18.35\n",
       "32    15.06\n",
       "33    20.69\n",
       "34    17.78\n",
       "35    24.06\n",
       "36    16.31\n",
       "37    16.93\n",
       "38    18.69\n",
       "39    31.27\n",
       "40    16.04\n",
       "41    17.46\n",
       "42    13.94\n",
       "43     9.68\n",
       "44     30.4\n",
       "45    18.29\n",
       "46    22.23\n",
       "47     32.4\n",
       "48    28.55\n",
       "49    18.04\n",
       "50     19.8\n",
       "Name: total_bill, dtype: object"
      ]
     },
     "execution_count": 101,
     "metadata": {},
     "output_type": "execute_result"
    }
   ],
   "source": [
    "New_bill.head(51)"
   ]
  },
  {
   "cell_type": "code",
   "execution_count": 102,
   "id": "322132f3",
   "metadata": {},
   "outputs": [
    {
     "data": {
      "text/plain": [
       "19.815696721311483"
      ]
     },
     "execution_count": 102,
     "metadata": {},
     "output_type": "execute_result"
    }
   ],
   "source": [
    "mean = np.mean(New_bill)\n",
    "mean"
   ]
  },
  {
   "cell_type": "code",
   "execution_count": 103,
   "id": "a49d5e05",
   "metadata": {},
   "outputs": [],
   "source": [
    "tip.at[40,'tip'] = np.nan"
   ]
  },
  {
   "cell_type": "code",
   "execution_count": 104,
   "id": "6bfd90fd",
   "metadata": {},
   "outputs": [],
   "source": [
    "New_tip=tip['tip']"
   ]
  },
  {
   "cell_type": "code",
   "execution_count": 105,
   "id": "11577779",
   "metadata": {},
   "outputs": [
    {
     "data": {
      "text/plain": [
       "3.0013991769547324"
      ]
     },
     "execution_count": 105,
     "metadata": {},
     "output_type": "execute_result"
    }
   ],
   "source": [
    "mean = np.mean(New_tip)\n",
    "mean"
   ]
  },
  {
   "cell_type": "code",
   "execution_count": 106,
   "id": "56089605",
   "metadata": {},
   "outputs": [],
   "source": [
    "tip.at[40,'tip'] =3.00 "
   ]
  },
  {
   "cell_type": "code",
   "execution_count": 107,
   "id": "e9d96012",
   "metadata": {},
   "outputs": [
    {
     "data": {
      "text/plain": [
       "0     1.01\n",
       "1     1.66\n",
       "2     3.50\n",
       "3     3.31\n",
       "4     3.61\n",
       "5     4.71\n",
       "6     2.00\n",
       "7     3.12\n",
       "8     1.96\n",
       "9     3.23\n",
       "10    1.71\n",
       "11    5.00\n",
       "12    1.57\n",
       "13    3.00\n",
       "14    3.02\n",
       "15    3.92\n",
       "16    1.67\n",
       "17    3.71\n",
       "18    3.50\n",
       "19    3.35\n",
       "20    4.08\n",
       "21    2.75\n",
       "22    2.23\n",
       "23    7.58\n",
       "24    3.18\n",
       "25    2.34\n",
       "26    2.00\n",
       "27    2.00\n",
       "28    4.30\n",
       "29    3.00\n",
       "30    1.45\n",
       "31    2.50\n",
       "32    3.00\n",
       "33    2.45\n",
       "34    3.27\n",
       "35    3.60\n",
       "36    2.00\n",
       "37    3.07\n",
       "38    2.31\n",
       "39    5.00\n",
       "40    3.00\n",
       "Name: tip, dtype: float64"
      ]
     },
     "execution_count": 107,
     "metadata": {},
     "output_type": "execute_result"
    }
   ],
   "source": [
    "New_tip.head(41)"
   ]
  },
  {
   "cell_type": "code",
   "execution_count": 108,
   "id": "e29eac05",
   "metadata": {},
   "outputs": [
    {
     "data": {
      "text/plain": [
       "3.0013934426229505"
      ]
     },
     "execution_count": 108,
     "metadata": {},
     "output_type": "execute_result"
    }
   ],
   "source": [
    "mean = np.mean(New_tip)\n",
    "mean"
   ]
  },
  {
   "cell_type": "code",
   "execution_count": 109,
   "id": "f2f42132",
   "metadata": {},
   "outputs": [],
   "source": [
    "tip.at[70,'size'] = np.nan"
   ]
  },
  {
   "cell_type": "code",
   "execution_count": 110,
   "id": "4adc7077",
   "metadata": {},
   "outputs": [
    {
     "ename": "NameError",
     "evalue": "name 'New_size' is not defined",
     "output_type": "error",
     "traceback": [
      "\u001b[1;31m---------------------------------------------------------------------------\u001b[0m",
      "\u001b[1;31mNameError\u001b[0m                                 Traceback (most recent call last)",
      "Cell \u001b[1;32mIn[110], line 1\u001b[0m\n\u001b[1;32m----> 1\u001b[0m mean \u001b[38;5;241m=\u001b[39m np\u001b[38;5;241m.\u001b[39mmean(New_size)\n\u001b[0;32m      2\u001b[0m mean\n",
      "\u001b[1;31mNameError\u001b[0m: name 'New_size' is not defined"
     ]
    }
   ],
   "source": [
    "mean = np.mean(New_size)\n",
    "mean"
   ]
  },
  {
   "cell_type": "code",
   "execution_count": 111,
   "id": "e8a2ae95",
   "metadata": {},
   "outputs": [],
   "source": [
    "New_size=tip['size']"
   ]
  },
  {
   "cell_type": "code",
   "execution_count": 112,
   "id": "4eafcfce",
   "metadata": {},
   "outputs": [],
   "source": [
    "tip.at[70,'size'] = 2.5"
   ]
  },
  {
   "cell_type": "code",
   "execution_count": 113,
   "id": "f1fefd5f",
   "metadata": {},
   "outputs": [
    {
     "data": {
      "text/plain": [
       "0     2.0\n",
       "1     3.0\n",
       "2     3.0\n",
       "3     2.0\n",
       "4     4.0\n",
       "     ... \n",
       "66    2.0\n",
       "67    1.0\n",
       "68    2.0\n",
       "69    2.0\n",
       "70    2.5\n",
       "Name: size, Length: 71, dtype: float64"
      ]
     },
     "execution_count": 113,
     "metadata": {},
     "output_type": "execute_result"
    }
   ],
   "source": [
    "New_size.head(71)"
   ]
  },
  {
   "cell_type": "code",
   "execution_count": 114,
   "id": "8c8a0fb6",
   "metadata": {},
   "outputs": [
    {
     "data": {
      "text/plain": [
       "2.57172131147541"
      ]
     },
     "execution_count": 114,
     "metadata": {},
     "output_type": "execute_result"
    }
   ],
   "source": [
    "mean = np.mean(New_size)\n",
    "mean"
   ]
  },
  {
   "cell_type": "code",
   "execution_count": 115,
   "id": "2e79e52f",
   "metadata": {},
   "outputs": [
    {
     "data": {
      "text/plain": [
       "total_bill    0\n",
       "tip           0\n",
       "sex           0\n",
       "smoker        0\n",
       "day           0\n",
       "time          0\n",
       "size          0\n",
       "dtype: int64"
      ]
     },
     "execution_count": 115,
     "metadata": {},
     "output_type": "execute_result"
    }
   ],
   "source": [
    "tip.isnull().sum()"
   ]
  },
  {
   "cell_type": "code",
   "execution_count": 116,
   "id": "894c4e23",
   "metadata": {},
   "outputs": [
    {
     "data": {
      "text/html": [
       "<div>\n",
       "<style scoped>\n",
       "    .dataframe tbody tr th:only-of-type {\n",
       "        vertical-align: middle;\n",
       "    }\n",
       "\n",
       "    .dataframe tbody tr th {\n",
       "        vertical-align: top;\n",
       "    }\n",
       "\n",
       "    .dataframe thead th {\n",
       "        text-align: right;\n",
       "    }\n",
       "</style>\n",
       "<table border=\"1\" class=\"dataframe\">\n",
       "  <thead>\n",
       "    <tr style=\"text-align: right;\">\n",
       "      <th></th>\n",
       "      <th>total_bill</th>\n",
       "      <th>tip</th>\n",
       "      <th>sex</th>\n",
       "      <th>smoker</th>\n",
       "      <th>day</th>\n",
       "      <th>time</th>\n",
       "      <th>size</th>\n",
       "    </tr>\n",
       "  </thead>\n",
       "  <tbody>\n",
       "    <tr>\n",
       "      <th>0</th>\n",
       "      <td>16.99</td>\n",
       "      <td>1.01</td>\n",
       "      <td>Female</td>\n",
       "      <td>No</td>\n",
       "      <td>Sun</td>\n",
       "      <td>Dinner</td>\n",
       "      <td>2.0</td>\n",
       "    </tr>\n",
       "    <tr>\n",
       "      <th>1</th>\n",
       "      <td>10.34</td>\n",
       "      <td>1.66</td>\n",
       "      <td>Male</td>\n",
       "      <td>No</td>\n",
       "      <td>Sun</td>\n",
       "      <td>Dinner</td>\n",
       "      <td>3.0</td>\n",
       "    </tr>\n",
       "    <tr>\n",
       "      <th>2</th>\n",
       "      <td>21.01</td>\n",
       "      <td>3.50</td>\n",
       "      <td>Male</td>\n",
       "      <td>No</td>\n",
       "      <td>Sun</td>\n",
       "      <td>Dinner</td>\n",
       "      <td>3.0</td>\n",
       "    </tr>\n",
       "    <tr>\n",
       "      <th>3</th>\n",
       "      <td>23.68</td>\n",
       "      <td>3.31</td>\n",
       "      <td>Male</td>\n",
       "      <td>No</td>\n",
       "      <td>Sun</td>\n",
       "      <td>Dinner</td>\n",
       "      <td>2.0</td>\n",
       "    </tr>\n",
       "    <tr>\n",
       "      <th>4</th>\n",
       "      <td>24.59</td>\n",
       "      <td>3.61</td>\n",
       "      <td>Female</td>\n",
       "      <td>No</td>\n",
       "      <td>Sun</td>\n",
       "      <td>Dinner</td>\n",
       "      <td>4.0</td>\n",
       "    </tr>\n",
       "    <tr>\n",
       "      <th>...</th>\n",
       "      <td>...</td>\n",
       "      <td>...</td>\n",
       "      <td>...</td>\n",
       "      <td>...</td>\n",
       "      <td>...</td>\n",
       "      <td>...</td>\n",
       "      <td>...</td>\n",
       "    </tr>\n",
       "    <tr>\n",
       "      <th>66</th>\n",
       "      <td>16.45</td>\n",
       "      <td>2.47</td>\n",
       "      <td>Female</td>\n",
       "      <td>No</td>\n",
       "      <td>Sat</td>\n",
       "      <td>Dinner</td>\n",
       "      <td>2.0</td>\n",
       "    </tr>\n",
       "    <tr>\n",
       "      <th>67</th>\n",
       "      <td>3.07</td>\n",
       "      <td>1.00</td>\n",
       "      <td>Female</td>\n",
       "      <td>Yes</td>\n",
       "      <td>Sat</td>\n",
       "      <td>Dinner</td>\n",
       "      <td>1.0</td>\n",
       "    </tr>\n",
       "    <tr>\n",
       "      <th>68</th>\n",
       "      <td>20.23</td>\n",
       "      <td>2.01</td>\n",
       "      <td>Male</td>\n",
       "      <td>No</td>\n",
       "      <td>Sat</td>\n",
       "      <td>Dinner</td>\n",
       "      <td>2.0</td>\n",
       "    </tr>\n",
       "    <tr>\n",
       "      <th>69</th>\n",
       "      <td>15.01</td>\n",
       "      <td>2.09</td>\n",
       "      <td>Male</td>\n",
       "      <td>Yes</td>\n",
       "      <td>Sat</td>\n",
       "      <td>Dinner</td>\n",
       "      <td>2.0</td>\n",
       "    </tr>\n",
       "    <tr>\n",
       "      <th>70</th>\n",
       "      <td>12.02</td>\n",
       "      <td>1.97</td>\n",
       "      <td>Male</td>\n",
       "      <td>No</td>\n",
       "      <td>Sat</td>\n",
       "      <td>Dinner</td>\n",
       "      <td>2.5</td>\n",
       "    </tr>\n",
       "  </tbody>\n",
       "</table>\n",
       "<p>71 rows × 7 columns</p>\n",
       "</div>"
      ],
      "text/plain": [
       "   total_bill   tip     sex smoker  day    time  size\n",
       "0       16.99  1.01  Female     No  Sun  Dinner   2.0\n",
       "1       10.34  1.66    Male     No  Sun  Dinner   3.0\n",
       "2       21.01  3.50    Male     No  Sun  Dinner   3.0\n",
       "3       23.68  3.31    Male     No  Sun  Dinner   2.0\n",
       "4       24.59  3.61  Female     No  Sun  Dinner   4.0\n",
       "..        ...   ...     ...    ...  ...     ...   ...\n",
       "66      16.45  2.47  Female     No  Sat  Dinner   2.0\n",
       "67       3.07  1.00  Female    Yes  Sat  Dinner   1.0\n",
       "68      20.23  2.01    Male     No  Sat  Dinner   2.0\n",
       "69      15.01  2.09    Male    Yes  Sat  Dinner   2.0\n",
       "70      12.02  1.97    Male     No  Sat  Dinner   2.5\n",
       "\n",
       "[71 rows x 7 columns]"
      ]
     },
     "execution_count": 116,
     "metadata": {},
     "output_type": "execute_result"
    }
   ],
   "source": [
    "tip.head(71)"
   ]
  },
  {
   "cell_type": "code",
   "execution_count": 117,
   "id": "65a6c1ab",
   "metadata": {},
   "outputs": [],
   "source": [
    "#Bivariate analysis"
   ]
  },
  {
   "cell_type": "code",
   "execution_count": 118,
   "id": "9535974f",
   "metadata": {},
   "outputs": [],
   "source": [
    "#To determine the relationship between variables"
   ]
  },
  {
   "cell_type": "code",
   "execution_count": 119,
   "id": "085c44dc",
   "metadata": {},
   "outputs": [],
   "source": [
    "#Positive Correlation: This occurs when two variables tend to move in the same direction. For example, if a column increases, the second column might also increase as well (positive correlation)."
   ]
  },
  {
   "cell_type": "code",
   "execution_count": 120,
   "id": "cb67ed2b",
   "metadata": {},
   "outputs": [],
   "source": [
    "#Negative Correlation: This occurs when two variables tend to move in opposite directions. For example, if a column values increases, the second column might decrease (negative correlation, though the relationship might be complex)."
   ]
  },
  {
   "cell_type": "code",
   "execution_count": 121,
   "id": "bea92171",
   "metadata": {},
   "outputs": [],
   "source": [
    "#Correlation"
   ]
  },
  {
   "cell_type": "code",
   "execution_count": 122,
   "id": "4cf95258",
   "metadata": {},
   "outputs": [
    {
     "data": {
      "text/html": [
       "<div>\n",
       "<style scoped>\n",
       "    .dataframe tbody tr th:only-of-type {\n",
       "        vertical-align: middle;\n",
       "    }\n",
       "\n",
       "    .dataframe tbody tr th {\n",
       "        vertical-align: top;\n",
       "    }\n",
       "\n",
       "    .dataframe thead th {\n",
       "        text-align: right;\n",
       "    }\n",
       "</style>\n",
       "<table border=\"1\" class=\"dataframe\">\n",
       "  <thead>\n",
       "    <tr style=\"text-align: right;\">\n",
       "      <th></th>\n",
       "      <th>total_bill</th>\n",
       "      <th>tip</th>\n",
       "    </tr>\n",
       "  </thead>\n",
       "  <tbody>\n",
       "    <tr>\n",
       "      <th>0</th>\n",
       "      <td>16.99</td>\n",
       "      <td>1.01</td>\n",
       "    </tr>\n",
       "    <tr>\n",
       "      <th>1</th>\n",
       "      <td>10.34</td>\n",
       "      <td>1.66</td>\n",
       "    </tr>\n",
       "    <tr>\n",
       "      <th>2</th>\n",
       "      <td>21.01</td>\n",
       "      <td>3.50</td>\n",
       "    </tr>\n",
       "    <tr>\n",
       "      <th>3</th>\n",
       "      <td>23.68</td>\n",
       "      <td>3.31</td>\n",
       "    </tr>\n",
       "    <tr>\n",
       "      <th>4</th>\n",
       "      <td>24.59</td>\n",
       "      <td>3.61</td>\n",
       "    </tr>\n",
       "    <tr>\n",
       "      <th>...</th>\n",
       "      <td>...</td>\n",
       "      <td>...</td>\n",
       "    </tr>\n",
       "    <tr>\n",
       "      <th>239</th>\n",
       "      <td>29.03</td>\n",
       "      <td>5.92</td>\n",
       "    </tr>\n",
       "    <tr>\n",
       "      <th>240</th>\n",
       "      <td>27.18</td>\n",
       "      <td>2.00</td>\n",
       "    </tr>\n",
       "    <tr>\n",
       "      <th>241</th>\n",
       "      <td>22.67</td>\n",
       "      <td>2.00</td>\n",
       "    </tr>\n",
       "    <tr>\n",
       "      <th>242</th>\n",
       "      <td>17.82</td>\n",
       "      <td>1.75</td>\n",
       "    </tr>\n",
       "    <tr>\n",
       "      <th>243</th>\n",
       "      <td>18.78</td>\n",
       "      <td>3.00</td>\n",
       "    </tr>\n",
       "  </tbody>\n",
       "</table>\n",
       "<p>244 rows × 2 columns</p>\n",
       "</div>"
      ],
      "text/plain": [
       "    total_bill   tip\n",
       "0        16.99  1.01\n",
       "1        10.34  1.66\n",
       "2        21.01  3.50\n",
       "3        23.68  3.31\n",
       "4        24.59  3.61\n",
       "..         ...   ...\n",
       "239      29.03  5.92\n",
       "240      27.18  2.00\n",
       "241      22.67  2.00\n",
       "242      17.82  1.75\n",
       "243      18.78  3.00\n",
       "\n",
       "[244 rows x 2 columns]"
      ]
     },
     "execution_count": 122,
     "metadata": {},
     "output_type": "execute_result"
    }
   ],
   "source": [
    "tip[['total_bill','tip']]"
   ]
  },
  {
   "cell_type": "code",
   "execution_count": 123,
   "id": "aa9f55b8",
   "metadata": {},
   "outputs": [],
   "source": [
    "correlation = tip[['total_bill', 'tip']].corr()"
   ]
  },
  {
   "cell_type": "code",
   "execution_count": 124,
   "id": "1aef5619",
   "metadata": {},
   "outputs": [
    {
     "data": {
      "text/html": [
       "<div>\n",
       "<style scoped>\n",
       "    .dataframe tbody tr th:only-of-type {\n",
       "        vertical-align: middle;\n",
       "    }\n",
       "\n",
       "    .dataframe tbody tr th {\n",
       "        vertical-align: top;\n",
       "    }\n",
       "\n",
       "    .dataframe thead th {\n",
       "        text-align: right;\n",
       "    }\n",
       "</style>\n",
       "<table border=\"1\" class=\"dataframe\">\n",
       "  <thead>\n",
       "    <tr style=\"text-align: right;\">\n",
       "      <th></th>\n",
       "      <th>total_bill</th>\n",
       "      <th>tip</th>\n",
       "    </tr>\n",
       "  </thead>\n",
       "  <tbody>\n",
       "    <tr>\n",
       "      <th>total_bill</th>\n",
       "      <td>1.00000</td>\n",
       "      <td>0.67491</td>\n",
       "    </tr>\n",
       "    <tr>\n",
       "      <th>tip</th>\n",
       "      <td>0.67491</td>\n",
       "      <td>1.00000</td>\n",
       "    </tr>\n",
       "  </tbody>\n",
       "</table>\n",
       "</div>"
      ],
      "text/plain": [
       "            total_bill      tip\n",
       "total_bill     1.00000  0.67491\n",
       "tip            0.67491  1.00000"
      ]
     },
     "execution_count": 124,
     "metadata": {},
     "output_type": "execute_result"
    }
   ],
   "source": [
    "correlation"
   ]
  },
  {
   "cell_type": "code",
   "execution_count": 125,
   "id": "be215fcf",
   "metadata": {},
   "outputs": [],
   "source": [
    "correlation2 = tip[['total_bill', 'size']].corr()"
   ]
  },
  {
   "cell_type": "code",
   "execution_count": 126,
   "id": "645e9add",
   "metadata": {},
   "outputs": [
    {
     "data": {
      "text/html": [
       "<div>\n",
       "<style scoped>\n",
       "    .dataframe tbody tr th:only-of-type {\n",
       "        vertical-align: middle;\n",
       "    }\n",
       "\n",
       "    .dataframe tbody tr th {\n",
       "        vertical-align: top;\n",
       "    }\n",
       "\n",
       "    .dataframe thead th {\n",
       "        text-align: right;\n",
       "    }\n",
       "</style>\n",
       "<table border=\"1\" class=\"dataframe\">\n",
       "  <thead>\n",
       "    <tr style=\"text-align: right;\">\n",
       "      <th></th>\n",
       "      <th>total_bill</th>\n",
       "      <th>size</th>\n",
       "    </tr>\n",
       "  </thead>\n",
       "  <tbody>\n",
       "    <tr>\n",
       "      <th>total_bill</th>\n",
       "      <td>1.00000</td>\n",
       "      <td>0.59566</td>\n",
       "    </tr>\n",
       "    <tr>\n",
       "      <th>size</th>\n",
       "      <td>0.59566</td>\n",
       "      <td>1.00000</td>\n",
       "    </tr>\n",
       "  </tbody>\n",
       "</table>\n",
       "</div>"
      ],
      "text/plain": [
       "            total_bill     size\n",
       "total_bill     1.00000  0.59566\n",
       "size           0.59566  1.00000"
      ]
     },
     "execution_count": 126,
     "metadata": {},
     "output_type": "execute_result"
    }
   ],
   "source": [
    "correlation2"
   ]
  },
  {
   "cell_type": "code",
   "execution_count": 127,
   "id": "241d5240",
   "metadata": {},
   "outputs": [],
   "source": [
    "correlation3 = tip[['tip', 'size']].corr()"
   ]
  },
  {
   "cell_type": "code",
   "execution_count": 128,
   "id": "bafb44cd",
   "metadata": {},
   "outputs": [
    {
     "data": {
      "text/html": [
       "<div>\n",
       "<style scoped>\n",
       "    .dataframe tbody tr th:only-of-type {\n",
       "        vertical-align: middle;\n",
       "    }\n",
       "\n",
       "    .dataframe tbody tr th {\n",
       "        vertical-align: top;\n",
       "    }\n",
       "\n",
       "    .dataframe thead th {\n",
       "        text-align: right;\n",
       "    }\n",
       "</style>\n",
       "<table border=\"1\" class=\"dataframe\">\n",
       "  <thead>\n",
       "    <tr style=\"text-align: right;\">\n",
       "      <th></th>\n",
       "      <th>tip</th>\n",
       "      <th>size</th>\n",
       "    </tr>\n",
       "  </thead>\n",
       "  <tbody>\n",
       "    <tr>\n",
       "      <th>tip</th>\n",
       "      <td>1.000000</td>\n",
       "      <td>0.489369</td>\n",
       "    </tr>\n",
       "    <tr>\n",
       "      <th>size</th>\n",
       "      <td>0.489369</td>\n",
       "      <td>1.000000</td>\n",
       "    </tr>\n",
       "  </tbody>\n",
       "</table>\n",
       "</div>"
      ],
      "text/plain": [
       "           tip      size\n",
       "tip   1.000000  0.489369\n",
       "size  0.489369  1.000000"
      ]
     },
     "execution_count": 128,
     "metadata": {},
     "output_type": "execute_result"
    }
   ],
   "source": [
    "correlation3"
   ]
  },
  {
   "cell_type": "code",
   "execution_count": null,
   "id": "e30e8637",
   "metadata": {},
   "outputs": [],
   "source": []
  },
  {
   "cell_type": "code",
   "execution_count": 129,
   "id": "e5277e92",
   "metadata": {},
   "outputs": [],
   "source": [
    "import seaborn as sns\n",
    "\n"
   ]
  },
  {
   "cell_type": "code",
   "execution_count": 130,
   "id": "1751569d",
   "metadata": {},
   "outputs": [
    {
     "name": "stderr",
     "output_type": "stream",
     "text": [
      "C:\\Users\\visit\\anaconda3\\Lib\\site-packages\\seaborn\\matrix.py:202: RuntimeWarning: All-NaN slice encountered\n",
      "  vmin = np.nanmin(calc_data)\n",
      "C:\\Users\\visit\\anaconda3\\Lib\\site-packages\\seaborn\\matrix.py:207: RuntimeWarning: All-NaN slice encountered\n",
      "  vmax = np.nanmax(calc_data)\n"
     ]
    },
    {
     "data": {
      "text/plain": [
       "<Axes: >"
      ]
     },
     "execution_count": 130,
     "metadata": {},
     "output_type": "execute_result"
    },
    {
     "data": {
      "image/png": "[encoded data removed]",
      "text/plain": [
       "<Figure size 640x480 with 2 Axes>"
      ]
     },
     "metadata": {},
     "output_type": "display_data"
    }
   ],
   "source": [
    "sns.heatmap(tip[correlation].corr())\n"
   ]
  },
  {
   "cell_type": "code",
   "execution_count": 131,
   "id": "19927b5f",
   "metadata": {},
   "outputs": [],
   "source": [
    "#You can use the heatmap to visualize the correlation matrix between variables/columns "
   ]
  },
  {
   "cell_type": "code",
   "execution_count": 132,
   "id": "ba0b06c4",
   "metadata": {},
   "outputs": [],
   "source": [
    "import seaborn as sns\n"
   ]
  },
  {
   "cell_type": "code",
   "execution_count": 133,
   "id": "81073058",
   "metadata": {},
   "outputs": [
    {
     "data": {
      "text/plain": [
       "<Axes: >"
      ]
     },
     "execution_count": 133,
     "metadata": {},
     "output_type": "execute_result"
    },
    {
     "data": {
      "image/png": "[encoded data removed]",
      "text/plain": [
       "<Figure size 640x480 with 2 Axes>"
      ]
     },
     "metadata": {},
     "output_type": "display_data"
    }
   ],
   "source": [
    "sns.heatmap(tip[['total_bill', 'tip']].corr())"
   ]
  },
  {
   "cell_type": "code",
   "execution_count": 134,
   "id": "35df2930",
   "metadata": {},
   "outputs": [],
   "source": [
    "#Outlier treatment"
   ]
  },
  {
   "cell_type": "code",
   "execution_count": 135,
   "id": "eb2811d3",
   "metadata": {},
   "outputs": [],
   "source": [
    "#Mean = x.mean()\n",
    "#Std = x.std()\n",
    "#Z_score = abs((x-Mean)/Std)\n",
    "#Z_score\n",
    "#importing pandas\n"
   ]
  },
  {
   "cell_type": "code",
   "execution_count": 136,
   "id": "1d258817",
   "metadata": {},
   "outputs": [],
   "source": [
    "X_bill=tip['total_bill']"
   ]
  },
  {
   "cell_type": "code",
   "execution_count": 137,
   "id": "3d24e958",
   "metadata": {},
   "outputs": [],
   "source": [
    "mean=X_bill.mean()"
   ]
  },
  {
   "cell_type": "code",
   "execution_count": 138,
   "id": "559a6a18",
   "metadata": {},
   "outputs": [
    {
     "data": {
      "text/plain": [
       "19.815696721311483"
      ]
     },
     "execution_count": 138,
     "metadata": {},
     "output_type": "execute_result"
    }
   ],
   "source": [
    "mean"
   ]
  },
  {
   "cell_type": "code",
   "execution_count": 139,
   "id": "44cc8842",
   "metadata": {},
   "outputs": [],
   "source": [
    "std=X_bill.std()"
   ]
  },
  {
   "cell_type": "code",
   "execution_count": 140,
   "id": "a1910eae",
   "metadata": {},
   "outputs": [
    {
     "data": {
      "text/plain": [
       "8.890218553687804"
      ]
     },
     "execution_count": 140,
     "metadata": {},
     "output_type": "execute_result"
    }
   ],
   "source": [
    "std"
   ]
  },
  {
   "cell_type": "code",
   "execution_count": 141,
   "id": "0c4b08c7",
   "metadata": {},
   "outputs": [],
   "source": [
    "Z_score = abs((X_bill-mean)/std)"
   ]
  },
  {
   "cell_type": "code",
   "execution_count": 142,
   "id": "4b76921d",
   "metadata": {},
   "outputs": [
    {
     "data": {
      "text/plain": [
       "0      0.317843\n",
       "1      1.065856\n",
       "2      0.134339\n",
       "3      0.434669\n",
       "4      0.537029\n",
       "         ...   \n",
       "239    1.036454\n",
       "240     0.82836\n",
       "241    0.321061\n",
       "242    0.224482\n",
       "243    0.116498\n",
       "Name: total_bill, Length: 244, dtype: object"
      ]
     },
     "execution_count": 142,
     "metadata": {},
     "output_type": "execute_result"
    }
   ],
   "source": [
    "Z_score"
   ]
  },
  {
   "cell_type": "code",
   "execution_count": 143,
   "id": "1fe5169a",
   "metadata": {},
   "outputs": [],
   "source": [
    "#To remove the already detected outliers in the dataset"
   ]
  },
  {
   "cell_type": "code",
   "execution_count": 144,
   "id": "2781403b",
   "metadata": {},
   "outputs": [
    {
     "data": {
      "text/plain": [
       "0     0.317843\n",
       "1     1.065856\n",
       "2     0.134339\n",
       "3     0.434669\n",
       "4     0.537029\n",
       "5     0.615767\n",
       "6     1.242455\n",
       "7     0.794615\n",
       "8     0.537186\n",
       "9     0.566431\n",
       "10     1.07373\n",
       "11    1.737224\n",
       "12    0.494442\n",
       "13    0.155868\n",
       "14    0.560807\n",
       "15    0.198454\n",
       "16    1.066981\n",
       "17    0.396582\n",
       "18    0.320093\n",
       "19    0.093845\n",
       "20    0.213234\n",
       "21    0.053351\n",
       "22    0.455073\n",
       "23    2.205154\n",
       "24    0.000484\n",
       "25    0.225607\n",
       "26    0.725032\n",
       "27    0.801521\n",
       "28    0.211952\n",
       "29    0.018638\n",
       "30    1.154718\n",
       "31    0.164866\n",
       "32    0.534936\n",
       "33    0.098344\n",
       "34    0.228982\n",
       "35    0.477413\n",
       "36    0.394332\n",
       "37    0.324592\n",
       "38    0.126622\n",
       "39    1.288416\n",
       "40    0.424702\n",
       "41    0.264976\n",
       "42    0.660917\n",
       "43    1.140095\n",
       "44    1.190556\n",
       "45    0.171615\n",
       "46    0.271568\n",
       "47    1.415522\n",
       "48    0.982462\n",
       "49    0.199736\n",
       "Name: total_bill, dtype: object"
      ]
     },
     "execution_count": 144,
     "metadata": {},
     "output_type": "execute_result"
    }
   ],
   "source": [
    "Z_score.head(50)"
   ]
  },
  {
   "cell_type": "code",
   "execution_count": 145,
   "id": "49eef7b5",
   "metadata": {},
   "outputs": [],
   "source": [
    "X_without_outliers = X_bill[Z_score <= 1.5]"
   ]
  },
  {
   "cell_type": "code",
   "execution_count": 146,
   "id": "6dc3ad94",
   "metadata": {},
   "outputs": [
    {
     "data": {
      "text/plain": [
       "0      16.99\n",
       "1      10.34\n",
       "2      21.01\n",
       "3      23.68\n",
       "4      24.59\n",
       "       ...  \n",
       "239    29.03\n",
       "240    27.18\n",
       "241    22.67\n",
       "242    17.82\n",
       "243    18.78\n",
       "Name: total_bill, Length: 221, dtype: object"
      ]
     },
     "execution_count": 146,
     "metadata": {},
     "output_type": "execute_result"
    }
   ],
   "source": [
    "X_without_outliers"
   ]
  },
  {
   "cell_type": "code",
   "execution_count": 147,
   "id": "8abdaa8e",
   "metadata": {},
   "outputs": [],
   "source": [
    "# Median using pandas"
   ]
  },
  {
   "cell_type": "code",
   "execution_count": 148,
   "id": "bcda5f14",
   "metadata": {},
   "outputs": [
    {
     "data": {
      "text/plain": [
       "17.814999999999998"
      ]
     },
     "execution_count": 148,
     "metadata": {},
     "output_type": "execute_result"
    }
   ],
   "source": [
    "tip['total_bill'].median()"
   ]
  },
  {
   "cell_type": "code",
   "execution_count": 149,
   "id": "0ca4098c",
   "metadata": {},
   "outputs": [
    {
     "data": {
      "text/plain": [
       "0      16.99\n",
       "1      10.34\n",
       "2      21.01\n",
       "3      23.68\n",
       "4      24.59\n",
       "       ...  \n",
       "239    29.03\n",
       "240    27.18\n",
       "241    22.67\n",
       "242    17.82\n",
       "243    18.78\n",
       "Name: total_bill, Length: 244, dtype: object"
      ]
     },
     "execution_count": 149,
     "metadata": {},
     "output_type": "execute_result"
    }
   ],
   "source": [
    "X_bill"
   ]
  },
  {
   "cell_type": "code",
   "execution_count": 150,
   "id": "5c0e20e2",
   "metadata": {},
   "outputs": [],
   "source": [
    "Median = X_bill.median()"
   ]
  },
  {
   "cell_type": "code",
   "execution_count": 151,
   "id": "c8902550",
   "metadata": {},
   "outputs": [
    {
     "data": {
      "text/plain": [
       "17.814999999999998"
      ]
     },
     "execution_count": 151,
     "metadata": {},
     "output_type": "execute_result"
    }
   ],
   "source": [
    "Median"
   ]
  },
  {
   "cell_type": "code",
   "execution_count": 152,
   "id": "1d354b4c",
   "metadata": {},
   "outputs": [
    {
     "data": {
      "text/plain": [
       "0      0.317843\n",
       "1      1.065856\n",
       "2      0.134339\n",
       "3      0.434669\n",
       "4      0.537029\n",
       "         ...   \n",
       "239    1.036454\n",
       "240     0.82836\n",
       "241    0.321061\n",
       "242    0.224482\n",
       "243    0.116498\n",
       "Name: total_bill, Length: 244, dtype: object"
      ]
     },
     "execution_count": 152,
     "metadata": {},
     "output_type": "execute_result"
    }
   ],
   "source": [
    "Z_score"
   ]
  },
  {
   "cell_type": "code",
   "execution_count": 153,
   "id": "ac63c000",
   "metadata": {},
   "outputs": [],
   "source": [
    "tip[Z_score > 1.5] = Median"
   ]
  },
  {
   "cell_type": "code",
   "execution_count": 154,
   "id": "b00b97e8",
   "metadata": {},
   "outputs": [
    {
     "data": {
      "text/plain": [
       "0      16.99\n",
       "1      10.34\n",
       "2      21.01\n",
       "3      23.68\n",
       "4      24.59\n",
       "       ...  \n",
       "239    29.03\n",
       "240    27.18\n",
       "241    22.67\n",
       "242    17.82\n",
       "243    18.78\n",
       "Name: total_bill, Length: 244, dtype: object"
      ]
     },
     "execution_count": 154,
     "metadata": {},
     "output_type": "execute_result"
    }
   ],
   "source": [
    "tip['total_bill']"
   ]
  },
  {
   "cell_type": "code",
   "execution_count": 155,
   "id": "091f01b3",
   "metadata": {},
   "outputs": [],
   "source": [
    "T_bill2= tip['total_bill'] ==17,82"
   ]
  },
  {
   "cell_type": "code",
   "execution_count": 156,
   "id": "b06871e3",
   "metadata": {},
   "outputs": [
    {
     "data": {
      "text/plain": [
       "(0      False\n",
       " 1      False\n",
       " 2      False\n",
       " 3      False\n",
       " 4      False\n",
       "        ...  \n",
       " 239    False\n",
       " 240    False\n",
       " 241    False\n",
       " 242    False\n",
       " 243    False\n",
       " Name: total_bill, Length: 244, dtype: bool,\n",
       " 82)"
      ]
     },
     "execution_count": 156,
     "metadata": {},
     "output_type": "execute_result"
    }
   ],
   "source": [
    "T_bill2"
   ]
  },
  {
   "cell_type": "code",
   "execution_count": 157,
   "id": "c638fc9b",
   "metadata": {},
   "outputs": [
    {
     "data": {
      "text/html": [
       "<div>\n",
       "<style scoped>\n",
       "    .dataframe tbody tr th:only-of-type {\n",
       "        vertical-align: middle;\n",
       "    }\n",
       "\n",
       "    .dataframe tbody tr th {\n",
       "        vertical-align: top;\n",
       "    }\n",
       "\n",
       "    .dataframe thead th {\n",
       "        text-align: right;\n",
       "    }\n",
       "</style>\n",
       "<table border=\"1\" class=\"dataframe\">\n",
       "  <thead>\n",
       "    <tr style=\"text-align: right;\">\n",
       "      <th></th>\n",
       "      <th>total_bill</th>\n",
       "      <th>tip</th>\n",
       "      <th>sex</th>\n",
       "      <th>smoker</th>\n",
       "      <th>day</th>\n",
       "      <th>time</th>\n",
       "      <th>size</th>\n",
       "    </tr>\n",
       "  </thead>\n",
       "  <tbody>\n",
       "    <tr>\n",
       "      <th>25</th>\n",
       "      <td>17.81</td>\n",
       "      <td>2.34</td>\n",
       "      <td>Male</td>\n",
       "      <td>No</td>\n",
       "      <td>Sat</td>\n",
       "      <td>Dinner</td>\n",
       "      <td>4.0</td>\n",
       "    </tr>\n",
       "  </tbody>\n",
       "</table>\n",
       "</div>"
      ],
      "text/plain": [
       "   total_bill   tip   sex smoker  day    time  size\n",
       "25      17.81  2.34  Male     No  Sat  Dinner   4.0"
      ]
     },
     "execution_count": 157,
     "metadata": {},
     "output_type": "execute_result"
    }
   ],
   "source": [
    "tip[tip['total_bill'] == 17.81]"
   ]
  },
  {
   "cell_type": "code",
   "execution_count": null,
   "id": "e8449f41",
   "metadata": {},
   "outputs": [],
   "source": [
    "#Standardization /Formula: (x - mean(X)) / std(X)"
   ]
  },
  {
   "cell_type": "code",
   "execution_count": null,
   "id": "dc879335",
   "metadata": {},
   "outputs": [],
   "source": []
  },
  {
   "cell_type": "code",
   "execution_count": null,
   "id": "8e8b311b",
   "metadata": {},
   "outputs": [],
   "source": []
  }
 ],
 "metadata": {
  "kernelspec": {
   "display_name": "Python 3 (ipykernel)",
   "language": "python",
   "name": "python3"
  },
  "language_info": {
   "codemirror_mode": {
    "name": "ipython",
    "version": 3
   },
   "file_extension": ".py",
   "mimetype": "text/x-python",
   "name": "python",
   "nbconvert_exporter": "python",
   "pygments_lexer": "ipython3",
   "version": "3.11.5"
  }
 },
 "nbformat": 4,
 "nbformat_minor": 5
}
