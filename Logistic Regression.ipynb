{
 "cells": [
  {
   "cell_type": "code",
   "execution_count": 1,
   "id": "59aa1c52",
   "metadata": {},
   "outputs": [],
   "source": [
    "import pandas as pd"
   ]
  },
  {
   "cell_type": "code",
   "execution_count": 2,
   "id": "d7b63685",
   "metadata": {},
   "outputs": [],
   "source": [
    "import matplotlib.pyplot as plt"
   ]
  },
  {
   "cell_type": "code",
   "execution_count": 3,
   "id": "6c737d4b",
   "metadata": {},
   "outputs": [],
   "source": [
    "import seaborn as sns"
   ]
  },
  {
   "cell_type": "code",
   "execution_count": 4,
   "id": "513000ca",
   "metadata": {},
   "outputs": [],
   "source": [
    "import numpy as np"
   ]
  },
  {
   "cell_type": "code",
   "execution_count": 5,
   "id": "31b50000",
   "metadata": {},
   "outputs": [],
   "source": [
    "from sklearn.model_selection import train_test_split\n",
    "from sklearn.linear_model import LinearRegression"
   ]
  },
  {
   "cell_type": "code",
   "execution_count": 6,
   "id": "a97d6efd",
   "metadata": {},
   "outputs": [
    {
     "data": {
      "text/html": [
       "<div>\n",
       "<style scoped>\n",
       "    .dataframe tbody tr th:only-of-type {\n",
       "        vertical-align: middle;\n",
       "    }\n",
       "\n",
       "    .dataframe tbody tr th {\n",
       "        vertical-align: top;\n",
       "    }\n",
       "\n",
       "    .dataframe thead th {\n",
       "        text-align: right;\n",
       "    }\n",
       "</style>\n",
       "<table border=\"1\" class=\"dataframe\">\n",
       "  <thead>\n",
       "    <tr style=\"text-align: right;\">\n",
       "      <th></th>\n",
       "      <th>User ID</th>\n",
       "      <th>Gender</th>\n",
       "      <th>Age</th>\n",
       "      <th>EstimatedSalary</th>\n",
       "      <th>Purchased</th>\n",
       "    </tr>\n",
       "  </thead>\n",
       "  <tbody>\n",
       "    <tr>\n",
       "      <th>0</th>\n",
       "      <td>15624510</td>\n",
       "      <td>Male</td>\n",
       "      <td>19</td>\n",
       "      <td>19000</td>\n",
       "      <td>0</td>\n",
       "    </tr>\n",
       "    <tr>\n",
       "      <th>1</th>\n",
       "      <td>15810944</td>\n",
       "      <td>Male</td>\n",
       "      <td>35</td>\n",
       "      <td>20000</td>\n",
       "      <td>0</td>\n",
       "    </tr>\n",
       "    <tr>\n",
       "      <th>2</th>\n",
       "      <td>15668575</td>\n",
       "      <td>Female</td>\n",
       "      <td>26</td>\n",
       "      <td>43000</td>\n",
       "      <td>0</td>\n",
       "    </tr>\n",
       "    <tr>\n",
       "      <th>3</th>\n",
       "      <td>15603246</td>\n",
       "      <td>Female</td>\n",
       "      <td>27</td>\n",
       "      <td>57000</td>\n",
       "      <td>0</td>\n",
       "    </tr>\n",
       "    <tr>\n",
       "      <th>4</th>\n",
       "      <td>15804002</td>\n",
       "      <td>Male</td>\n",
       "      <td>19</td>\n",
       "      <td>76000</td>\n",
       "      <td>0</td>\n",
       "    </tr>\n",
       "    <tr>\n",
       "      <th>...</th>\n",
       "      <td>...</td>\n",
       "      <td>...</td>\n",
       "      <td>...</td>\n",
       "      <td>...</td>\n",
       "      <td>...</td>\n",
       "    </tr>\n",
       "    <tr>\n",
       "      <th>395</th>\n",
       "      <td>15691863</td>\n",
       "      <td>Female</td>\n",
       "      <td>46</td>\n",
       "      <td>41000</td>\n",
       "      <td>1</td>\n",
       "    </tr>\n",
       "    <tr>\n",
       "      <th>396</th>\n",
       "      <td>15706071</td>\n",
       "      <td>Male</td>\n",
       "      <td>51</td>\n",
       "      <td>23000</td>\n",
       "      <td>1</td>\n",
       "    </tr>\n",
       "    <tr>\n",
       "      <th>397</th>\n",
       "      <td>15654296</td>\n",
       "      <td>Female</td>\n",
       "      <td>50</td>\n",
       "      <td>20000</td>\n",
       "      <td>1</td>\n",
       "    </tr>\n",
       "    <tr>\n",
       "      <th>398</th>\n",
       "      <td>15755018</td>\n",
       "      <td>Male</td>\n",
       "      <td>36</td>\n",
       "      <td>33000</td>\n",
       "      <td>0</td>\n",
       "    </tr>\n",
       "    <tr>\n",
       "      <th>399</th>\n",
       "      <td>15594041</td>\n",
       "      <td>Female</td>\n",
       "      <td>49</td>\n",
       "      <td>36000</td>\n",
       "      <td>1</td>\n",
       "    </tr>\n",
       "  </tbody>\n",
       "</table>\n",
       "<p>400 rows × 5 columns</p>\n",
       "</div>"
      ],
      "text/plain": [
       "      User ID  Gender  Age  EstimatedSalary  Purchased\n",
       "0    15624510    Male   19            19000          0\n",
       "1    15810944    Male   35            20000          0\n",
       "2    15668575  Female   26            43000          0\n",
       "3    15603246  Female   27            57000          0\n",
       "4    15804002    Male   19            76000          0\n",
       "..        ...     ...  ...              ...        ...\n",
       "395  15691863  Female   46            41000          1\n",
       "396  15706071    Male   51            23000          1\n",
       "397  15654296  Female   50            20000          1\n",
       "398  15755018    Male   36            33000          0\n",
       "399  15594041  Female   49            36000          1\n",
       "\n",
       "[400 rows x 5 columns]"
      ]
     },
     "execution_count": 6,
     "metadata": {},
     "output_type": "execute_result"
    }
   ],
   "source": [
    "pd.read_csv(\"User_Data(1).csv\")"
   ]
  },
  {
   "cell_type": "code",
   "execution_count": 7,
   "id": "736458f7",
   "metadata": {},
   "outputs": [],
   "source": [
    "User=pd.read_csv(\"User_Data(1).csv\")"
   ]
  },
  {
   "cell_type": "code",
   "execution_count": 8,
   "id": "f962a50f",
   "metadata": {},
   "outputs": [],
   "source": [
    "\n",
    "X = User[\"Age\"].values.reshape(-1,1)"
   ]
  },
  {
   "cell_type": "code",
   "execution_count": 9,
   "id": "da5a683e",
   "metadata": {},
   "outputs": [],
   "source": [
    "Y = User[\"Purchased\"].values"
   ]
  },
  {
   "cell_type": "code",
   "execution_count": 10,
   "id": "2bff9d4f",
   "metadata": {},
   "outputs": [],
   "source": [
    "#Standardise\n",
    "from sklearn.preprocessing import StandardScaler\n",
    "stx = StandardScaler()\n",
    "X = stx.fit_transform(X)\n"
   ]
  },
  {
   "cell_type": "code",
   "execution_count": 11,
   "id": "474db239",
   "metadata": {},
   "outputs": [
    {
     "data": {
      "text/plain": [
       "array([[-1.78179743],\n",
       "       [-0.25358736],\n",
       "       [-1.11320552],\n",
       "       [-1.01769239],\n",
       "       [-1.78179743],\n",
       "       [-1.01769239],\n",
       "       [-1.01769239],\n",
       "       [-0.54012675],\n",
       "       [-1.20871865],\n",
       "       [-0.25358736],\n",
       "       [-1.11320552],\n",
       "       [-1.11320552],\n",
       "       [-1.6862843 ],\n",
       "       [-0.54012675],\n",
       "       [-1.87731056],\n",
       "       [-0.82666613],\n",
       "       [ 0.89257019],\n",
       "       [ 0.70154394],\n",
       "       [ 0.79705706],\n",
       "       [ 0.98808332],\n",
       "       [ 0.70154394],\n",
       "       [ 0.89257019],\n",
       "       [ 0.98808332],\n",
       "       [ 0.70154394],\n",
       "       [ 0.79705706],\n",
       "       [ 0.89257019],\n",
       "       [ 1.08359645],\n",
       "       [ 0.89257019],\n",
       "       [-0.82666613],\n",
       "       [-0.63563988],\n",
       "       [-0.63563988],\n",
       "       [-1.01769239],\n",
       "       [-1.59077117],\n",
       "       [-0.92217926],\n",
       "       [-1.01769239],\n",
       "       [-0.25358736],\n",
       "       [-0.44461362],\n",
       "       [-0.73115301],\n",
       "       [-1.11320552],\n",
       "       [-1.01769239],\n",
       "       [-1.01769239],\n",
       "       [-0.44461362],\n",
       "       [-0.25358736],\n",
       "       [-0.73115301],\n",
       "       [-0.92217926],\n",
       "       [-1.39974491],\n",
       "       [-1.20871865],\n",
       "       [-1.01769239],\n",
       "       [-0.73115301],\n",
       "       [-0.63563988],\n",
       "       [-1.30423178],\n",
       "       [-1.87731056],\n",
       "       [-0.82666613],\n",
       "       [-0.25358736],\n",
       "       [-1.01769239],\n",
       "       [-1.30423178],\n",
       "       [-1.39974491],\n",
       "       [-0.92217926],\n",
       "       [-1.49525804],\n",
       "       [-0.54012675],\n",
       "       [-1.01769239],\n",
       "       [-1.20871865],\n",
       "       [-1.39974491],\n",
       "       [-0.54012675],\n",
       "       [ 2.03872775],\n",
       "       [-1.30423178],\n",
       "       [-1.30423178],\n",
       "       [-1.39974491],\n",
       "       [-1.49525804],\n",
       "       [-0.63563988],\n",
       "       [-1.20871865],\n",
       "       [-1.30423178],\n",
       "       [-1.6862843 ],\n",
       "       [-0.44461362],\n",
       "       [-0.54012675],\n",
       "       [-0.34910049],\n",
       "       [-1.87731056],\n",
       "       [-1.49525804],\n",
       "       [-0.92217926],\n",
       "       [-1.11320552],\n",
       "       [-0.73115301],\n",
       "       [ 0.12846516],\n",
       "       [-1.6862843 ],\n",
       "       [-0.25358736],\n",
       "       [-0.73115301],\n",
       "       [-0.63563988],\n",
       "       [-1.30423178],\n",
       "       [-0.92217926],\n",
       "       [-1.11320552],\n",
       "       [-0.25358736],\n",
       "       [-1.49525804],\n",
       "       [-0.73115301],\n",
       "       [-1.11320552],\n",
       "       [-0.82666613],\n",
       "       [-0.82666613],\n",
       "       [-0.25358736],\n",
       "       [-0.25358736],\n",
       "       [-0.92217926],\n",
       "       [-0.25358736],\n",
       "       [-0.92217926],\n",
       "       [-1.01769239],\n",
       "       [-0.92217926],\n",
       "       [-0.54012675],\n",
       "       [-0.44461362],\n",
       "       [-1.78179743],\n",
       "       [-1.59077117],\n",
       "       [-1.11320552],\n",
       "       [-1.01769239],\n",
       "       [-1.11320552],\n",
       "       [ 0.03295203],\n",
       "       [ 0.12846516],\n",
       "       [-0.0625611 ],\n",
       "       [ 0.03295203],\n",
       "       [-0.0625611 ],\n",
       "       [ 0.41500455],\n",
       "       [ 0.22397829],\n",
       "       [-0.25358736],\n",
       "       [-0.15807423],\n",
       "       [ 0.22397829],\n",
       "       [ 0.31949142],\n",
       "       [-0.15807423],\n",
       "       [-0.0625611 ],\n",
       "       [ 0.22397829],\n",
       "       [-0.25358736],\n",
       "       [ 0.31949142],\n",
       "       [ 0.12846516],\n",
       "       [ 0.41500455],\n",
       "       [-1.11320552],\n",
       "       [-0.73115301],\n",
       "       [-1.11320552],\n",
       "       [-0.63563988],\n",
       "       [-0.44461362],\n",
       "       [-0.73115301],\n",
       "       [-1.59077117],\n",
       "       [-0.92217926],\n",
       "       [-1.39974491],\n",
       "       [-1.6862843 ],\n",
       "       [-0.73115301],\n",
       "       [-0.92217926],\n",
       "       [-1.78179743],\n",
       "       [-1.78179743],\n",
       "       [-1.87731056],\n",
       "       [-0.25358736],\n",
       "       [-0.73115301],\n",
       "       [-0.34910049],\n",
       "       [-1.30423178],\n",
       "       [-1.01769239],\n",
       "       [ 0.31949142],\n",
       "       [-0.82666613],\n",
       "       [-1.6862843 ],\n",
       "       [-1.11320552],\n",
       "       [ 0.31949142],\n",
       "       [-0.63563988],\n",
       "       [-0.15807423],\n",
       "       [ 0.22397829],\n",
       "       [-0.63563988],\n",
       "       [ 0.79705706],\n",
       "       [-0.82666613],\n",
       "       [-1.11320552],\n",
       "       [-0.54012675],\n",
       "       [-0.54012675],\n",
       "       [-1.20871865],\n",
       "       [-0.0625611 ],\n",
       "       [-0.25358736],\n",
       "       [-0.44461362],\n",
       "       [-1.87731056],\n",
       "       [-1.49525804],\n",
       "       [-0.25358736],\n",
       "       [-0.82666613],\n",
       "       [-0.82666613],\n",
       "       [-1.59077117],\n",
       "       [-0.34910049],\n",
       "       [-1.11320552],\n",
       "       [-0.34910049],\n",
       "       [-0.34910049],\n",
       "       [-1.39974491],\n",
       "       [-0.25358736],\n",
       "       [-1.20871865],\n",
       "       [-1.30423178],\n",
       "       [-0.63563988],\n",
       "       [-1.11320552],\n",
       "       [-0.63563988],\n",
       "       [-0.54012675],\n",
       "       [-0.44461362],\n",
       "       [-0.44461362],\n",
       "       [-0.63563988],\n",
       "       [-1.6862843 ],\n",
       "       [-0.44461362],\n",
       "       [-0.25358736],\n",
       "       [-0.92217926],\n",
       "       [-1.30423178],\n",
       "       [-1.78179743],\n",
       "       [-0.82666613],\n",
       "       [-1.78179743],\n",
       "       [-0.92217926],\n",
       "       [-0.34910049],\n",
       "       [-0.73115301],\n",
       "       [-1.6862843 ],\n",
       "       [-1.11320552],\n",
       "       [-0.25358736],\n",
       "       [-0.25358736],\n",
       "       [ 1.08359645],\n",
       "       [ 0.12846516],\n",
       "       [ 0.31949142],\n",
       "       [ 1.94321462],\n",
       "       [ 0.89257019],\n",
       "       [ 1.65667523],\n",
       "       [ 1.37013584],\n",
       "       [ 0.22397829],\n",
       "       [ 0.79705706],\n",
       "       [ 0.98808332],\n",
       "       [ 1.37013584],\n",
       "       [ 2.03872775],\n",
       "       [-0.25358736],\n",
       "       [ 0.89257019],\n",
       "       [ 2.13424088],\n",
       "       [ 1.08359645],\n",
       "       [ 0.22397829],\n",
       "       [ 0.79705706],\n",
       "       [ 2.03872775],\n",
       "       [ 0.31949142],\n",
       "       [-0.25358736],\n",
       "       [-0.0625611 ],\n",
       "       [ 2.13424088],\n",
       "       [-0.25358736],\n",
       "       [-0.0625611 ],\n",
       "       [-0.15807423],\n",
       "       [ 1.75218836],\n",
       "       [ 0.22397829],\n",
       "       [ 0.41500455],\n",
       "       [-0.25358736],\n",
       "       [ 0.12846516],\n",
       "       [ 0.22397829],\n",
       "       [ 1.08359645],\n",
       "       [ 0.03295203],\n",
       "       [ 0.79705706],\n",
       "       [ 0.22397829],\n",
       "       [-0.0625611 ],\n",
       "       [ 0.79705706],\n",
       "       [ 1.46564897],\n",
       "       [ 0.41500455],\n",
       "       [ 0.03295203],\n",
       "       [ 1.17910958],\n",
       "       [ 1.75218836],\n",
       "       [ 0.31949142],\n",
       "       [ 1.27462271],\n",
       "       [-0.25358736],\n",
       "       [ 1.84770149],\n",
       "       [ 0.31949142],\n",
       "       [-0.25358736],\n",
       "       [ 0.60603081],\n",
       "       [-0.0625611 ],\n",
       "       [ 0.98808332],\n",
       "       [-0.0625611 ],\n",
       "       [ 1.17910958],\n",
       "       [ 1.37013584],\n",
       "       [ 0.31949142],\n",
       "       [ 0.22397829],\n",
       "       [ 1.94321462],\n",
       "       [ 0.70154394],\n",
       "       [-0.25358736],\n",
       "       [-0.15807423],\n",
       "       [ 1.65667523],\n",
       "       [-0.25358736],\n",
       "       [ 0.98808332],\n",
       "       [ 0.41500455],\n",
       "       [ 0.22397829],\n",
       "       [-0.0625611 ],\n",
       "       [ 0.89257019],\n",
       "       [ 0.22397829],\n",
       "       [ 0.51051768],\n",
       "       [ 2.03872775],\n",
       "       [ 2.13424088],\n",
       "       [ 0.12846516],\n",
       "       [ 1.84770149],\n",
       "       [ 1.84770149],\n",
       "       [ 0.03295203],\n",
       "       [ 1.08359645],\n",
       "       [ 1.37013584],\n",
       "       [ 1.17910958],\n",
       "       [ 2.03872775],\n",
       "       [-0.25358736],\n",
       "       [-0.0625611 ],\n",
       "       [ 1.37013584],\n",
       "       [ 0.98808332],\n",
       "       [-0.0625611 ],\n",
       "       [-0.0625611 ],\n",
       "       [ 0.98808332],\n",
       "       [ 0.31949142],\n",
       "       [-0.0625611 ],\n",
       "       [ 0.12846516],\n",
       "       [ 1.08359645],\n",
       "       [ 1.65667523],\n",
       "       [-0.0625611 ],\n",
       "       [-0.25358736],\n",
       "       [-0.15807423],\n",
       "       [ 0.41500455],\n",
       "       [ 0.51051768],\n",
       "       [ 0.70154394],\n",
       "       [ 0.79705706],\n",
       "       [ 1.94321462],\n",
       "       [ 0.98808332],\n",
       "       [-0.0625611 ],\n",
       "       [-0.0625611 ],\n",
       "       [ 0.22397829],\n",
       "       [ 0.41500455],\n",
       "       [ 1.27462271],\n",
       "       [ 0.89257019],\n",
       "       [-0.15807423],\n",
       "       [ 0.03295203],\n",
       "       [ 0.41500455],\n",
       "       [ 0.12846516],\n",
       "       [ 0.03295203],\n",
       "       [ 1.08359645],\n",
       "       [ 0.12846516],\n",
       "       [ 0.12846516],\n",
       "       [ 1.5611621 ],\n",
       "       [-0.25358736],\n",
       "       [ 0.70154394],\n",
       "       [-0.15807423],\n",
       "       [ 1.37013584],\n",
       "       [ 1.46564897],\n",
       "       [ 0.31949142],\n",
       "       [ 0.98808332],\n",
       "       [ 0.98808332],\n",
       "       [ 0.31949142],\n",
       "       [ 0.31949142],\n",
       "       [ 0.41500455],\n",
       "       [-0.15807423],\n",
       "       [ 0.89257019],\n",
       "       [ 0.03295203],\n",
       "       [ 0.98808332],\n",
       "       [ 0.41500455],\n",
       "       [ 0.22397829],\n",
       "       [ 1.84770149],\n",
       "       [-0.15807423],\n",
       "       [ 1.94321462],\n",
       "       [-0.25358736],\n",
       "       [ 0.03295203],\n",
       "       [ 0.12846516],\n",
       "       [ 1.46564897],\n",
       "       [-0.25358736],\n",
       "       [ 0.03295203],\n",
       "       [ 0.89257019],\n",
       "       [ 0.89257019],\n",
       "       [ 0.31949142],\n",
       "       [ 1.46564897],\n",
       "       [ 1.5611621 ],\n",
       "       [ 0.12846516],\n",
       "       [ 0.03295203],\n",
       "       [ 0.03295203],\n",
       "       [-0.0625611 ],\n",
       "       [ 0.41500455],\n",
       "       [-0.0625611 ],\n",
       "       [-0.15807423],\n",
       "       [ 2.13424088],\n",
       "       [ 1.5611621 ],\n",
       "       [ 0.31949142],\n",
       "       [ 0.22397829],\n",
       "       [ 0.41500455],\n",
       "       [ 0.51051768],\n",
       "       [ 1.46564897],\n",
       "       [ 0.89257019],\n",
       "       [ 0.41500455],\n",
       "       [ 0.41500455],\n",
       "       [ 2.03872775],\n",
       "       [ 1.94321462],\n",
       "       [ 0.79705706],\n",
       "       [ 0.03295203],\n",
       "       [ 1.5611621 ],\n",
       "       [ 2.13424088],\n",
       "       [ 2.13424088],\n",
       "       [ 0.12846516],\n",
       "       [ 2.03872775],\n",
       "       [-0.0625611 ],\n",
       "       [ 0.79705706],\n",
       "       [ 0.79705706],\n",
       "       [ 0.41500455],\n",
       "       [ 0.31949142],\n",
       "       [ 1.94321462],\n",
       "       [ 0.41500455],\n",
       "       [ 0.98808332],\n",
       "       [ 0.60603081],\n",
       "       [ 1.08359645],\n",
       "       [ 1.84770149],\n",
       "       [ 1.75218836],\n",
       "       [ 1.08359645],\n",
       "       [ 0.12846516],\n",
       "       [ 0.89257019],\n",
       "       [ 0.98808332],\n",
       "       [ 0.98808332],\n",
       "       [ 0.89257019],\n",
       "       [ 0.70154394],\n",
       "       [ 2.13424088],\n",
       "       [ 0.12846516],\n",
       "       [ 0.79705706],\n",
       "       [ 1.27462271],\n",
       "       [ 1.17910958],\n",
       "       [-0.15807423],\n",
       "       [ 1.08359645]])"
      ]
     },
     "execution_count": 11,
     "metadata": {},
     "output_type": "execute_result"
    }
   ],
   "source": [
    "X"
   ]
  },
  {
   "cell_type": "code",
   "execution_count": 42,
   "id": "f5084890",
   "metadata": {},
   "outputs": [],
   "source": [
    "from sklearn.model_selection import train_test_split \n",
    "X_train, X_test, Y_train, Y_test = train_test_split(X,Y, test_size= 0.3) \n"
   ]
  },
  {
   "cell_type": "code",
   "execution_count": 43,
   "id": "5493ea5b",
   "metadata": {},
   "outputs": [],
   "source": [
    "#So the next thing we have to do is to import the LogisticRegression class and create a model from it\n",
    "\n"
   ]
  },
  {
   "cell_type": "code",
   "execution_count": 44,
   "id": "a4e55ce5",
   "metadata": {},
   "outputs": [],
   "source": [
    "from sklearn.linear_model import LogisticRegression\n",
    "df = LogisticRegression()\n"
   ]
  },
  {
   "cell_type": "code",
   "execution_count": 45,
   "id": "7554db90",
   "metadata": {},
   "outputs": [
    {
     "data": {
      "text/html": [
       "<style>#sk-container-id-2 {color: black;}#sk-container-id-2 pre{padding: 0;}#sk-container-id-2 div.sk-toggleable {background-color: white;}#sk-container-id-2 label.sk-toggleable__label {cursor: pointer;display: block;width: 100%;margin-bottom: 0;padding: 0.3em;box-sizing: border-box;text-align: center;}#sk-container-id-2 label.sk-toggleable__label-arrow:before {content: \"▸\";float: left;margin-right: 0.25em;color: #696969;}#sk-container-id-2 label.sk-toggleable__label-arrow:hover:before {color: black;}#sk-container-id-2 div.sk-estimator:hover label.sk-toggleable__label-arrow:before {color: black;}#sk-container-id-2 div.sk-toggleable__content {max-height: 0;max-width: 0;overflow: hidden;text-align: left;background-color: #f0f8ff;}#sk-container-id-2 div.sk-toggleable__content pre {margin: 0.2em;color: black;border-radius: 0.25em;background-color: #f0f8ff;}#sk-container-id-2 input.sk-toggleable__control:checked~div.sk-toggleable__content {max-height: 200px;max-width: 100%;overflow: auto;}#sk-container-id-2 input.sk-toggleable__control:checked~label.sk-toggleable__label-arrow:before {content: \"▾\";}#sk-container-id-2 div.sk-estimator input.sk-toggleable__control:checked~label.sk-toggleable__label {background-color: #d4ebff;}#sk-container-id-2 div.sk-label input.sk-toggleable__control:checked~label.sk-toggleable__label {background-color: #d4ebff;}#sk-container-id-2 input.sk-hidden--visually {border: 0;clip: rect(1px 1px 1px 1px);clip: rect(1px, 1px, 1px, 1px);height: 1px;margin: -1px;overflow: hidden;padding: 0;position: absolute;width: 1px;}#sk-container-id-2 div.sk-estimator {font-family: monospace;background-color: #f0f8ff;border: 1px dotted black;border-radius: 0.25em;box-sizing: border-box;margin-bottom: 0.5em;}#sk-container-id-2 div.sk-estimator:hover {background-color: #d4ebff;}#sk-container-id-2 div.sk-parallel-item::after {content: \"\";width: 100%;border-bottom: 1px solid gray;flex-grow: 1;}#sk-container-id-2 div.sk-label:hover label.sk-toggleable__label {background-color: #d4ebff;}#sk-container-id-2 div.sk-serial::before {content: \"\";position: absolute;border-left: 1px solid gray;box-sizing: border-box;top: 0;bottom: 0;left: 50%;z-index: 0;}#sk-container-id-2 div.sk-serial {display: flex;flex-direction: column;align-items: center;background-color: white;padding-right: 0.2em;padding-left: 0.2em;position: relative;}#sk-container-id-2 div.sk-item {position: relative;z-index: 1;}#sk-container-id-2 div.sk-parallel {display: flex;align-items: stretch;justify-content: center;background-color: white;position: relative;}#sk-container-id-2 div.sk-item::before, #sk-container-id-2 div.sk-parallel-item::before {content: \"\";position: absolute;border-left: 1px solid gray;box-sizing: border-box;top: 0;bottom: 0;left: 50%;z-index: -1;}#sk-container-id-2 div.sk-parallel-item {display: flex;flex-direction: column;z-index: 1;position: relative;background-color: white;}#sk-container-id-2 div.sk-parallel-item:first-child::after {align-self: flex-end;width: 50%;}#sk-container-id-2 div.sk-parallel-item:last-child::after {align-self: flex-start;width: 50%;}#sk-container-id-2 div.sk-parallel-item:only-child::after {width: 0;}#sk-container-id-2 div.sk-dashed-wrapped {border: 1px dashed gray;margin: 0 0.4em 0.5em 0.4em;box-sizing: border-box;padding-bottom: 0.4em;background-color: white;}#sk-container-id-2 div.sk-label label {font-family: monospace;font-weight: bold;display: inline-block;line-height: 1.2em;}#sk-container-id-2 div.sk-label-container {text-align: center;}#sk-container-id-2 div.sk-container {/* jupyter's `normalize.less` sets `[hidden] { display: none; }` but bootstrap.min.css set `[hidden] { display: none !important; }` so we also need the `!important` here to be able to override the default hidden behavior on the sphinx rendered scikit-learn.org. See: https://github.com/scikit-learn/scikit-learn/issues/21755 */display: inline-block !important;position: relative;}#sk-container-id-2 div.sk-text-repr-fallback {display: none;}</style><div id=\"sk-container-id-2\" class=\"sk-top-container\"><div class=\"sk-text-repr-fallback\"><pre>LogisticRegression()</pre><b>In a Jupyter environment, please rerun this cell to show the HTML representation or trust the notebook. <br />On GitHub, the HTML representation is unable to render, please try loading this page with nbviewer.org.</b></div><div class=\"sk-container\" hidden><div class=\"sk-item\"><div class=\"sk-estimator sk-toggleable\"><input class=\"sk-toggleable__control sk-hidden--visually\" id=\"sk-estimator-id-2\" type=\"checkbox\" checked><label for=\"sk-estimator-id-2\" class=\"sk-toggleable__label sk-toggleable__label-arrow\">LogisticRegression</label><div class=\"sk-toggleable__content\"><pre>LogisticRegression()</pre></div></div></div></div></div>"
      ],
      "text/plain": [
       "LogisticRegression()"
      ]
     },
     "execution_count": 45,
     "metadata": {},
     "output_type": "execute_result"
    }
   ],
   "source": [
    "#So after creating the model, we now have to train the model with our dataset\n",
    "df.fit(X_train, Y_train)\n",
    "\n"
   ]
  },
  {
   "cell_type": "code",
   "execution_count": 46,
   "id": "9a5b2f58",
   "metadata": {},
   "outputs": [],
   "source": [
    "#Then after the model has been trained, we can now use it to predict values\n",
    "\n",
    "Y_pred = df.predict(X_test)\n"
   ]
  },
  {
   "cell_type": "code",
   "execution_count": 47,
   "id": "c27c38cc",
   "metadata": {},
   "outputs": [
    {
     "data": {
      "text/plain": [
       "array([0, 0, 0, 0, 1, 0, 1, 0, 1, 0, 1, 0, 0, 0, 0, 0, 0, 0, 0, 1, 1, 1,\n",
       "       0, 1, 1, 0, 0, 0, 0, 0, 0, 0, 1, 0, 0, 1, 0, 1, 1, 0, 0, 0, 1, 0,\n",
       "       0, 0, 0, 0, 0, 0, 1, 0, 0, 0, 1, 0, 1, 0, 1, 1, 0, 1, 0, 0, 1, 0,\n",
       "       0, 0, 0, 0, 0, 0, 1, 0, 0, 0, 1, 0, 0, 1, 1, 0, 0, 0, 0, 0, 0, 0,\n",
       "       0, 0, 0, 0, 0, 0, 1, 0, 0, 0, 0, 1, 0, 0, 0, 0, 1, 0, 0, 0, 0, 0,\n",
       "       0, 0, 1, 0, 1, 0, 0, 0, 1, 0], dtype=int64)"
      ]
     },
     "execution_count": 47,
     "metadata": {},
     "output_type": "execute_result"
    }
   ],
   "source": [
    "#Model output\n",
    "Y_pred"
   ]
  },
  {
   "cell_type": "code",
   "execution_count": 77,
   "id": "3643aaa7",
   "metadata": {},
   "outputs": [
    {
     "data": {
      "text/plain": [
       "(120,)"
      ]
     },
     "execution_count": 77,
     "metadata": {},
     "output_type": "execute_result"
    }
   ],
   "source": [
    "Y_pred.shape"
   ]
  },
  {
   "cell_type": "code",
   "execution_count": 48,
   "id": "a90ca999",
   "metadata": {},
   "outputs": [
    {
     "data": {
      "text/plain": [
       "array([[74,  5],\n",
       "       [15, 26]], dtype=int64)"
      ]
     },
     "execution_count": 48,
     "metadata": {},
     "output_type": "execute_result"
    }
   ],
   "source": [
    "#Evaluation of the model\n",
    "from sklearn.metrics import confusion_matrix\n",
    "cm = confusion_matrix( Y_test, Y_pred,)\n",
    "cm"
   ]
  },
  {
   "cell_type": "code",
   "execution_count": 49,
   "id": "93b47901",
   "metadata": {},
   "outputs": [],
   "source": [
    "#X_test and Y_proba in an ascending order"
   ]
  },
  {
   "cell_type": "code",
   "execution_count": 50,
   "id": "3a286e9f",
   "metadata": {},
   "outputs": [],
   "source": [
    "import matplotlib.pyplot as plt\n",
    "import numpy as np"
   ]
  },
  {
   "cell_type": "code",
   "execution_count": 51,
   "id": "6dd3295c",
   "metadata": {},
   "outputs": [
    {
     "data": {
      "text/plain": [
       "array([[0.90964099, 0.09035901],\n",
       "       [0.5752615 , 0.4247385 ],\n",
       "       [0.92355188, 0.07644812],\n",
       "       [0.70065459, 0.29934541],\n",
       "       [0.04064444, 0.95935556],\n",
       "       [0.53021208, 0.46978792],\n",
       "       [0.08076646, 0.91923354],\n",
       "       [0.73745299, 0.26254701],\n",
       "       [0.04838161, 0.95161839],\n",
       "       [0.77120494, 0.22879506],\n",
       "       [0.11231916, 0.88768084],\n",
       "       [0.5752615 , 0.4247385 ],\n",
       "       [0.66106899, 0.33893101],\n",
       "       [0.80178414, 0.19821586],\n",
       "       [0.70065459, 0.29934541],\n",
       "       [0.97303148, 0.02696852],\n",
       "       [0.98681194, 0.01318806],\n",
       "       [0.73745299, 0.26254701],\n",
       "       [0.98421543, 0.01578457],\n",
       "       [0.05750336, 0.94249664],\n",
       "       [0.39506513, 0.60493487],\n",
       "       [0.05750336, 0.94249664],\n",
       "       [0.53021208, 0.46978792],\n",
       "       [0.2394875 , 0.7605125 ],\n",
       "       [0.04838161, 0.95161839],\n",
       "       [0.96161826, 0.03838174],\n",
       "       [0.94564472, 0.05435528],\n",
       "       [0.70065459, 0.29934541],\n",
       "       [0.70065459, 0.29934541],\n",
       "       [0.80178414, 0.19821586],\n",
       "       [0.96781035, 0.03218965],\n",
       "       [0.9811175 , 0.0188825 ],\n",
       "       [0.31200105, 0.68799895],\n",
       "       [0.93547308, 0.06452692],\n",
       "       [0.5752615 , 0.4247385 ],\n",
       "       [0.35241846, 0.64758154],\n",
       "       [0.95429131, 0.04570869],\n",
       "       [0.31200105, 0.68799895],\n",
       "       [0.17943179, 0.82056821],\n",
       "       [0.85348415, 0.14651585],\n",
       "       [0.77120494, 0.22879506],\n",
       "       [0.98898611, 0.01101389],\n",
       "       [0.31200105, 0.68799895],\n",
       "       [0.73745299, 0.26254701],\n",
       "       [0.80178414, 0.19821586],\n",
       "       [0.73745299, 0.26254701],\n",
       "       [0.70065459, 0.29934541],\n",
       "       [0.89349073, 0.10650927],\n",
       "       [0.61909443, 0.38090557],\n",
       "       [0.66106899, 0.33893101],\n",
       "       [0.2394875 , 0.7605125 ],\n",
       "       [0.98421543, 0.01578457],\n",
       "       [0.66106899, 0.33893101],\n",
       "       [0.80178414, 0.19821586],\n",
       "       [0.04838161, 0.95161839],\n",
       "       [0.82918159, 0.17081841],\n",
       "       [0.0682216 , 0.9317784 ],\n",
       "       [0.95429131, 0.04570869],\n",
       "       [0.39506513, 0.60493487],\n",
       "       [0.2394875 , 0.7605125 ],\n",
       "       [0.80178414, 0.19821586],\n",
       "       [0.05750336, 0.94249664],\n",
       "       [0.95429131, 0.04570869],\n",
       "       [0.5752615 , 0.4247385 ],\n",
       "       [0.39506513, 0.60493487],\n",
       "       [0.93547308, 0.06452692],\n",
       "       [0.66106899, 0.33893101],\n",
       "       [0.95429131, 0.04570869],\n",
       "       [0.80178414, 0.19821586],\n",
       "       [0.89349073, 0.10650927],\n",
       "       [0.90964099, 0.09035901],\n",
       "       [0.53021208, 0.46978792],\n",
       "       [0.35241846, 0.64758154],\n",
       "       [0.80178414, 0.19821586],\n",
       "       [0.87485101, 0.12514899],\n",
       "       [0.73745299, 0.26254701],\n",
       "       [0.39506513, 0.60493487],\n",
       "       [0.80178414, 0.19821586],\n",
       "       [0.87485101, 0.12514899],\n",
       "       [0.04064444, 0.95935556],\n",
       "       [0.04838161, 0.95161839],\n",
       "       [0.96781035, 0.03218965],\n",
       "       [0.73745299, 0.26254701],\n",
       "       [0.93547308, 0.06452692],\n",
       "       [0.80178414, 0.19821586],\n",
       "       [0.93547308, 0.06452692],\n",
       "       [0.77120494, 0.22879506],\n",
       "       [0.95429131, 0.04570869],\n",
       "       [0.73745299, 0.26254701],\n",
       "       [0.93547308, 0.06452692],\n",
       "       [0.94564472, 0.05435528],\n",
       "       [0.73745299, 0.26254701],\n",
       "       [0.96161826, 0.03838174],\n",
       "       [0.73745299, 0.26254701],\n",
       "       [0.35241846, 0.64758154],\n",
       "       [0.80178414, 0.19821586],\n",
       "       [0.53021208, 0.46978792],\n",
       "       [0.61909443, 0.38090557],\n",
       "       [0.61909443, 0.38090557],\n",
       "       [0.39506513, 0.60493487],\n",
       "       [0.92355188, 0.07644812],\n",
       "       [0.61909443, 0.38090557],\n",
       "       [0.80178414, 0.19821586],\n",
       "       [0.53021208, 0.46978792],\n",
       "       [0.35241846, 0.64758154],\n",
       "       [0.89349073, 0.10650927],\n",
       "       [0.98421543, 0.01578457],\n",
       "       [0.80178414, 0.19821586],\n",
       "       [0.85348415, 0.14651585],\n",
       "       [0.89349073, 0.10650927],\n",
       "       [0.97742551, 0.02257449],\n",
       "       [0.97303148, 0.02696852],\n",
       "       [0.35241846, 0.64758154],\n",
       "       [0.82918159, 0.17081841],\n",
       "       [0.43937108, 0.56062892],\n",
       "       [0.61909443, 0.38090557],\n",
       "       [0.95429131, 0.04570869],\n",
       "       [0.95429131, 0.04570869],\n",
       "       [0.35241846, 0.64758154],\n",
       "       [0.95429131, 0.04570869]])"
      ]
     },
     "execution_count": 51,
     "metadata": {},
     "output_type": "execute_result"
    }
   ],
   "source": [
    "Y_proba = df.predict_proba(X_test)\n",
    "Y_proba"
   ]
  },
  {
   "cell_type": "code",
   "execution_count": 52,
   "id": "774972be",
   "metadata": {},
   "outputs": [],
   "source": [
    "sorted_indices = np.argsort(X_test)\n",
    "\n"
   ]
  },
  {
   "cell_type": "code",
   "execution_count": 55,
   "id": "50dd8e51",
   "metadata": {},
   "outputs": [
    {
     "data": {
      "text/plain": [
       "(120, 1, 1)"
      ]
     },
     "execution_count": 55,
     "metadata": {},
     "output_type": "execute_result"
    }
   ],
   "source": [
    "sorted_x.shape"
   ]
  },
  {
   "cell_type": "code",
   "execution_count": 56,
   "id": "87f5cd8b",
   "metadata": {},
   "outputs": [
    {
     "data": {
      "text/plain": [
       "(120, 1, 2)"
      ]
     },
     "execution_count": 56,
     "metadata": {},
     "output_type": "execute_result"
    }
   ],
   "source": [
    "sorted_y.shape"
   ]
  },
  {
   "cell_type": "code",
   "execution_count": 53,
   "id": "c92d1ff5",
   "metadata": {},
   "outputs": [],
   "source": [
    "sorted_x = X_test[sorted_indices]\n",
    "sorted_y = Y_proba[sorted_indices]\n",
    "\n"
   ]
  },
  {
   "cell_type": "code",
   "execution_count": 57,
   "id": "4054b3ac",
   "metadata": {},
   "outputs": [],
   "source": [
    "if len(sorted_x.shape) > 1:\n",
    "    sorted_x = sorted_x.squeeze() \n",
    "if len(sorted_y.shape) > 1:\n",
    "    sorted_y = sorted_y.squeeze()"
   ]
  },
  {
   "cell_type": "code",
   "execution_count": 54,
   "id": "ca282913",
   "metadata": {},
   "outputs": [],
   "source": [
    "#We now use the sorted_indices to arrange / sort X_test and Y_proba in an ascending order."
   ]
  },
  {
   "cell_type": "code",
   "execution_count": 68,
   "id": "5ba4d3cb",
   "metadata": {},
   "outputs": [
    {
     "data": {
      "image/png": "[encoded data removed]",
      "text/plain": [
       "<Figure size 1000x600 with 1 Axes>"
      ]
     },
     "metadata": {},
     "output_type": "display_data"
    }
   ],
   "source": [
    "#Then to create s-shaped curve, we visualize below\n",
    "plt.figure(figsize=(10,6))\n",
    "plt.plot(X_test, Y_proba, color=\"blue\")\n",
    "plt.xlabel(\"x\")\n",
    "plt.ylabel(\"probability\")\n",
    "plt.grid(True)\n",
    "plt.show()\n",
    "\n"
   ]
  },
  {
   "cell_type": "code",
   "execution_count": 59,
   "id": "4b3b7227",
   "metadata": {},
   "outputs": [],
   "source": [
    "#sorted X test"
   ]
  },
  {
   "cell_type": "code",
   "execution_count": 69,
   "id": "86975e55",
   "metadata": {},
   "outputs": [
    {
     "name": "stdout",
     "output_type": "stream",
     "text": [
      "1\n"
     ]
    }
   ],
   "source": [
    "b = np.array([3, 1, 4, 2, 0])\n",
    "print(b.ndim)"
   ]
  },
  {
   "cell_type": "code",
   "execution_count": 70,
   "id": "f9a15edb",
   "metadata": {},
   "outputs": [],
   "source": [
    "sorted_indices_b = np.argsort(b)"
   ]
  },
  {
   "cell_type": "code",
   "execution_count": 71,
   "id": "7327605d",
   "metadata": {},
   "outputs": [
    {
     "data": {
      "text/plain": [
       "array([4, 1, 3, 0, 2], dtype=int64)"
      ]
     },
     "execution_count": 71,
     "metadata": {},
     "output_type": "execute_result"
    }
   ],
   "source": [
    "sorted_indices_b "
   ]
  },
  {
   "cell_type": "code",
   "execution_count": 72,
   "id": "2a1bced9",
   "metadata": {},
   "outputs": [],
   "source": [
    "z = np.array([[13,8,10,6,7,9]])"
   ]
  },
  {
   "cell_type": "code",
   "execution_count": 73,
   "id": "388118d8",
   "metadata": {},
   "outputs": [
    {
     "data": {
      "text/plain": [
       "array([[13,  8, 10,  6,  7,  9]])"
      ]
     },
     "execution_count": 73,
     "metadata": {},
     "output_type": "execute_result"
    }
   ],
   "source": [
    "z"
   ]
  },
  {
   "cell_type": "code",
   "execution_count": 74,
   "id": "84fff93a",
   "metadata": {},
   "outputs": [],
   "source": [
    "#13=0,8=1,10=2,6=3,7=4,9=5\n",
    "#[6,7,8,9,10,13]\n",
    "#[3,4,1,5,2,0]"
   ]
  },
  {
   "cell_type": "code",
   "execution_count": 75,
   "id": "628b300e",
   "metadata": {},
   "outputs": [],
   "source": [
    "sorted_indices_z=np.argsort(z)"
   ]
  },
  {
   "cell_type": "code",
   "execution_count": 76,
   "id": "2a448354",
   "metadata": {},
   "outputs": [
    {
     "data": {
      "text/plain": [
       "array([[3, 4, 1, 5, 2, 0]], dtype=int64)"
      ]
     },
     "execution_count": 76,
     "metadata": {},
     "output_type": "execute_result"
    }
   ],
   "source": [
    "sorted_indices_z"
   ]
  },
  {
   "cell_type": "code",
   "execution_count": null,
   "id": "4cdc0603",
   "metadata": {},
   "outputs": [],
   "source": []
  },
  {
   "cell_type": "code",
   "execution_count": null,
   "id": "07e12760",
   "metadata": {},
   "outputs": [],
   "source": []
  }
 ],
 "metadata": {
  "kernelspec": {
   "display_name": "Python 3 (ipykernel)",
   "language": "python",
   "name": "python3"
  },
  "language_info": {
   "codemirror_mode": {
    "name": "ipython",
    "version": 3
   },
   "file_extension": ".py",
   "mimetype": "text/x-python",
   "name": "python",
   "nbconvert_exporter": "python",
   "pygments_lexer": "ipython3",
   "version": "3.11.5"
  }
 },
 "nbformat": 4,
 "nbformat_minor": 5
}
